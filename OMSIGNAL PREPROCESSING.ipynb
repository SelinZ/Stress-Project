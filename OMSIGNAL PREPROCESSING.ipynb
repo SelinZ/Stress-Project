{
 "cells": [
  {
   "cell_type": "code",
   "execution_count": 1,
   "id": "6039e77d",
   "metadata": {},
   "outputs": [],
   "source": [
    "import pandas as pd\n",
    "import numpy as np\n",
    "from pandas import Series, DataFrame"
   ]
  },
  {
   "cell_type": "code",
   "execution_count": 2,
   "id": "d6bd599c",
   "metadata": {},
   "outputs": [],
   "source": [
    "#import os\n",
    "#os.getcwd()"
   ]
  },
  {
   "cell_type": "code",
   "execution_count": 3,
   "id": "8d60212e",
   "metadata": {},
   "outputs": [],
   "source": [
    "import pandas as pd\n",
    "import glob, os\n",
    "\n",
    "\n",
    "files = glob.glob('/Users/selinzobu/Desktop/TILES/TILES Data/omsignal/features/*.csv')\n",
    "#print(len(files)) #199 participants\n",
    "#print (files)\n",
    "\n",
    "#['samples_for_so\\\\a.csv', 'samples_for_so\\\\b.csv', 'samples_for_so\\\\c.csv']\n",
    "\n",
    "\n",
    "#OM = pd.concat([pd.read_csv(fp).assign(participant_id=os.path.basename(fp)) for fp in files])\n",
    "#print (len(OM))"
   ]
  },
  {
   "cell_type": "code",
   "execution_count": 4,
   "id": "30b9c52a",
   "metadata": {},
   "outputs": [],
   "source": [
    "all_dfs = []\n",
    "\n",
    "for file in files:\n",
    "    #print(f'Loading {file}')\n",
    "    new_df = pd.read_csv(file, usecols= ['Timestamp',\n",
    "       'AvgBreathingDepth','AvgBreathingRate', 'AvgGForce', 'AvgHeartRate', \n",
    "        'AvgXAccel_g', 'AvgYAccel_g', 'AvgZAccel_g',  'RMSStdDev_ms', 'RRPeakCoverage', 'SDNN_ms', 'StdDevBreathingDepth',\n",
    "       'StdDevBreathingRate', 'StdDevGForce', 'StdDevXAccel_g',\n",
    "       'StdDevYAccel_g', 'StdDevZAccel_g'])\n",
    "    new_df['participant_id'] = f'{file}'\n",
    "    \n",
    "    all_dfs.append(new_df)"
   ]
  },
  {
   "cell_type": "code",
   "execution_count": 5,
   "id": "00c2cf61",
   "metadata": {},
   "outputs": [
    {
     "name": "stdout",
     "output_type": "stream",
     "text": [
      "Index(['Timestamp', 'BreathingDepth', 'BreathingRate', 'Cadence', 'HeartRate',\n",
      "       'Intensity', 'Steps', 'AngleFromVertical_rad', 'AvgBreathingDepth',\n",
      "       'AvgBreathingRate', 'AvgGForce', 'AvgHeartRate', 'AvgXAccel_g',\n",
      "       'AvgYAccel_g', 'AvgZAccel_g', 'Sitting', 'Supine', 'LowGCoverage',\n",
      "       'RMSStdDev_ms', 'RRPeakCoverage', 'SDNN_ms', 'StdDevBreathingDepth',\n",
      "       'StdDevBreathingRate', 'StdDevGForce', 'StdDevXAccel_g',\n",
      "       'StdDevYAccel_g', 'StdDevZAccel_g', 'RR0', 'RR1', 'RR2', 'RR3'],\n",
      "      dtype='object')\n",
      "                  Timestamp  BreathingDepth  BreathingRate  Cadence  \\\n",
      "0 2018-05-12 18:52:28-07:00             NaN            NaN      NaN   \n",
      "1 2018-05-12 18:52:29-07:00             NaN            NaN      0.0   \n",
      "2 2018-05-12 18:52:30-07:00             NaN            NaN      0.0   \n",
      "3 2018-05-12 18:52:31-07:00             NaN            NaN      0.0   \n",
      "4 2018-05-12 18:52:32-07:00             NaN            NaN      0.0   \n",
      "\n",
      "   HeartRate  Intensity  Steps  AngleFromVertical_rad  AvgBreathingDepth  \\\n",
      "0        NaN        NaN    NaN                    NaN                NaN   \n",
      "1        NaN   0.020381    0.0                    NaN                NaN   \n",
      "2        NaN   0.028992    0.0                    NaN                NaN   \n",
      "3        NaN   0.024695    0.0                    NaN                NaN   \n",
      "4  77.677946   0.011696    0.0                    NaN                NaN   \n",
      "\n",
      "   AvgBreathingRate  ...  StdDevBreathingDepth  StdDevBreathingRate  \\\n",
      "0               NaN  ...                   NaN                  NaN   \n",
      "1               NaN  ...                   NaN                  NaN   \n",
      "2               NaN  ...                   NaN                  NaN   \n",
      "3               NaN  ...                   NaN                  NaN   \n",
      "4               NaN  ...                   NaN                  NaN   \n",
      "\n",
      "   StdDevGForce  StdDevXAccel_g  StdDevYAccel_g  StdDevZAccel_g    RR0    RR1  \\\n",
      "0           NaN             NaN             NaN             NaN  204.0    NaN   \n",
      "1           NaN             NaN             NaN             NaN  196.0    NaN   \n",
      "2           NaN             NaN             NaN             NaN  201.0    NaN   \n",
      "3           NaN             NaN             NaN             NaN  200.0  195.0   \n",
      "4           NaN             NaN             NaN             NaN  190.0    NaN   \n",
      "\n",
      "   RR2  RR3  \n",
      "0  NaN  NaN  \n",
      "1  NaN  NaN  \n",
      "2  NaN  NaN  \n",
      "3  NaN  NaN  \n",
      "4  NaN  NaN  \n",
      "\n",
      "[5 rows x 31 columns]\n"
     ]
    }
   ],
   "source": [
    "p2 = pd.read_csv('/Users/selinzobu/Desktop/TILES/TILES Data/omsignal/features/ba240e43-900d-4477-8718-b9487ed24d7d.csv', parse_dates = ['Timestamp'])\n",
    "\n",
    "print((p2.columns))\n",
    "print((p2.head()))"
   ]
  },
  {
   "cell_type": "code",
   "execution_count": 6,
   "id": "dd3f9d0d",
   "metadata": {},
   "outputs": [
    {
     "name": "stdout",
     "output_type": "stream",
     "text": [
      "199\n",
      "<class 'pandas.core.frame.DataFrame'>\n",
      "<class 'list'>\n"
     ]
    }
   ],
   "source": [
    "print(len(all_dfs)) #199 particip\n",
    "print(type(all_dfs[0]))\n",
    "print(type(all_dfs))"
   ]
  },
  {
   "cell_type": "code",
   "execution_count": 7,
   "id": "0763a92c",
   "metadata": {},
   "outputs": [],
   "source": [
    "OM = pd.concat(all_dfs,\n",
    "    axis=0,\n",
    "    join=\"outer\",\n",
    "    ignore_index=False,\n",
    "    keys=None,\n",
    "    levels=None,\n",
    "    names=None,\n",
    "    verify_integrity=False,\n",
    "    copy=True)"
   ]
  },
  {
   "cell_type": "code",
   "execution_count": 8,
   "id": "eb0a45b2",
   "metadata": {},
   "outputs": [
    {
     "name": "stdout",
     "output_type": "stream",
     "text": [
      "(167037652, 18)\n",
      "(551765, 18)\n"
     ]
    }
   ],
   "source": [
    "#drop a row if any of its values are missing\n",
    "\n",
    "print(OM.shape)#(167037652, 18)\n",
    "OM.dropna(how = 'any', inplace = True)\n",
    "print(OM.shape)#(551765, 18)"
   ]
  },
  {
   "cell_type": "code",
   "execution_count": 9,
   "id": "c4591f87",
   "metadata": {},
   "outputs": [
    {
     "name": "stdout",
     "output_type": "stream",
     "text": [
      "                          Timestamp  AvgBreathingDepth  AvgBreathingRate  \\\n",
      "300   2018-05-07T06:26:31.000-07:00           8.383838         22.034967   \n",
      "601   2018-05-07T06:31:31.000-07:00           9.117117         25.456288   \n",
      "901   2018-05-07T06:36:31.000-07:00           5.438202         19.447249   \n",
      "1201  2018-05-07T06:41:31.000-07:00           4.780822         19.361490   \n",
      "1502  2018-05-07T06:46:31.000-07:00           5.352941         20.724051   \n",
      "\n",
      "      AvgGForce  AvgHeartRate  AvgXAccel_g  AvgYAccel_g  AvgZAccel_g  \\\n",
      "300    0.126191     92.308322    -0.700388     0.351154    -0.346906   \n",
      "601    0.381981    104.606228    -0.805678     0.234999    -0.198497   \n",
      "901    0.045566     73.867437    -0.976104     0.027229    -0.063092   \n",
      "1201   0.036021     72.912969    -0.974498     0.052450    -0.054859   \n",
      "1502   0.040741     74.607701    -0.975783     0.041124    -0.092610   \n",
      "\n",
      "      RMSStdDev_ms  RRPeakCoverage     SDNN_ms  StdDevBreathingDepth  \\\n",
      "300      32.039420        0.977160   91.748981              6.648165   \n",
      "601      49.802333        0.900520  129.298276              4.660743   \n",
      "901      65.734821        0.936813   67.427589              3.586449   \n",
      "1201     61.004179        0.976507   64.482345              2.897540   \n",
      "1502     56.445098        0.986493   66.365685              3.022558   \n",
      "\n",
      "      StdDevBreathingRate  StdDevGForce  StdDevXAccel_g  StdDevYAccel_g  \\\n",
      "300              2.569060      0.131245        0.381939        0.302689   \n",
      "601              3.005212      0.359368        0.362434        0.298751   \n",
      "901              1.237596      0.038897        0.023349        0.076135   \n",
      "1201             0.875203      0.028835        0.018889        0.057922   \n",
      "1502             0.828340      0.023807        0.021689        0.085389   \n",
      "\n",
      "      StdDevZAccel_g                                     participant_id  \n",
      "300         0.167244  /Users/selinzobu/Desktop/TILES/TILES Data/omsi...  \n",
      "601         0.222775  /Users/selinzobu/Desktop/TILES/TILES Data/omsi...  \n",
      "901         0.056512  /Users/selinzobu/Desktop/TILES/TILES Data/omsi...  \n",
      "1201        0.049131  /Users/selinzobu/Desktop/TILES/TILES Data/omsi...  \n",
      "1502        0.064962  /Users/selinzobu/Desktop/TILES/TILES Data/omsi...  \n"
     ]
    }
   ],
   "source": [
    "print(OM.head())"
   ]
  },
  {
   "cell_type": "code",
   "execution_count": 10,
   "id": "7903de8d",
   "metadata": {},
   "outputs": [],
   "source": [
    "OM['participant_id'] = OM['participant_id'].map(lambda x: x.rstrip('.csv')).map(lambda x: x.replace('/Users/selinzobu/Desktop/TILES/TILES Data/omsignal/features/', ''))"
   ]
  },
  {
   "cell_type": "code",
   "execution_count": 11,
   "id": "552c8862",
   "metadata": {},
   "outputs": [
    {
     "name": "stdout",
     "output_type": "stream",
     "text": [
      "300     e6081755-d7f3-4c26-ab40-0709b8ad41ef\n",
      "601     e6081755-d7f3-4c26-ab40-0709b8ad41ef\n",
      "901     e6081755-d7f3-4c26-ab40-0709b8ad41ef\n",
      "1201    e6081755-d7f3-4c26-ab40-0709b8ad41ef\n",
      "1502    e6081755-d7f3-4c26-ab40-0709b8ad41ef\n",
      "Name: participant_id, dtype: object\n"
     ]
    }
   ],
   "source": [
    "print(OM['participant_id'].head())"
   ]
  },
  {
   "cell_type": "code",
   "execution_count": 12,
   "id": "43711043",
   "metadata": {},
   "outputs": [],
   "source": [
    "os.makedirs('/Users/selinzobu/Desktop/TILES/', exist_ok=True)  \n",
    "OM.to_csv('/Users/selinzobu/Desktop/TILES/OMSignal1.csv') "
   ]
  },
  {
   "cell_type": "code",
   "execution_count": 13,
   "id": "e65b477d",
   "metadata": {},
   "outputs": [],
   "source": [
    "#Continue from here\n",
    "\n",
    "import pandas as pd\n",
    "import numpy as np\n",
    "from pandas import Series, DataFrame\n",
    "\n",
    "OM = pd.read_csv('/Users/selinzobu/Desktop/TILES/OMSignal1.csv', parse_dates = ['Timestamp'])\n",
    "OM = OM.loc[:, ~OM.columns.str.contains('^Unnamed')]"
   ]
  },
  {
   "cell_type": "code",
   "execution_count": 4,
   "id": "d84b2902",
   "metadata": {},
   "outputs": [
    {
     "name": "stdout",
     "output_type": "stream",
     "text": [
      "                   Timestamp  AvgBreathingDepth  AvgBreathingRate  AvgGForce  \\\n",
      "0  2018-05-07 06:26:31-07:00           8.383838         22.034967   0.126191   \n",
      "1  2018-05-07 06:31:31-07:00           9.117117         25.456288   0.381981   \n",
      "2  2018-05-07 06:36:31-07:00           5.438202         19.447249   0.045566   \n",
      "3  2018-05-07 06:41:31-07:00           4.780822         19.361490   0.036021   \n",
      "4  2018-05-07 06:46:31-07:00           5.352941         20.724051   0.040741   \n",
      "\n",
      "   AvgHeartRate  AvgXAccel_g  AvgYAccel_g  AvgZAccel_g  RMSStdDev_ms  \\\n",
      "0     92.308322    -0.700388     0.351154    -0.346906     32.039420   \n",
      "1    104.606228    -0.805678     0.234999    -0.198497     49.802333   \n",
      "2     73.867437    -0.976104     0.027229    -0.063092     65.734821   \n",
      "3     72.912969    -0.974498     0.052450    -0.054859     61.004179   \n",
      "4     74.607701    -0.975783     0.041124    -0.092610     56.445098   \n",
      "\n",
      "   RRPeakCoverage     SDNN_ms  StdDevBreathingDepth  StdDevBreathingRate  \\\n",
      "0        0.977160   91.748981              6.648165             2.569060   \n",
      "1        0.900520  129.298276              4.660743             3.005212   \n",
      "2        0.936813   67.427589              3.586449             1.237596   \n",
      "3        0.976507   64.482345              2.897540             0.875203   \n",
      "4        0.986493   66.365685              3.022558             0.828340   \n",
      "\n",
      "   StdDevGForce  StdDevXAccel_g  StdDevYAccel_g  StdDevZAccel_g  \\\n",
      "0      0.131245        0.381939        0.302689        0.167244   \n",
      "1      0.359368        0.362434        0.298751        0.222775   \n",
      "2      0.038897        0.023349        0.076135        0.056512   \n",
      "3      0.028835        0.018889        0.057922        0.049131   \n",
      "4      0.023807        0.021689        0.085389        0.064962   \n",
      "\n",
      "                         participant_id  \n",
      "0  e6081755-d7f3-4c26-ab40-0709b8ad41ef  \n",
      "1  e6081755-d7f3-4c26-ab40-0709b8ad41ef  \n",
      "2  e6081755-d7f3-4c26-ab40-0709b8ad41ef  \n",
      "3  e6081755-d7f3-4c26-ab40-0709b8ad41ef  \n",
      "4  e6081755-d7f3-4c26-ab40-0709b8ad41ef  \n"
     ]
    }
   ],
   "source": [
    "print(OM.head()) #(551765, 18) OM"
   ]
  },
  {
   "cell_type": "code",
   "execution_count": 5,
   "id": "21979361",
   "metadata": {},
   "outputs": [
    {
     "name": "stderr",
     "output_type": "stream",
     "text": [
      "/var/folders/wd/1sxcpd491kg32hysvmfw5d3r0000gn/T/ipykernel_2838/3098611546.py:2: UserWarning: Boolean Series key will be reindexed to match DataFrame index.\n",
      "  b = a[(OM['SDNN_ms'] < 172.7) & (OM['SDNN_ms'] > 6.7)]\n",
      "/var/folders/wd/1sxcpd491kg32hysvmfw5d3r0000gn/T/ipykernel_2838/3098611546.py:3: UserWarning: Boolean Series key will be reindexed to match DataFrame index.\n",
      "  c = b[(OM['AvgBreathingRate'] < 36.1) & (OM['AvgBreathingRate'] > 8)]\n"
     ]
    }
   ],
   "source": [
    "a = OM[(OM['RMSStdDev_ms'] < 213) & (OM['RMSStdDev_ms'] > 8)]#[551765 rows x 18 columns]\n",
    "b = a[(OM['SDNN_ms'] < 172.7) & (OM['SDNN_ms'] > 6.7)]\n",
    "c = b[(OM['AvgBreathingRate'] < 36.1) & (OM['AvgBreathingRate'] > 8)]\n"
   ]
  },
  {
   "cell_type": "code",
   "execution_count": 6,
   "id": "3a8ad807",
   "metadata": {},
   "outputs": [
    {
     "data": {
      "text/plain": [
       "count    551765.000000\n",
       "mean         23.444021\n",
       "std           4.806554\n",
       "min           0.000000\n",
       "25%          20.357085\n",
       "50%          23.092198\n",
       "75%          26.119213\n",
       "max          66.518828\n",
       "Name: AvgBreathingRate, dtype: float64"
      ]
     },
     "execution_count": 6,
     "metadata": {},
     "output_type": "execute_result"
    }
   ],
   "source": [
    "OM['AvgBreathingRate'].describe()"
   ]
  },
  {
   "cell_type": "code",
   "execution_count": 7,
   "id": "5ba7807d",
   "metadata": {},
   "outputs": [
    {
     "data": {
      "text/plain": [
       "count    505945.000000\n",
       "mean         23.197437\n",
       "std           4.212908\n",
       "min           8.104384\n",
       "25%          20.259476\n",
       "50%          22.941271\n",
       "75%          25.884799\n",
       "max          36.098129\n",
       "Name: AvgBreathingRate, dtype: float64"
      ]
     },
     "execution_count": 7,
     "metadata": {},
     "output_type": "execute_result"
    }
   ],
   "source": [
    "c['AvgBreathingRate'].describe()"
   ]
  },
  {
   "cell_type": "code",
   "execution_count": 8,
   "id": "9bf09621",
   "metadata": {},
   "outputs": [
    {
     "data": {
      "text/plain": [
       "count    551765.000000\n",
       "mean         67.928352\n",
       "std          42.508634\n",
       "min           0.000000\n",
       "25%          40.410949\n",
       "50%          56.798410\n",
       "75%          82.046285\n",
       "max         486.145657\n",
       "Name: SDNN_ms, dtype: float64"
      ]
     },
     "execution_count": 8,
     "metadata": {},
     "output_type": "execute_result"
    }
   ],
   "source": [
    "OM['SDNN_ms'].describe()"
   ]
  },
  {
   "cell_type": "code",
   "execution_count": 9,
   "id": "1ac5f2bb",
   "metadata": {},
   "outputs": [
    {
     "data": {
      "text/plain": [
       "count    505945.000000\n",
       "mean         64.508403\n",
       "std          31.920786\n",
       "min           6.928203\n",
       "25%          41.464853\n",
       "50%          56.751704\n",
       "75%          79.297587\n",
       "max         172.699689\n",
       "Name: SDNN_ms, dtype: float64"
      ]
     },
     "execution_count": 9,
     "metadata": {},
     "output_type": "execute_result"
    }
   ],
   "source": [
    "c['SDNN_ms'].describe()"
   ]
  },
  {
   "cell_type": "code",
   "execution_count": 10,
   "id": "d7d88070",
   "metadata": {},
   "outputs": [
    {
     "data": {
      "text/plain": [
       "count    551765.000000\n",
       "mean         50.364258\n",
       "std          42.200098\n",
       "min           0.000000\n",
       "25%          21.745541\n",
       "50%          36.968546\n",
       "75%          64.143900\n",
       "max         550.069087\n",
       "Name: RMSStdDev_ms, dtype: float64"
      ]
     },
     "execution_count": 10,
     "metadata": {},
     "output_type": "execute_result"
    }
   ],
   "source": [
    "OM['RMSStdDev_ms'].describe()"
   ]
  },
  {
   "cell_type": "code",
   "execution_count": 11,
   "id": "33d5c1bd",
   "metadata": {},
   "outputs": [
    {
     "data": {
      "text/plain": [
       "count    505945.000000\n",
       "mean         47.445887\n",
       "std          34.489413\n",
       "min           8.001742\n",
       "25%          22.753948\n",
       "50%          36.966747\n",
       "75%          61.062154\n",
       "max         212.978872\n",
       "Name: RMSStdDev_ms, dtype: float64"
      ]
     },
     "execution_count": 11,
     "metadata": {},
     "output_type": "execute_result"
    }
   ],
   "source": [
    "c['RMSStdDev_ms'].describe()"
   ]
  },
  {
   "cell_type": "code",
   "execution_count": null,
   "id": "6d3a8661",
   "metadata": {},
   "outputs": [],
   "source": [
    "#RMSSD (heart rate variability) 8 - 213\n",
    "\n",
    "#SDNN (heart rate variability) 6.7 - 172.7\n",
    "\n",
    "#Average breathing rate 8 - 36.1"
   ]
  },
  {
   "cell_type": "code",
   "execution_count": 12,
   "id": "d907e573",
   "metadata": {},
   "outputs": [
    {
     "name": "stdout",
     "output_type": "stream",
     "text": [
      "21771\n",
      "24192\n",
      "9140\n",
      "Int64Index([   984,   2654,   2978,   3529,   4195,   4214,   4215,   4283,\n",
      "              4320,   4377,\n",
      "            ...\n",
      "            548773, 549234, 549236, 549864, 549866, 549875, 549888, 549892,\n",
      "            549893, 550576],\n",
      "           dtype='int64', length=21771)\n",
      "\n",
      "Int64Index([    47,     55,    160,    174,    317,    406,    409,    587,\n",
      "               648,    868,\n",
      "            ...\n",
      "            548312, 548318, 548322, 548323, 548325, 549234, 549236, 550754,\n",
      "            550755, 550756],\n",
      "           dtype='int64', length=24192)\n",
      "\n",
      "Int64Index([  7899,   7900,   7901,   7902,   7903,   7937,   7963,   8011,\n",
      "              8012,   8048,\n",
      "            ...\n",
      "            551585, 551632, 551693, 551700, 551721, 551722, 551723, 551730,\n",
      "            551735, 551736],\n",
      "           dtype='int64', length=9140)\n"
     ]
    }
   ],
   "source": [
    "ao = OM[(OM['RMSStdDev_ms'] > 213) | (OM['RMSStdDev_ms'] < 8)] #21771\n",
    "bo = OM[(OM['SDNN_ms'] > 172.7) | (OM['SDNN_ms'] < 6.7)] #24192\n",
    "co = OM[(OM['AvgBreathingRate'] > 36.1) | (OM['AvgBreathingRate'] < 8)] #9140\n",
    "\n",
    "print(len(ao))\n",
    "print(len(bo))\n",
    "print(len(co))\n",
    "\n",
    "print((ao.index))\n",
    "print()\n",
    "print((bo.index))\n",
    "print()\n",
    "print((co.index))"
   ]
  },
  {
   "cell_type": "code",
   "execution_count": 13,
   "id": "7a02caa6",
   "metadata": {},
   "outputs": [
    {
     "name": "stdout",
     "output_type": "stream",
     "text": [
      "                        Timestamp  AvgBreathingDepth  AvgBreathingRate  \\\n",
      "984     2018-04-24 17:50:03-07:00           4.266667         20.764241   \n",
      "2654    2018-05-16 06:52:23-07:00           9.912162         30.817734   \n",
      "2978    2018-05-17 06:52:01-07:00          10.410448         27.865116   \n",
      "3529    2018-05-01 18:49:27-07:00           2.478261         20.334640   \n",
      "4195    2018-04-17 18:21:08-07:00           3.162162         18.834950   \n",
      "...                           ...                ...               ...   \n",
      "549875  2018-04-16 23:05:04-07:00           5.972414         35.105877   \n",
      "549888  2018-04-17 00:10:04-07:00           2.442623         27.199089   \n",
      "549892  2018-04-17 00:30:04-07:00           5.565891         29.650925   \n",
      "549893  2018-04-17 00:35:04-07:00           5.275591         29.764159   \n",
      "550576  2018-04-20 04:10:09-07:00           5.312500         30.717452   \n",
      "\n",
      "        AvgGForce  AvgHeartRate  AvgXAccel_g  AvgYAccel_g  AvgZAccel_g  \\\n",
      "984      0.035644     55.650023    -0.845622     0.164900    -0.461446   \n",
      "2654     0.535003    137.791070    -0.916640     0.165527    -0.300879   \n",
      "2978     0.290971    139.693239    -0.938700     0.115794    -0.265060   \n",
      "3529     0.014361     51.256884    -0.938153    -0.274779    -0.039076   \n",
      "4195     0.014745     52.374675    -0.964980    -0.000723    -0.204418   \n",
      "...           ...           ...          ...          ...          ...   \n",
      "549875   0.141489    112.687313    -0.940384     0.215158    -0.037062   \n",
      "549888   0.051268    100.545035    -0.943213     0.107992     0.292651   \n",
      "549892   0.108721    104.302912    -0.951365     0.193333     0.163896   \n",
      "549893   0.086062    114.007397    -0.962309     0.234818     0.024788   \n",
      "550576   0.114803    109.826358    -0.977548     0.121510    -0.003207   \n",
      "\n",
      "        RMSStdDev_ms  RRPeakCoverage     SDNN_ms  StdDevBreathingDepth  \\\n",
      "984       213.659409        0.862533  167.808934              1.613148   \n",
      "2654        5.683552        0.998613   88.376409              3.619541   \n",
      "2978        7.712282        0.969267   72.847282              5.358168   \n",
      "3529      224.433881        0.733560  150.084503              2.419726   \n",
      "4195      238.271726        0.748453  176.854095              1.041194   \n",
      "...              ...             ...         ...                   ...   \n",
      "549875      7.901705        1.001000   22.106452              3.521649   \n",
      "549888      5.373685        1.000547   15.308184              1.206382   \n",
      "549892      7.994229        0.999013   45.026340              4.253390   \n",
      "549893      7.528992        0.984147   29.479033              3.382206   \n",
      "550576      6.698949        0.999760   19.533092              3.898688   \n",
      "\n",
      "        StdDevBreathingRate  StdDevGForce  StdDevXAccel_g  StdDevYAccel_g  \\\n",
      "984                1.008421      0.016627        0.043977        0.026335   \n",
      "2654               2.022225      0.222483        0.174324        0.108734   \n",
      "2978               2.686439      0.208959        0.141256        0.122118   \n",
      "3529               1.414649      0.011528        0.039394        0.078227   \n",
      "4195               0.625344      0.009937        0.012452        0.023964   \n",
      "...                     ...           ...             ...             ...   \n",
      "549875             4.819107      0.133802        0.094623        0.191155   \n",
      "549888             3.093424      0.018333        0.036852        0.089790   \n",
      "549892             7.160860      0.085569        0.068022        0.127957   \n",
      "549893             3.589570      0.057792        0.067477        0.116470   \n",
      "550576             5.000645      0.118878        0.066615        0.155820   \n",
      "\n",
      "        StdDevZAccel_g                        participant_id  \n",
      "984           0.082915  e6081755-d7f3-4c26-ab40-0709b8ad41ef  \n",
      "2654          0.125108  e6081755-d7f3-4c26-ab40-0709b8ad41ef  \n",
      "2978          0.130760  e6081755-d7f3-4c26-ab40-0709b8ad41ef  \n",
      "3529          0.035138  e6081755-d7f3-4c26-ab40-0709b8ad41ef  \n",
      "4195          0.014643  e6081755-d7f3-4c26-ab40-0709b8ad41ef  \n",
      "...                ...                                   ...  \n",
      "549875        0.205853  f983485d-f954-4693-9c2c-981710c06dd0  \n",
      "549888        0.116153  f983485d-f954-4693-9c2c-981710c06dd0  \n",
      "549892        0.176964  f983485d-f954-4693-9c2c-981710c06dd0  \n",
      "549893        0.117035  f983485d-f954-4693-9c2c-981710c06dd0  \n",
      "550576        0.115741  f983485d-f954-4693-9c2c-981710c06dd0  \n",
      "\n",
      "[21771 rows x 18 columns]\n"
     ]
    }
   ],
   "source": [
    "print(ao)"
   ]
  },
  {
   "cell_type": "code",
   "execution_count": 14,
   "id": "88358b69",
   "metadata": {},
   "outputs": [
    {
     "data": {
      "text/plain": [
       "(529954, 18)"
      ]
     },
     "execution_count": 14,
     "metadata": {},
     "output_type": "execute_result"
    }
   ],
   "source": [
    "a.shape #(529954, 18)  551765 - 21771"
   ]
  },
  {
   "cell_type": "code",
   "execution_count": 15,
   "id": "43d35ee7",
   "metadata": {},
   "outputs": [
    {
     "data": {
      "text/plain": [
       "(513966, 18)"
      ]
     },
     "execution_count": 15,
     "metadata": {},
     "output_type": "execute_result"
    }
   ],
   "source": [
    "b.shape #(513966, 18) "
   ]
  },
  {
   "cell_type": "code",
   "execution_count": 16,
   "id": "b0036c06",
   "metadata": {},
   "outputs": [
    {
     "data": {
      "text/plain": [
       "(505945, 18)"
      ]
     },
     "execution_count": 16,
     "metadata": {},
     "output_type": "execute_result"
    }
   ],
   "source": [
    "c.shape #(505945, 18)"
   ]
  },
  {
   "cell_type": "code",
   "execution_count": 17,
   "id": "ae7407ec",
   "metadata": {},
   "outputs": [
    {
     "name": "stdout",
     "output_type": "stream",
     "text": [
      "                        Timestamp  AvgBreathingDepth  AvgBreathingRate  \\\n",
      "0       2018-05-07 06:26:31-07:00           8.383838         22.034967   \n",
      "1       2018-05-07 06:31:31-07:00           9.117117         25.456288   \n",
      "2       2018-05-07 06:36:31-07:00           5.438202         19.447249   \n",
      "3       2018-05-07 06:41:31-07:00           4.780822         19.361490   \n",
      "4       2018-05-07 06:46:31-07:00           5.352941         20.724051   \n",
      "...                           ...                ...               ...   \n",
      "551760  2018-05-03 09:37:43-07:00           3.666667         20.682584   \n",
      "551761  2018-05-03 09:42:43-07:00           1.903226         19.484050   \n",
      "551762  2018-05-03 09:47:43-07:00           3.611111         22.282361   \n",
      "551763  2018-05-03 09:52:43-07:00           6.482143         20.059969   \n",
      "551764  2018-05-03 17:48:56-07:00          10.066667         29.113603   \n",
      "\n",
      "        AvgGForce  AvgHeartRate  AvgXAccel_g  AvgYAccel_g  AvgZAccel_g  \\\n",
      "0        0.126191     92.308322    -0.700388     0.351154    -0.346906   \n",
      "1        0.381981    104.606228    -0.805678     0.234999    -0.198497   \n",
      "2        0.045566     73.867437    -0.976104     0.027229    -0.063092   \n",
      "3        0.036021     72.912969    -0.974498     0.052450    -0.054859   \n",
      "4        0.040741     74.607701    -0.975783     0.041124    -0.092610   \n",
      "...           ...           ...          ...          ...          ...   \n",
      "551760   0.018323     78.506700    -0.789799    -0.185663     0.461687   \n",
      "551761   0.021540     74.870532    -0.859357    -0.236667     0.341888   \n",
      "551762   0.028038     76.140076    -0.832343    -0.201604     0.413139   \n",
      "551763   0.051138     83.406064    -0.876082    -0.024096     0.219010   \n",
      "551764   0.298609     89.922923    -0.909639     0.062410     0.011807   \n",
      "\n",
      "        RMSStdDev_ms  RRPeakCoverage     SDNN_ms  StdDevBreathingDepth  \\\n",
      "0          32.039420        0.977160   91.748981              6.648165   \n",
      "1          49.802333        0.900520  129.298276              4.660743   \n",
      "2          65.734821        0.936813   67.427589              3.586449   \n",
      "3          61.004179        0.976507   64.482345              2.897540   \n",
      "4          56.445098        0.986493   66.365685              3.022558   \n",
      "...              ...             ...         ...                   ...   \n",
      "551760     30.973272        0.996093   66.845791              5.306020   \n",
      "551761     31.156904        0.996387   48.197794              1.193171   \n",
      "551762     30.472195        0.987653   64.382189              3.089620   \n",
      "551763     41.107016        0.947173   90.765558              7.370682   \n",
      "551764     58.860729        0.093413   53.892309              8.899973   \n",
      "\n",
      "        StdDevBreathingRate  StdDevGForce  StdDevXAccel_g  StdDevYAccel_g  \\\n",
      "0                  2.569060      0.131245        0.381939        0.302689   \n",
      "1                  3.005212      0.359368        0.362434        0.298751   \n",
      "2                  1.237596      0.038897        0.023349        0.076135   \n",
      "3                  0.875203      0.028835        0.018889        0.057922   \n",
      "4                  0.828340      0.023807        0.021689        0.085389   \n",
      "...                     ...           ...             ...             ...   \n",
      "551760             0.528301      0.014419        0.118978        0.140136   \n",
      "551761             2.472962      0.012455        0.069285        0.156263   \n",
      "551762             2.902368      0.078316        0.053122        0.155875   \n",
      "551763             3.993379      0.082948        0.120981        0.268138   \n",
      "551764             5.687872      1.205007        0.198484        0.201586   \n",
      "\n",
      "        StdDevZAccel_g                        participant_id  \n",
      "0             0.167244  e6081755-d7f3-4c26-ab40-0709b8ad41ef  \n",
      "1             0.222775  e6081755-d7f3-4c26-ab40-0709b8ad41ef  \n",
      "2             0.056512  e6081755-d7f3-4c26-ab40-0709b8ad41ef  \n",
      "3             0.049131  e6081755-d7f3-4c26-ab40-0709b8ad41ef  \n",
      "4             0.064962  e6081755-d7f3-4c26-ab40-0709b8ad41ef  \n",
      "...                ...                                   ...  \n",
      "551760        0.168607  f983485d-f954-4693-9c2c-981710c06dd0  \n",
      "551761        0.111866  f983485d-f954-4693-9c2c-981710c06dd0  \n",
      "551762        0.079638  f983485d-f954-4693-9c2c-981710c06dd0  \n",
      "551763        0.241290  f983485d-f954-4693-9c2c-981710c06dd0  \n",
      "551764        0.295214  f983485d-f954-4693-9c2c-981710c06dd0  \n",
      "\n",
      "[505945 rows x 18 columns]\n"
     ]
    }
   ],
   "source": [
    "print(c)"
   ]
  },
  {
   "cell_type": "code",
   "execution_count": 18,
   "id": "dc9edc2d",
   "metadata": {},
   "outputs": [
    {
     "data": {
      "text/plain": [
       "885170be-d945-427d-bd3a-b0524ddc3105    7303\n",
       "658adbe4-781c-45f9-92a7-14912fcd0701    6425\n",
       "0ec84778-1a98-4cd7-aa11-05997ddadd52    6064\n",
       "6fb467a6-a780-4753-9fda-269594a5b928    5555\n",
       "fd79ab30-1199-4619-adbd-577d715d86ce    5468\n",
       "                                        ... \n",
       "1b1bcdb5-00eb-4a8c-8c05-a70d678ca0f8     239\n",
       "a0fce948-41d2-4070-bad2-ab8d17bf97d8     223\n",
       "803be457-cee4-4f3f-9540-ff574c57c697     143\n",
       "edec36ec-64c2-4cf8-af5c-99f4c8972d30     102\n",
       "dcc3e9ff-9c05-4e17-9798-fd5114be77a9      97\n",
       "Name: participant_id, Length: 199, dtype: int64"
      ]
     },
     "execution_count": 18,
     "metadata": {},
     "output_type": "execute_result"
    }
   ],
   "source": [
    "OM['participant_id'].value_counts()"
   ]
  },
  {
   "cell_type": "code",
   "execution_count": 19,
   "id": "454d7895",
   "metadata": {},
   "outputs": [
    {
     "data": {
      "text/plain": [
       "885170be-d945-427d-bd3a-b0524ddc3105    6807\n",
       "0ec84778-1a98-4cd7-aa11-05997ddadd52    5865\n",
       "658adbe4-781c-45f9-92a7-14912fcd0701    5651\n",
       "6fb467a6-a780-4753-9fda-269594a5b928    5271\n",
       "05dedb61-63bc-44e3-8e28-a5d32d91f7e9    5183\n",
       "                                        ... \n",
       "997c6352-6724-4985-b48c-9c3f08437964     182\n",
       "a0fce948-41d2-4070-bad2-ab8d17bf97d8     172\n",
       "803be457-cee4-4f3f-9540-ff574c57c697     141\n",
       "edec36ec-64c2-4cf8-af5c-99f4c8972d30     101\n",
       "dcc3e9ff-9c05-4e17-9798-fd5114be77a9      50\n",
       "Name: participant_id, Length: 199, dtype: int64"
      ]
     },
     "execution_count": 19,
     "metadata": {},
     "output_type": "execute_result"
    }
   ],
   "source": [
    "c['participant_id'].value_counts()"
   ]
  },
  {
   "cell_type": "code",
   "execution_count": 20,
   "id": "a50c59fc",
   "metadata": {},
   "outputs": [
    {
     "data": {
      "text/plain": [
       "199"
      ]
     },
     "execution_count": 20,
     "metadata": {},
     "output_type": "execute_result"
    }
   ],
   "source": [
    "len(c['participant_id'].unique())"
   ]
  },
  {
   "cell_type": "code",
   "execution_count": 21,
   "id": "3bdc4c6e",
   "metadata": {},
   "outputs": [
    {
     "name": "stdout",
     "output_type": "stream",
     "text": [
      "                   Timestamp  AvgBreathingDepth  AvgBreathingRate  AvgGForce  \\\n",
      "0  2018-05-07 06:26:31-07:00           8.383838         22.034967   0.126191   \n",
      "1  2018-05-07 06:31:31-07:00           9.117117         25.456288   0.381981   \n",
      "2  2018-05-07 06:36:31-07:00           5.438202         19.447249   0.045566   \n",
      "3  2018-05-07 06:41:31-07:00           4.780822         19.361490   0.036021   \n",
      "4  2018-05-07 06:46:31-07:00           5.352941         20.724051   0.040741   \n",
      "\n",
      "   AvgHeartRate  AvgXAccel_g  AvgYAccel_g  AvgZAccel_g  RMSStdDev_ms  \\\n",
      "0     92.308322    -0.700388     0.351154    -0.346906     32.039420   \n",
      "1    104.606228    -0.805678     0.234999    -0.198497     49.802333   \n",
      "2     73.867437    -0.976104     0.027229    -0.063092     65.734821   \n",
      "3     72.912969    -0.974498     0.052450    -0.054859     61.004179   \n",
      "4     74.607701    -0.975783     0.041124    -0.092610     56.445098   \n",
      "\n",
      "   RRPeakCoverage     SDNN_ms  StdDevBreathingDepth  StdDevBreathingRate  \\\n",
      "0        0.977160   91.748981              6.648165             2.569060   \n",
      "1        0.900520  129.298276              4.660743             3.005212   \n",
      "2        0.936813   67.427589              3.586449             1.237596   \n",
      "3        0.976507   64.482345              2.897540             0.875203   \n",
      "4        0.986493   66.365685              3.022558             0.828340   \n",
      "\n",
      "   StdDevGForce  StdDevXAccel_g  StdDevYAccel_g  StdDevZAccel_g  \\\n",
      "0      0.131245        0.381939        0.302689        0.167244   \n",
      "1      0.359368        0.362434        0.298751        0.222775   \n",
      "2      0.038897        0.023349        0.076135        0.056512   \n",
      "3      0.028835        0.018889        0.057922        0.049131   \n",
      "4      0.023807        0.021689        0.085389        0.064962   \n",
      "\n",
      "                         participant_id  \n",
      "0  e6081755-d7f3-4c26-ab40-0709b8ad41ef  \n",
      "1  e6081755-d7f3-4c26-ab40-0709b8ad41ef  \n",
      "2  e6081755-d7f3-4c26-ab40-0709b8ad41ef  \n",
      "3  e6081755-d7f3-4c26-ab40-0709b8ad41ef  \n",
      "4  e6081755-d7f3-4c26-ab40-0709b8ad41ef  \n"
     ]
    }
   ],
   "source": [
    "print(OM.head())"
   ]
  },
  {
   "cell_type": "code",
   "execution_count": 22,
   "id": "5432fb8a",
   "metadata": {},
   "outputs": [
    {
     "name": "stdout",
     "output_type": "stream",
     "text": [
      "<class 'pandas.core.frame.DataFrame'>\n",
      "RangeIndex: 551765 entries, 0 to 551764\n",
      "Data columns (total 18 columns):\n",
      " #   Column                Non-Null Count   Dtype  \n",
      "---  ------                --------------   -----  \n",
      " 0   Timestamp             551765 non-null  object \n",
      " 1   AvgBreathingDepth     551765 non-null  float64\n",
      " 2   AvgBreathingRate      551765 non-null  float64\n",
      " 3   AvgGForce             551765 non-null  float64\n",
      " 4   AvgHeartRate          551765 non-null  float64\n",
      " 5   AvgXAccel_g           551765 non-null  float64\n",
      " 6   AvgYAccel_g           551765 non-null  float64\n",
      " 7   AvgZAccel_g           551765 non-null  float64\n",
      " 8   RMSStdDev_ms          551765 non-null  float64\n",
      " 9   RRPeakCoverage        551765 non-null  float64\n",
      " 10  SDNN_ms               551765 non-null  float64\n",
      " 11  StdDevBreathingDepth  551765 non-null  float64\n",
      " 12  StdDevBreathingRate   551765 non-null  float64\n",
      " 13  StdDevGForce          551765 non-null  float64\n",
      " 14  StdDevXAccel_g        551765 non-null  float64\n",
      " 15  StdDevYAccel_g        551765 non-null  float64\n",
      " 16  StdDevZAccel_g        551765 non-null  float64\n",
      " 17  participant_id        551765 non-null  object \n",
      "dtypes: float64(16), object(2)\n",
      "memory usage: 75.8+ MB\n",
      "None\n"
     ]
    }
   ],
   "source": [
    "print(OM.info()) #participant_id        551765 non-null  object "
   ]
  },
  {
   "cell_type": "code",
   "execution_count": 23,
   "id": "359fb764",
   "metadata": {},
   "outputs": [
    {
     "name": "stdout",
     "output_type": "stream",
     "text": [
      "199\n"
     ]
    }
   ],
   "source": [
    "print(len(c.participant_id.unique())) #199 participants"
   ]
  },
  {
   "cell_type": "code",
   "execution_count": 27,
   "id": "d92fd764",
   "metadata": {},
   "outputs": [
    {
     "name": "stdout",
     "output_type": "stream",
     "text": [
      "Timestamp               0\n",
      "AvgBreathingDepth       0\n",
      "AvgBreathingRate        0\n",
      "AvgGForce               0\n",
      "AvgHeartRate            0\n",
      "AvgXAccel_g             0\n",
      "AvgYAccel_g             0\n",
      "AvgZAccel_g             0\n",
      "RMSStdDev_ms            0\n",
      "RRPeakCoverage          0\n",
      "SDNN_ms                 0\n",
      "StdDevBreathingDepth    0\n",
      "StdDevBreathingRate     0\n",
      "StdDevGForce            0\n",
      "StdDevXAccel_g          0\n",
      "StdDevYAccel_g          0\n",
      "StdDevZAccel_g          0\n",
      "participant_id          0\n",
      "dtype: int64\n"
     ]
    }
   ],
   "source": [
    "print(c.isna().sum())"
   ]
  },
  {
   "cell_type": "code",
   "execution_count": 25,
   "id": "ed130c70",
   "metadata": {},
   "outputs": [],
   "source": [
    "os.makedirs('/Users/selinzobu/Desktop/TILES/', exist_ok=True)  \n",
    "c.to_csv('/Users/selinzobu/Desktop/TILES/11OMSignal.csv') "
   ]
  },
  {
   "cell_type": "code",
   "execution_count": 26,
   "id": "8ca1b29b",
   "metadata": {},
   "outputs": [
    {
     "data": {
      "text/plain": [
       "Timestamp               551765\n",
       "AvgBreathingDepth       551765\n",
       "AvgBreathingRate        551765\n",
       "AvgGForce               551765\n",
       "AvgHeartRate            551765\n",
       "AvgXAccel_g             551765\n",
       "AvgYAccel_g             551765\n",
       "AvgZAccel_g             551765\n",
       "RMSStdDev_ms            551765\n",
       "RRPeakCoverage          551765\n",
       "SDNN_ms                 551765\n",
       "StdDevBreathingDepth    551765\n",
       "StdDevBreathingRate     551765\n",
       "StdDevGForce            551765\n",
       "StdDevXAccel_g          551765\n",
       "StdDevYAccel_g          551765\n",
       "StdDevZAccel_g          551765\n",
       "participant_id          551765\n",
       "dtype: int64"
      ]
     },
     "execution_count": 26,
     "metadata": {},
     "output_type": "execute_result"
    }
   ],
   "source": [
    "OM.notna().sum()"
   ]
  },
  {
   "cell_type": "code",
   "execution_count": 28,
   "id": "22b33c11",
   "metadata": {},
   "outputs": [
    {
     "name": "stdout",
     "output_type": "stream",
     "text": [
      "                        Timestamp  AvgBreathingDepth  AvgBreathingRate  \\\n",
      "0       2018-05-07 06:26:31-07:00           8.383838         22.034967   \n",
      "1       2018-05-07 06:31:31-07:00           9.117117         25.456288   \n",
      "2       2018-05-07 06:36:31-07:00           5.438202         19.447249   \n",
      "3       2018-05-07 06:41:31-07:00           4.780822         19.361490   \n",
      "4       2018-05-07 06:46:31-07:00           5.352941         20.724051   \n",
      "...                           ...                ...               ...   \n",
      "551760  2018-05-03 09:37:43-07:00           3.666667         20.682584   \n",
      "551761  2018-05-03 09:42:43-07:00           1.903226         19.484050   \n",
      "551762  2018-05-03 09:47:43-07:00           3.611111         22.282361   \n",
      "551763  2018-05-03 09:52:43-07:00           6.482143         20.059969   \n",
      "551764  2018-05-03 17:48:56-07:00          10.066667         29.113603   \n",
      "\n",
      "        AvgGForce  AvgHeartRate  AvgXAccel_g  AvgYAccel_g  AvgZAccel_g  \\\n",
      "0        0.126191     92.308322    -0.700388     0.351154    -0.346906   \n",
      "1        0.381981    104.606228    -0.805678     0.234999    -0.198497   \n",
      "2        0.045566     73.867437    -0.976104     0.027229    -0.063092   \n",
      "3        0.036021     72.912969    -0.974498     0.052450    -0.054859   \n",
      "4        0.040741     74.607701    -0.975783     0.041124    -0.092610   \n",
      "...           ...           ...          ...          ...          ...   \n",
      "551760   0.018323     78.506700    -0.789799    -0.185663     0.461687   \n",
      "551761   0.021540     74.870532    -0.859357    -0.236667     0.341888   \n",
      "551762   0.028038     76.140076    -0.832343    -0.201604     0.413139   \n",
      "551763   0.051138     83.406064    -0.876082    -0.024096     0.219010   \n",
      "551764   0.298609     89.922923    -0.909639     0.062410     0.011807   \n",
      "\n",
      "        RMSStdDev_ms  RRPeakCoverage     SDNN_ms  StdDevBreathingDepth  \\\n",
      "0          32.039420        0.977160   91.748981              6.648165   \n",
      "1          49.802333        0.900520  129.298276              4.660743   \n",
      "2          65.734821        0.936813   67.427589              3.586449   \n",
      "3          61.004179        0.976507   64.482345              2.897540   \n",
      "4          56.445098        0.986493   66.365685              3.022558   \n",
      "...              ...             ...         ...                   ...   \n",
      "551760     30.973272        0.996093   66.845791              5.306020   \n",
      "551761     31.156904        0.996387   48.197794              1.193171   \n",
      "551762     30.472195        0.987653   64.382189              3.089620   \n",
      "551763     41.107016        0.947173   90.765558              7.370682   \n",
      "551764     58.860729        0.093413   53.892309              8.899973   \n",
      "\n",
      "        StdDevBreathingRate  StdDevGForce  StdDevXAccel_g  StdDevYAccel_g  \\\n",
      "0                  2.569060      0.131245        0.381939        0.302689   \n",
      "1                  3.005212      0.359368        0.362434        0.298751   \n",
      "2                  1.237596      0.038897        0.023349        0.076135   \n",
      "3                  0.875203      0.028835        0.018889        0.057922   \n",
      "4                  0.828340      0.023807        0.021689        0.085389   \n",
      "...                     ...           ...             ...             ...   \n",
      "551760             0.528301      0.014419        0.118978        0.140136   \n",
      "551761             2.472962      0.012455        0.069285        0.156263   \n",
      "551762             2.902368      0.078316        0.053122        0.155875   \n",
      "551763             3.993379      0.082948        0.120981        0.268138   \n",
      "551764             5.687872      1.205007        0.198484        0.201586   \n",
      "\n",
      "        StdDevZAccel_g                        participant_id  \n",
      "0             0.167244  e6081755-d7f3-4c26-ab40-0709b8ad41ef  \n",
      "1             0.222775  e6081755-d7f3-4c26-ab40-0709b8ad41ef  \n",
      "2             0.056512  e6081755-d7f3-4c26-ab40-0709b8ad41ef  \n",
      "3             0.049131  e6081755-d7f3-4c26-ab40-0709b8ad41ef  \n",
      "4             0.064962  e6081755-d7f3-4c26-ab40-0709b8ad41ef  \n",
      "...                ...                                   ...  \n",
      "551760        0.168607  f983485d-f954-4693-9c2c-981710c06dd0  \n",
      "551761        0.111866  f983485d-f954-4693-9c2c-981710c06dd0  \n",
      "551762        0.079638  f983485d-f954-4693-9c2c-981710c06dd0  \n",
      "551763        0.241290  f983485d-f954-4693-9c2c-981710c06dd0  \n",
      "551764        0.295214  f983485d-f954-4693-9c2c-981710c06dd0  \n",
      "\n",
      "[505945 rows x 18 columns]\n"
     ]
    }
   ],
   "source": [
    "print(c)"
   ]
  },
  {
   "cell_type": "code",
   "execution_count": 29,
   "id": "cfa0e667",
   "metadata": {},
   "outputs": [
    {
     "name": "stdout",
     "output_type": "stream",
     "text": [
      "<class 'datetime.datetime'>\n"
     ]
    }
   ],
   "source": [
    "print(type(c[\"Timestamp\"][0]))"
   ]
  },
  {
   "cell_type": "code",
   "execution_count": 30,
   "id": "9bd382d3",
   "metadata": {},
   "outputs": [
    {
     "name": "stderr",
     "output_type": "stream",
     "text": [
      "/var/folders/wd/1sxcpd491kg32hysvmfw5d3r0000gn/T/ipykernel_2838/1117039410.py:1: SettingWithCopyWarning: \n",
      "A value is trying to be set on a copy of a slice from a DataFrame.\n",
      "Try using .loc[row_indexer,col_indexer] = value instead\n",
      "\n",
      "See the caveats in the documentation: https://pandas.pydata.org/pandas-docs/stable/user_guide/indexing.html#returning-a-view-versus-a-copy\n",
      "  c[\"Timestamp\"] = pd.to_datetime(c[\"Timestamp\"], utc = True).dt.date\n"
     ]
    }
   ],
   "source": [
    "c[\"Timestamp\"] = pd.to_datetime(c[\"Timestamp\"], utc = True).dt.date"
   ]
  },
  {
   "cell_type": "code",
   "execution_count": 31,
   "id": "f5ca3c8b",
   "metadata": {},
   "outputs": [
    {
     "name": "stdout",
     "output_type": "stream",
     "text": [
      "         Timestamp  AvgBreathingDepth  AvgBreathingRate  AvgGForce  \\\n",
      "0       2018-05-07           8.383838         22.034967   0.126191   \n",
      "1       2018-05-07           9.117117         25.456288   0.381981   \n",
      "2       2018-05-07           5.438202         19.447249   0.045566   \n",
      "3       2018-05-07           4.780822         19.361490   0.036021   \n",
      "4       2018-05-07           5.352941         20.724051   0.040741   \n",
      "...            ...                ...               ...        ...   \n",
      "551760  2018-05-03           3.666667         20.682584   0.018323   \n",
      "551761  2018-05-03           1.903226         19.484050   0.021540   \n",
      "551762  2018-05-03           3.611111         22.282361   0.028038   \n",
      "551763  2018-05-03           6.482143         20.059969   0.051138   \n",
      "551764  2018-05-04          10.066667         29.113603   0.298609   \n",
      "\n",
      "        AvgHeartRate  AvgXAccel_g  AvgYAccel_g  AvgZAccel_g  RMSStdDev_ms  \\\n",
      "0          92.308322    -0.700388     0.351154    -0.346906     32.039420   \n",
      "1         104.606228    -0.805678     0.234999    -0.198497     49.802333   \n",
      "2          73.867437    -0.976104     0.027229    -0.063092     65.734821   \n",
      "3          72.912969    -0.974498     0.052450    -0.054859     61.004179   \n",
      "4          74.607701    -0.975783     0.041124    -0.092610     56.445098   \n",
      "...              ...          ...          ...          ...           ...   \n",
      "551760     78.506700    -0.789799    -0.185663     0.461687     30.973272   \n",
      "551761     74.870532    -0.859357    -0.236667     0.341888     31.156904   \n",
      "551762     76.140076    -0.832343    -0.201604     0.413139     30.472195   \n",
      "551763     83.406064    -0.876082    -0.024096     0.219010     41.107016   \n",
      "551764     89.922923    -0.909639     0.062410     0.011807     58.860729   \n",
      "\n",
      "        RRPeakCoverage     SDNN_ms  StdDevBreathingDepth  StdDevBreathingRate  \\\n",
      "0             0.977160   91.748981              6.648165             2.569060   \n",
      "1             0.900520  129.298276              4.660743             3.005212   \n",
      "2             0.936813   67.427589              3.586449             1.237596   \n",
      "3             0.976507   64.482345              2.897540             0.875203   \n",
      "4             0.986493   66.365685              3.022558             0.828340   \n",
      "...                ...         ...                   ...                  ...   \n",
      "551760        0.996093   66.845791              5.306020             0.528301   \n",
      "551761        0.996387   48.197794              1.193171             2.472962   \n",
      "551762        0.987653   64.382189              3.089620             2.902368   \n",
      "551763        0.947173   90.765558              7.370682             3.993379   \n",
      "551764        0.093413   53.892309              8.899973             5.687872   \n",
      "\n",
      "        StdDevGForce  StdDevXAccel_g  StdDevYAccel_g  StdDevZAccel_g  \\\n",
      "0           0.131245        0.381939        0.302689        0.167244   \n",
      "1           0.359368        0.362434        0.298751        0.222775   \n",
      "2           0.038897        0.023349        0.076135        0.056512   \n",
      "3           0.028835        0.018889        0.057922        0.049131   \n",
      "4           0.023807        0.021689        0.085389        0.064962   \n",
      "...              ...             ...             ...             ...   \n",
      "551760      0.014419        0.118978        0.140136        0.168607   \n",
      "551761      0.012455        0.069285        0.156263        0.111866   \n",
      "551762      0.078316        0.053122        0.155875        0.079638   \n",
      "551763      0.082948        0.120981        0.268138        0.241290   \n",
      "551764      1.205007        0.198484        0.201586        0.295214   \n",
      "\n",
      "                              participant_id  \n",
      "0       e6081755-d7f3-4c26-ab40-0709b8ad41ef  \n",
      "1       e6081755-d7f3-4c26-ab40-0709b8ad41ef  \n",
      "2       e6081755-d7f3-4c26-ab40-0709b8ad41ef  \n",
      "3       e6081755-d7f3-4c26-ab40-0709b8ad41ef  \n",
      "4       e6081755-d7f3-4c26-ab40-0709b8ad41ef  \n",
      "...                                      ...  \n",
      "551760  f983485d-f954-4693-9c2c-981710c06dd0  \n",
      "551761  f983485d-f954-4693-9c2c-981710c06dd0  \n",
      "551762  f983485d-f954-4693-9c2c-981710c06dd0  \n",
      "551763  f983485d-f954-4693-9c2c-981710c06dd0  \n",
      "551764  f983485d-f954-4693-9c2c-981710c06dd0  \n",
      "\n",
      "[505945 rows x 18 columns]\n"
     ]
    }
   ],
   "source": [
    "print(c)"
   ]
  },
  {
   "cell_type": "code",
   "execution_count": 32,
   "id": "dbd0b433",
   "metadata": {},
   "outputs": [
    {
     "data": {
      "text/plain": [
       "132"
      ]
     },
     "execution_count": 32,
     "metadata": {},
     "output_type": "execute_result"
    }
   ],
   "source": [
    "len(c['Timestamp'].unique())"
   ]
  },
  {
   "cell_type": "code",
   "execution_count": 33,
   "id": "a714291e",
   "metadata": {},
   "outputs": [],
   "source": [
    "# Daily summary statistics of each feature were derived by taking the mean and standard \n",
    "#deviation of all the 5min interval values from the same day.\n",
    "\n",
    "DOM = pd.DataFrame()\n",
    "\n",
    "DOM['AvgHeartRateM'] = c.groupby(['participant_id', 'Timestamp'])['AvgHeartRate'].mean()\n",
    "DOM['AvgHeartRateS'] = c.groupby(['participant_id', 'Timestamp'])['AvgHeartRate'].std(ddof=0)\n",
    "DOM['RMSStdDev_msM'] = c.groupby(['participant_id', 'Timestamp'])['RMSStdDev_ms'].mean()\n",
    "DOM['RMSStdDev_msS'] = c.groupby(['participant_id', 'Timestamp'])['RMSStdDev_ms'].std(ddof=0)\n",
    "DOM['AvgBreathingRateM'] = c.groupby(['participant_id', 'Timestamp'])['AvgBreathingRate'].mean()\n",
    "DOM['AvgBreathingRateS'] = c.groupby(['participant_id', 'Timestamp'])['AvgBreathingRate'].std(ddof=0)\n",
    "DOM['AvgGForceM'] = c.groupby(['participant_id', 'Timestamp'])['AvgGForce'].mean()\n",
    "DOM['AvgGForceS'] = c.groupby(['participant_id', 'Timestamp'])['AvgGForce'].std(ddof=0)\n",
    "DOM['AvgXAccel_gM'] = c.groupby(['participant_id', 'Timestamp'])['AvgXAccel_g'].mean()\n",
    "DOM['AvgXAccel_gS'] = c.groupby(['participant_id', 'Timestamp'])['AvgXAccel_g'].std(ddof=0)\n",
    "DOM['AvgYAccel_gM'] = c.groupby(['participant_id', 'Timestamp'])['AvgYAccel_g'].mean()\n",
    "DOM['AvgYAccel_gS'] = c.groupby(['participant_id', 'Timestamp'])['AvgYAccel_g'].std(ddof=0)\n",
    "DOM['AvgZAccel_gM'] = c.groupby(['participant_id', 'Timestamp'])['AvgZAccel_g'].mean()\n",
    "DOM['AvgZAccel_gS'] = c.groupby(['participant_id', 'Timestamp'])['AvgZAccel_g'].std(ddof=0)\n",
    "DOM['SDNN_msM'] = c.groupby(['participant_id', 'Timestamp'])['SDNN_ms'].mean()\n",
    "DOM['SDNN_msS'] = c.groupby(['participant_id', 'Timestamp'])['SDNN_ms'].std(ddof=0)\n",
    "DOM['StdDevBreathingRateM'] = c.groupby(['participant_id', 'Timestamp'])['StdDevBreathingRate'].mean()\n",
    "DOM['StdDevBreathingRateS'] = c.groupby(['participant_id', 'Timestamp'])['StdDevBreathingRate'].std(ddof=0)\n",
    "DOM['StdDevBreathingRateM'] = c.groupby(['participant_id', 'Timestamp'])['StdDevBreathingRate'].mean()\n",
    "DOM['StdDevBreathingRateS'] = c.groupby(['participant_id', 'Timestamp'])['StdDevBreathingRate'].std(ddof=0)\n",
    "DOM['StdDevGForceM'] = c.groupby(['participant_id', 'Timestamp'])['StdDevGForce'].mean()\n",
    "DOM['StdDevGForceS'] = c.groupby(['participant_id', 'Timestamp'])['StdDevGForce'].std(ddof=0)\n",
    "DOM['StdDevXAccel_gM'] = c.groupby(['participant_id', 'Timestamp'])['StdDevXAccel_g'].mean()\n",
    "DOM['StdDevXAccel_gS'] = c.groupby(['participant_id', 'Timestamp'])['StdDevXAccel_g'].std(ddof=0)\n",
    "DOM['StdDevYAccel_gM'] = c.groupby(['participant_id', 'Timestamp'])['StdDevYAccel_g'].mean()\n",
    "DOM['StdDevYAccel_gS'] = c.groupby(['participant_id', 'Timestamp'])['StdDevYAccel_g'].std(ddof=0)\n",
    "DOM['StdDevZAccel_gM'] = c.groupby(['participant_id', 'Timestamp'])['StdDevZAccel_g'].mean()\n",
    "DOM['StdDevZAccel_gS'] = c.groupby(['participant_id', 'Timestamp'])['StdDevZAccel_g'].std(ddof=0)"
   ]
  },
  {
   "cell_type": "code",
   "execution_count": null,
   "id": "14622abe",
   "metadata": {},
   "outputs": [],
   "source": [
    "#DOM['RRPeakCoverageM'] = OM.groupby(['participant_id', 'Timestamp'])['RRPeakCoverage'].mean()\n",
    "#DOM['RRPeakCoverageS'] = OM.groupby(['participant_id', 'Timestamp'])['RRPeakCoverage'].std()"
   ]
  },
  {
   "cell_type": "code",
   "execution_count": 34,
   "id": "5c4491d2",
   "metadata": {},
   "outputs": [
    {
     "data": {
      "text/plain": [
       "Index(['AvgHeartRateM', 'AvgHeartRateS', 'RMSStdDev_msM', 'RMSStdDev_msS',\n",
       "       'AvgBreathingRateM', 'AvgBreathingRateS', 'AvgGForceM', 'AvgGForceS',\n",
       "       'AvgXAccel_gM', 'AvgXAccel_gS', 'AvgYAccel_gM', 'AvgYAccel_gS',\n",
       "       'AvgZAccel_gM', 'AvgZAccel_gS', 'SDNN_msM', 'SDNN_msS',\n",
       "       'StdDevBreathingRateM', 'StdDevBreathingRateS', 'StdDevGForceM',\n",
       "       'StdDevGForceS', 'StdDevXAccel_gM', 'StdDevXAccel_gS',\n",
       "       'StdDevYAccel_gM', 'StdDevYAccel_gS', 'StdDevZAccel_gM',\n",
       "       'StdDevZAccel_gS'],\n",
       "      dtype='object')"
      ]
     },
     "execution_count": 34,
     "metadata": {},
     "output_type": "execute_result"
    }
   ],
   "source": [
    "DOM.columns #5713 rows × 26 columns"
   ]
  },
  {
   "cell_type": "code",
   "execution_count": 36,
   "id": "b2d34350",
   "metadata": {},
   "outputs": [
    {
     "data": {
      "text/html": [
       "<div>\n",
       "<style scoped>\n",
       "    .dataframe tbody tr th:only-of-type {\n",
       "        vertical-align: middle;\n",
       "    }\n",
       "\n",
       "    .dataframe tbody tr th {\n",
       "        vertical-align: top;\n",
       "    }\n",
       "\n",
       "    .dataframe thead th {\n",
       "        text-align: right;\n",
       "    }\n",
       "</style>\n",
       "<table border=\"1\" class=\"dataframe\">\n",
       "  <thead>\n",
       "    <tr style=\"text-align: right;\">\n",
       "      <th></th>\n",
       "      <th></th>\n",
       "      <th>AvgHeartRateM</th>\n",
       "      <th>AvgHeartRateS</th>\n",
       "      <th>RMSStdDev_msM</th>\n",
       "      <th>RMSStdDev_msS</th>\n",
       "      <th>AvgBreathingRateM</th>\n",
       "      <th>AvgBreathingRateS</th>\n",
       "      <th>AvgGForceM</th>\n",
       "      <th>AvgGForceS</th>\n",
       "      <th>AvgXAccel_gM</th>\n",
       "      <th>AvgXAccel_gS</th>\n",
       "      <th>...</th>\n",
       "      <th>StdDevBreathingRateM</th>\n",
       "      <th>StdDevBreathingRateS</th>\n",
       "      <th>StdDevGForceM</th>\n",
       "      <th>StdDevGForceS</th>\n",
       "      <th>StdDevXAccel_gM</th>\n",
       "      <th>StdDevXAccel_gS</th>\n",
       "      <th>StdDevYAccel_gM</th>\n",
       "      <th>StdDevYAccel_gS</th>\n",
       "      <th>StdDevZAccel_gM</th>\n",
       "      <th>StdDevZAccel_gS</th>\n",
       "    </tr>\n",
       "    <tr>\n",
       "      <th>participant_id</th>\n",
       "      <th>Timestamp</th>\n",
       "      <th></th>\n",
       "      <th></th>\n",
       "      <th></th>\n",
       "      <th></th>\n",
       "      <th></th>\n",
       "      <th></th>\n",
       "      <th></th>\n",
       "      <th></th>\n",
       "      <th></th>\n",
       "      <th></th>\n",
       "      <th></th>\n",
       "      <th></th>\n",
       "      <th></th>\n",
       "      <th></th>\n",
       "      <th></th>\n",
       "      <th></th>\n",
       "      <th></th>\n",
       "      <th></th>\n",
       "      <th></th>\n",
       "      <th></th>\n",
       "      <th></th>\n",
       "    </tr>\n",
       "  </thead>\n",
       "  <tbody>\n",
       "    <tr>\n",
       "      <th rowspan=\"5\" valign=\"top\">02581754-36cd-4b23-85ea-bf995c6dec83</th>\n",
       "      <th>2018-04-11</th>\n",
       "      <td>70.316433</td>\n",
       "      <td>11.125610</td>\n",
       "      <td>76.304540</td>\n",
       "      <td>32.446035</td>\n",
       "      <td>18.785335</td>\n",
       "      <td>3.148856</td>\n",
       "      <td>0.067580</td>\n",
       "      <td>0.048793</td>\n",
       "      <td>-0.854908</td>\n",
       "      <td>0.118986</td>\n",
       "      <td>...</td>\n",
       "      <td>2.992354</td>\n",
       "      <td>1.920734</td>\n",
       "      <td>0.096093</td>\n",
       "      <td>0.096640</td>\n",
       "      <td>0.065697</td>\n",
       "      <td>0.046311</td>\n",
       "      <td>0.146869</td>\n",
       "      <td>0.090668</td>\n",
       "      <td>0.099497</td>\n",
       "      <td>0.049356</td>\n",
       "    </tr>\n",
       "    <tr>\n",
       "      <th>2018-04-15</th>\n",
       "      <td>73.011389</td>\n",
       "      <td>14.791072</td>\n",
       "      <td>83.218582</td>\n",
       "      <td>29.087928</td>\n",
       "      <td>20.301165</td>\n",
       "      <td>4.558011</td>\n",
       "      <td>0.087629</td>\n",
       "      <td>0.060141</td>\n",
       "      <td>-0.827930</td>\n",
       "      <td>0.144439</td>\n",
       "      <td>...</td>\n",
       "      <td>3.770667</td>\n",
       "      <td>2.734047</td>\n",
       "      <td>0.117312</td>\n",
       "      <td>0.091516</td>\n",
       "      <td>0.080346</td>\n",
       "      <td>0.045803</td>\n",
       "      <td>0.162472</td>\n",
       "      <td>0.108609</td>\n",
       "      <td>0.126153</td>\n",
       "      <td>0.074521</td>\n",
       "    </tr>\n",
       "    <tr>\n",
       "      <th>2018-04-19</th>\n",
       "      <td>78.227597</td>\n",
       "      <td>13.221363</td>\n",
       "      <td>71.881296</td>\n",
       "      <td>31.260648</td>\n",
       "      <td>21.666127</td>\n",
       "      <td>4.542382</td>\n",
       "      <td>0.107409</td>\n",
       "      <td>0.074723</td>\n",
       "      <td>-0.889138</td>\n",
       "      <td>0.126103</td>\n",
       "      <td>...</td>\n",
       "      <td>4.253564</td>\n",
       "      <td>2.591870</td>\n",
       "      <td>0.153227</td>\n",
       "      <td>0.157191</td>\n",
       "      <td>0.076657</td>\n",
       "      <td>0.047189</td>\n",
       "      <td>0.156026</td>\n",
       "      <td>0.092359</td>\n",
       "      <td>0.124362</td>\n",
       "      <td>0.055174</td>\n",
       "    </tr>\n",
       "    <tr>\n",
       "      <th>2018-04-20</th>\n",
       "      <td>74.730689</td>\n",
       "      <td>14.570413</td>\n",
       "      <td>75.876150</td>\n",
       "      <td>34.389385</td>\n",
       "      <td>21.342272</td>\n",
       "      <td>4.984909</td>\n",
       "      <td>0.094568</td>\n",
       "      <td>0.065956</td>\n",
       "      <td>-0.823332</td>\n",
       "      <td>0.158536</td>\n",
       "      <td>...</td>\n",
       "      <td>4.550624</td>\n",
       "      <td>3.142239</td>\n",
       "      <td>0.129270</td>\n",
       "      <td>0.115476</td>\n",
       "      <td>0.091554</td>\n",
       "      <td>0.059948</td>\n",
       "      <td>0.186592</td>\n",
       "      <td>0.120287</td>\n",
       "      <td>0.133949</td>\n",
       "      <td>0.073196</td>\n",
       "    </tr>\n",
       "    <tr>\n",
       "      <th>2018-04-21</th>\n",
       "      <td>74.438313</td>\n",
       "      <td>9.604453</td>\n",
       "      <td>82.330480</td>\n",
       "      <td>29.665782</td>\n",
       "      <td>21.468637</td>\n",
       "      <td>4.480558</td>\n",
       "      <td>0.101328</td>\n",
       "      <td>0.069682</td>\n",
       "      <td>-0.876014</td>\n",
       "      <td>0.117269</td>\n",
       "      <td>...</td>\n",
       "      <td>4.228443</td>\n",
       "      <td>2.562682</td>\n",
       "      <td>0.143634</td>\n",
       "      <td>0.110016</td>\n",
       "      <td>0.079431</td>\n",
       "      <td>0.045220</td>\n",
       "      <td>0.152710</td>\n",
       "      <td>0.085281</td>\n",
       "      <td>0.122021</td>\n",
       "      <td>0.056940</td>\n",
       "    </tr>\n",
       "    <tr>\n",
       "      <th>...</th>\n",
       "      <th>...</th>\n",
       "      <td>...</td>\n",
       "      <td>...</td>\n",
       "      <td>...</td>\n",
       "      <td>...</td>\n",
       "      <td>...</td>\n",
       "      <td>...</td>\n",
       "      <td>...</td>\n",
       "      <td>...</td>\n",
       "      <td>...</td>\n",
       "      <td>...</td>\n",
       "      <td>...</td>\n",
       "      <td>...</td>\n",
       "      <td>...</td>\n",
       "      <td>...</td>\n",
       "      <td>...</td>\n",
       "      <td>...</td>\n",
       "      <td>...</td>\n",
       "      <td>...</td>\n",
       "      <td>...</td>\n",
       "      <td>...</td>\n",
       "      <td>...</td>\n",
       "    </tr>\n",
       "    <tr>\n",
       "      <th rowspan=\"5\" valign=\"top\">fdbd8c07-720c-4ae5-a3d8-aad56b54688</th>\n",
       "      <th>2018-07-09</th>\n",
       "      <td>91.171147</td>\n",
       "      <td>6.568484</td>\n",
       "      <td>43.070694</td>\n",
       "      <td>25.915944</td>\n",
       "      <td>23.185072</td>\n",
       "      <td>3.562551</td>\n",
       "      <td>0.081483</td>\n",
       "      <td>0.084166</td>\n",
       "      <td>-0.892960</td>\n",
       "      <td>0.042561</td>\n",
       "      <td>...</td>\n",
       "      <td>2.860180</td>\n",
       "      <td>2.025373</td>\n",
       "      <td>0.109151</td>\n",
       "      <td>0.215157</td>\n",
       "      <td>0.089791</td>\n",
       "      <td>0.051607</td>\n",
       "      <td>0.117446</td>\n",
       "      <td>0.053749</td>\n",
       "      <td>0.113320</td>\n",
       "      <td>0.045618</td>\n",
       "    </tr>\n",
       "    <tr>\n",
       "      <th>2018-07-10</th>\n",
       "      <td>84.839650</td>\n",
       "      <td>7.616177</td>\n",
       "      <td>46.866597</td>\n",
       "      <td>21.012169</td>\n",
       "      <td>22.429555</td>\n",
       "      <td>2.937347</td>\n",
       "      <td>0.087640</td>\n",
       "      <td>0.100377</td>\n",
       "      <td>-0.911391</td>\n",
       "      <td>0.059054</td>\n",
       "      <td>...</td>\n",
       "      <td>2.284613</td>\n",
       "      <td>1.560513</td>\n",
       "      <td>0.104586</td>\n",
       "      <td>0.148220</td>\n",
       "      <td>0.084640</td>\n",
       "      <td>0.072197</td>\n",
       "      <td>0.116635</td>\n",
       "      <td>0.067097</td>\n",
       "      <td>0.099806</td>\n",
       "      <td>0.040261</td>\n",
       "    </tr>\n",
       "    <tr>\n",
       "      <th>2018-07-11</th>\n",
       "      <td>108.381503</td>\n",
       "      <td>0.000000</td>\n",
       "      <td>117.877526</td>\n",
       "      <td>0.000000</td>\n",
       "      <td>26.578179</td>\n",
       "      <td>0.000000</td>\n",
       "      <td>0.102040</td>\n",
       "      <td>0.000000</td>\n",
       "      <td>-0.900491</td>\n",
       "      <td>0.000000</td>\n",
       "      <td>...</td>\n",
       "      <td>4.605778</td>\n",
       "      <td>0.000000</td>\n",
       "      <td>0.224294</td>\n",
       "      <td>0.000000</td>\n",
       "      <td>0.075846</td>\n",
       "      <td>0.000000</td>\n",
       "      <td>0.131143</td>\n",
       "      <td>0.000000</td>\n",
       "      <td>0.091230</td>\n",
       "      <td>0.000000</td>\n",
       "    </tr>\n",
       "    <tr>\n",
       "      <th>2018-07-12</th>\n",
       "      <td>85.126667</td>\n",
       "      <td>9.343313</td>\n",
       "      <td>45.473117</td>\n",
       "      <td>15.195810</td>\n",
       "      <td>22.622140</td>\n",
       "      <td>3.064660</td>\n",
       "      <td>0.076856</td>\n",
       "      <td>0.077894</td>\n",
       "      <td>-0.864310</td>\n",
       "      <td>0.076113</td>\n",
       "      <td>...</td>\n",
       "      <td>2.109416</td>\n",
       "      <td>1.445990</td>\n",
       "      <td>0.085184</td>\n",
       "      <td>0.085284</td>\n",
       "      <td>0.094285</td>\n",
       "      <td>0.070017</td>\n",
       "      <td>0.122070</td>\n",
       "      <td>0.066407</td>\n",
       "      <td>0.095059</td>\n",
       "      <td>0.041943</td>\n",
       "    </tr>\n",
       "    <tr>\n",
       "      <th>2018-07-13</th>\n",
       "      <td>87.415557</td>\n",
       "      <td>5.907100</td>\n",
       "      <td>34.708162</td>\n",
       "      <td>9.637146</td>\n",
       "      <td>22.769217</td>\n",
       "      <td>2.658898</td>\n",
       "      <td>0.069360</td>\n",
       "      <td>0.054948</td>\n",
       "      <td>-0.858799</td>\n",
       "      <td>0.067926</td>\n",
       "      <td>...</td>\n",
       "      <td>2.932511</td>\n",
       "      <td>2.059580</td>\n",
       "      <td>0.127531</td>\n",
       "      <td>0.172592</td>\n",
       "      <td>0.116979</td>\n",
       "      <td>0.098237</td>\n",
       "      <td>0.185961</td>\n",
       "      <td>0.085504</td>\n",
       "      <td>0.154252</td>\n",
       "      <td>0.073699</td>\n",
       "    </tr>\n",
       "  </tbody>\n",
       "</table>\n",
       "<p>5713 rows × 26 columns</p>\n",
       "</div>"
      ],
      "text/plain": [
       "                                                 AvgHeartRateM  AvgHeartRateS  \\\n",
       "participant_id                       Timestamp                                  \n",
       "02581754-36cd-4b23-85ea-bf995c6dec83 2018-04-11      70.316433      11.125610   \n",
       "                                     2018-04-15      73.011389      14.791072   \n",
       "                                     2018-04-19      78.227597      13.221363   \n",
       "                                     2018-04-20      74.730689      14.570413   \n",
       "                                     2018-04-21      74.438313       9.604453   \n",
       "...                                                        ...            ...   \n",
       "fdbd8c07-720c-4ae5-a3d8-aad56b54688  2018-07-09      91.171147       6.568484   \n",
       "                                     2018-07-10      84.839650       7.616177   \n",
       "                                     2018-07-11     108.381503       0.000000   \n",
       "                                     2018-07-12      85.126667       9.343313   \n",
       "                                     2018-07-13      87.415557       5.907100   \n",
       "\n",
       "                                                 RMSStdDev_msM  RMSStdDev_msS  \\\n",
       "participant_id                       Timestamp                                  \n",
       "02581754-36cd-4b23-85ea-bf995c6dec83 2018-04-11      76.304540      32.446035   \n",
       "                                     2018-04-15      83.218582      29.087928   \n",
       "                                     2018-04-19      71.881296      31.260648   \n",
       "                                     2018-04-20      75.876150      34.389385   \n",
       "                                     2018-04-21      82.330480      29.665782   \n",
       "...                                                        ...            ...   \n",
       "fdbd8c07-720c-4ae5-a3d8-aad56b54688  2018-07-09      43.070694      25.915944   \n",
       "                                     2018-07-10      46.866597      21.012169   \n",
       "                                     2018-07-11     117.877526       0.000000   \n",
       "                                     2018-07-12      45.473117      15.195810   \n",
       "                                     2018-07-13      34.708162       9.637146   \n",
       "\n",
       "                                                 AvgBreathingRateM  \\\n",
       "participant_id                       Timestamp                       \n",
       "02581754-36cd-4b23-85ea-bf995c6dec83 2018-04-11          18.785335   \n",
       "                                     2018-04-15          20.301165   \n",
       "                                     2018-04-19          21.666127   \n",
       "                                     2018-04-20          21.342272   \n",
       "                                     2018-04-21          21.468637   \n",
       "...                                                            ...   \n",
       "fdbd8c07-720c-4ae5-a3d8-aad56b54688  2018-07-09          23.185072   \n",
       "                                     2018-07-10          22.429555   \n",
       "                                     2018-07-11          26.578179   \n",
       "                                     2018-07-12          22.622140   \n",
       "                                     2018-07-13          22.769217   \n",
       "\n",
       "                                                 AvgBreathingRateS  \\\n",
       "participant_id                       Timestamp                       \n",
       "02581754-36cd-4b23-85ea-bf995c6dec83 2018-04-11           3.148856   \n",
       "                                     2018-04-15           4.558011   \n",
       "                                     2018-04-19           4.542382   \n",
       "                                     2018-04-20           4.984909   \n",
       "                                     2018-04-21           4.480558   \n",
       "...                                                            ...   \n",
       "fdbd8c07-720c-4ae5-a3d8-aad56b54688  2018-07-09           3.562551   \n",
       "                                     2018-07-10           2.937347   \n",
       "                                     2018-07-11           0.000000   \n",
       "                                     2018-07-12           3.064660   \n",
       "                                     2018-07-13           2.658898   \n",
       "\n",
       "                                                 AvgGForceM  AvgGForceS  \\\n",
       "participant_id                       Timestamp                            \n",
       "02581754-36cd-4b23-85ea-bf995c6dec83 2018-04-11    0.067580    0.048793   \n",
       "                                     2018-04-15    0.087629    0.060141   \n",
       "                                     2018-04-19    0.107409    0.074723   \n",
       "                                     2018-04-20    0.094568    0.065956   \n",
       "                                     2018-04-21    0.101328    0.069682   \n",
       "...                                                     ...         ...   \n",
       "fdbd8c07-720c-4ae5-a3d8-aad56b54688  2018-07-09    0.081483    0.084166   \n",
       "                                     2018-07-10    0.087640    0.100377   \n",
       "                                     2018-07-11    0.102040    0.000000   \n",
       "                                     2018-07-12    0.076856    0.077894   \n",
       "                                     2018-07-13    0.069360    0.054948   \n",
       "\n",
       "                                                 AvgXAccel_gM  AvgXAccel_gS  \\\n",
       "participant_id                       Timestamp                                \n",
       "02581754-36cd-4b23-85ea-bf995c6dec83 2018-04-11     -0.854908      0.118986   \n",
       "                                     2018-04-15     -0.827930      0.144439   \n",
       "                                     2018-04-19     -0.889138      0.126103   \n",
       "                                     2018-04-20     -0.823332      0.158536   \n",
       "                                     2018-04-21     -0.876014      0.117269   \n",
       "...                                                       ...           ...   \n",
       "fdbd8c07-720c-4ae5-a3d8-aad56b54688  2018-07-09     -0.892960      0.042561   \n",
       "                                     2018-07-10     -0.911391      0.059054   \n",
       "                                     2018-07-11     -0.900491      0.000000   \n",
       "                                     2018-07-12     -0.864310      0.076113   \n",
       "                                     2018-07-13     -0.858799      0.067926   \n",
       "\n",
       "                                                 ...  StdDevBreathingRateM  \\\n",
       "participant_id                       Timestamp   ...                         \n",
       "02581754-36cd-4b23-85ea-bf995c6dec83 2018-04-11  ...              2.992354   \n",
       "                                     2018-04-15  ...              3.770667   \n",
       "                                     2018-04-19  ...              4.253564   \n",
       "                                     2018-04-20  ...              4.550624   \n",
       "                                     2018-04-21  ...              4.228443   \n",
       "...                                              ...                   ...   \n",
       "fdbd8c07-720c-4ae5-a3d8-aad56b54688  2018-07-09  ...              2.860180   \n",
       "                                     2018-07-10  ...              2.284613   \n",
       "                                     2018-07-11  ...              4.605778   \n",
       "                                     2018-07-12  ...              2.109416   \n",
       "                                     2018-07-13  ...              2.932511   \n",
       "\n",
       "                                                 StdDevBreathingRateS  \\\n",
       "participant_id                       Timestamp                          \n",
       "02581754-36cd-4b23-85ea-bf995c6dec83 2018-04-11              1.920734   \n",
       "                                     2018-04-15              2.734047   \n",
       "                                     2018-04-19              2.591870   \n",
       "                                     2018-04-20              3.142239   \n",
       "                                     2018-04-21              2.562682   \n",
       "...                                                               ...   \n",
       "fdbd8c07-720c-4ae5-a3d8-aad56b54688  2018-07-09              2.025373   \n",
       "                                     2018-07-10              1.560513   \n",
       "                                     2018-07-11              0.000000   \n",
       "                                     2018-07-12              1.445990   \n",
       "                                     2018-07-13              2.059580   \n",
       "\n",
       "                                                 StdDevGForceM  StdDevGForceS  \\\n",
       "participant_id                       Timestamp                                  \n",
       "02581754-36cd-4b23-85ea-bf995c6dec83 2018-04-11       0.096093       0.096640   \n",
       "                                     2018-04-15       0.117312       0.091516   \n",
       "                                     2018-04-19       0.153227       0.157191   \n",
       "                                     2018-04-20       0.129270       0.115476   \n",
       "                                     2018-04-21       0.143634       0.110016   \n",
       "...                                                        ...            ...   \n",
       "fdbd8c07-720c-4ae5-a3d8-aad56b54688  2018-07-09       0.109151       0.215157   \n",
       "                                     2018-07-10       0.104586       0.148220   \n",
       "                                     2018-07-11       0.224294       0.000000   \n",
       "                                     2018-07-12       0.085184       0.085284   \n",
       "                                     2018-07-13       0.127531       0.172592   \n",
       "\n",
       "                                                 StdDevXAccel_gM  \\\n",
       "participant_id                       Timestamp                     \n",
       "02581754-36cd-4b23-85ea-bf995c6dec83 2018-04-11         0.065697   \n",
       "                                     2018-04-15         0.080346   \n",
       "                                     2018-04-19         0.076657   \n",
       "                                     2018-04-20         0.091554   \n",
       "                                     2018-04-21         0.079431   \n",
       "...                                                          ...   \n",
       "fdbd8c07-720c-4ae5-a3d8-aad56b54688  2018-07-09         0.089791   \n",
       "                                     2018-07-10         0.084640   \n",
       "                                     2018-07-11         0.075846   \n",
       "                                     2018-07-12         0.094285   \n",
       "                                     2018-07-13         0.116979   \n",
       "\n",
       "                                                 StdDevXAccel_gS  \\\n",
       "participant_id                       Timestamp                     \n",
       "02581754-36cd-4b23-85ea-bf995c6dec83 2018-04-11         0.046311   \n",
       "                                     2018-04-15         0.045803   \n",
       "                                     2018-04-19         0.047189   \n",
       "                                     2018-04-20         0.059948   \n",
       "                                     2018-04-21         0.045220   \n",
       "...                                                          ...   \n",
       "fdbd8c07-720c-4ae5-a3d8-aad56b54688  2018-07-09         0.051607   \n",
       "                                     2018-07-10         0.072197   \n",
       "                                     2018-07-11         0.000000   \n",
       "                                     2018-07-12         0.070017   \n",
       "                                     2018-07-13         0.098237   \n",
       "\n",
       "                                                 StdDevYAccel_gM  \\\n",
       "participant_id                       Timestamp                     \n",
       "02581754-36cd-4b23-85ea-bf995c6dec83 2018-04-11         0.146869   \n",
       "                                     2018-04-15         0.162472   \n",
       "                                     2018-04-19         0.156026   \n",
       "                                     2018-04-20         0.186592   \n",
       "                                     2018-04-21         0.152710   \n",
       "...                                                          ...   \n",
       "fdbd8c07-720c-4ae5-a3d8-aad56b54688  2018-07-09         0.117446   \n",
       "                                     2018-07-10         0.116635   \n",
       "                                     2018-07-11         0.131143   \n",
       "                                     2018-07-12         0.122070   \n",
       "                                     2018-07-13         0.185961   \n",
       "\n",
       "                                                 StdDevYAccel_gS  \\\n",
       "participant_id                       Timestamp                     \n",
       "02581754-36cd-4b23-85ea-bf995c6dec83 2018-04-11         0.090668   \n",
       "                                     2018-04-15         0.108609   \n",
       "                                     2018-04-19         0.092359   \n",
       "                                     2018-04-20         0.120287   \n",
       "                                     2018-04-21         0.085281   \n",
       "...                                                          ...   \n",
       "fdbd8c07-720c-4ae5-a3d8-aad56b54688  2018-07-09         0.053749   \n",
       "                                     2018-07-10         0.067097   \n",
       "                                     2018-07-11         0.000000   \n",
       "                                     2018-07-12         0.066407   \n",
       "                                     2018-07-13         0.085504   \n",
       "\n",
       "                                                 StdDevZAccel_gM  \\\n",
       "participant_id                       Timestamp                     \n",
       "02581754-36cd-4b23-85ea-bf995c6dec83 2018-04-11         0.099497   \n",
       "                                     2018-04-15         0.126153   \n",
       "                                     2018-04-19         0.124362   \n",
       "                                     2018-04-20         0.133949   \n",
       "                                     2018-04-21         0.122021   \n",
       "...                                                          ...   \n",
       "fdbd8c07-720c-4ae5-a3d8-aad56b54688  2018-07-09         0.113320   \n",
       "                                     2018-07-10         0.099806   \n",
       "                                     2018-07-11         0.091230   \n",
       "                                     2018-07-12         0.095059   \n",
       "                                     2018-07-13         0.154252   \n",
       "\n",
       "                                                 StdDevZAccel_gS  \n",
       "participant_id                       Timestamp                    \n",
       "02581754-36cd-4b23-85ea-bf995c6dec83 2018-04-11         0.049356  \n",
       "                                     2018-04-15         0.074521  \n",
       "                                     2018-04-19         0.055174  \n",
       "                                     2018-04-20         0.073196  \n",
       "                                     2018-04-21         0.056940  \n",
       "...                                                          ...  \n",
       "fdbd8c07-720c-4ae5-a3d8-aad56b54688  2018-07-09         0.045618  \n",
       "                                     2018-07-10         0.040261  \n",
       "                                     2018-07-11         0.000000  \n",
       "                                     2018-07-12         0.041943  \n",
       "                                     2018-07-13         0.073699  \n",
       "\n",
       "[5713 rows x 26 columns]"
      ]
     },
     "execution_count": 36,
     "metadata": {},
     "output_type": "execute_result"
    }
   ],
   "source": [
    "(DOM.shape)\n",
    "DOM"
   ]
  },
  {
   "cell_type": "code",
   "execution_count": 37,
   "id": "c67b2eea",
   "metadata": {},
   "outputs": [],
   "source": [
    "DOM.reset_index(level=['participant_id', 'Timestamp'], inplace=True)"
   ]
  },
  {
   "cell_type": "code",
   "execution_count": 39,
   "id": "341a59d8",
   "metadata": {},
   "outputs": [
    {
     "data": {
      "text/plain": [
       "(5713, 28)"
      ]
     },
     "execution_count": 39,
     "metadata": {},
     "output_type": "execute_result"
    }
   ],
   "source": [
    "DOM.shape #(5713, 28)"
   ]
  },
  {
   "cell_type": "code",
   "execution_count": 40,
   "id": "116e51ee",
   "metadata": {},
   "outputs": [
    {
     "name": "stdout",
     "output_type": "stream",
     "text": [
      "199\n"
     ]
    }
   ],
   "source": [
    "print(len(DOM['participant_id'].unique()))"
   ]
  },
  {
   "cell_type": "code",
   "execution_count": 41,
   "id": "ecf914fe",
   "metadata": {},
   "outputs": [
    {
     "name": "stdout",
     "output_type": "stream",
     "text": [
      "<class 'pandas.core.frame.DataFrame'>\n",
      "RangeIndex: 5713 entries, 0 to 5712\n",
      "Data columns (total 28 columns):\n",
      " #   Column                Non-Null Count  Dtype  \n",
      "---  ------                --------------  -----  \n",
      " 0   participant_id        5713 non-null   object \n",
      " 1   Timestamp             5713 non-null   object \n",
      " 2   AvgHeartRateM         5713 non-null   float64\n",
      " 3   AvgHeartRateS         5713 non-null   float64\n",
      " 4   RMSStdDev_msM         5713 non-null   float64\n",
      " 5   RMSStdDev_msS         5713 non-null   float64\n",
      " 6   AvgBreathingRateM     5713 non-null   float64\n",
      " 7   AvgBreathingRateS     5713 non-null   float64\n",
      " 8   AvgGForceM            5713 non-null   float64\n",
      " 9   AvgGForceS            5713 non-null   float64\n",
      " 10  AvgXAccel_gM          5713 non-null   float64\n",
      " 11  AvgXAccel_gS          5713 non-null   float64\n",
      " 12  AvgYAccel_gM          5713 non-null   float64\n",
      " 13  AvgYAccel_gS          5713 non-null   float64\n",
      " 14  AvgZAccel_gM          5713 non-null   float64\n",
      " 15  AvgZAccel_gS          5713 non-null   float64\n",
      " 16  SDNN_msM              5713 non-null   float64\n",
      " 17  SDNN_msS              5713 non-null   float64\n",
      " 18  StdDevBreathingRateM  5713 non-null   float64\n",
      " 19  StdDevBreathingRateS  5713 non-null   float64\n",
      " 20  StdDevGForceM         5713 non-null   float64\n",
      " 21  StdDevGForceS         5713 non-null   float64\n",
      " 22  StdDevXAccel_gM       5713 non-null   float64\n",
      " 23  StdDevXAccel_gS       5713 non-null   float64\n",
      " 24  StdDevYAccel_gM       5713 non-null   float64\n",
      " 25  StdDevYAccel_gS       5713 non-null   float64\n",
      " 26  StdDevZAccel_gM       5713 non-null   float64\n",
      " 27  StdDevZAccel_gS       5713 non-null   float64\n",
      "dtypes: float64(26), object(2)\n",
      "memory usage: 1.2+ MB\n"
     ]
    }
   ],
   "source": [
    "DOM.info()"
   ]
  },
  {
   "cell_type": "code",
   "execution_count": 42,
   "id": "d1a4c088",
   "metadata": {},
   "outputs": [],
   "source": [
    "os.makedirs('/Users/selinzobu/Desktop/TILES/', exist_ok=True)  \n",
    "DOM.to_csv('/Users/selinzobu/Desktop/TILES/1DOMSignal.csv') "
   ]
  },
  {
   "cell_type": "code",
   "execution_count": 46,
   "id": "01766abf",
   "metadata": {},
   "outputs": [
    {
     "name": "stdout",
     "output_type": "stream",
     "text": [
      "participant_id          0\n",
      "Timestamp               0\n",
      "AvgHeartRateM           0\n",
      "AvgHeartRateS           0\n",
      "RMSStdDev_msM           0\n",
      "RMSStdDev_msS           0\n",
      "AvgBreathingRateM       0\n",
      "AvgBreathingRateS       0\n",
      "AvgGForceM              0\n",
      "AvgGForceS              0\n",
      "AvgXAccel_gM            0\n",
      "AvgXAccel_gS            0\n",
      "AvgYAccel_gM            0\n",
      "AvgYAccel_gS            0\n",
      "AvgZAccel_gM            0\n",
      "AvgZAccel_gS            0\n",
      "SDNN_msM                0\n",
      "SDNN_msS                0\n",
      "StdDevBreathingRateM    0\n",
      "StdDevBreathingRateS    0\n",
      "StdDevGForceM           0\n",
      "StdDevGForceS           0\n",
      "StdDevXAccel_gM         0\n",
      "StdDevXAccel_gS         0\n",
      "StdDevYAccel_gM         0\n",
      "StdDevYAccel_gS         0\n",
      "StdDevZAccel_gM         0\n",
      "StdDevZAccel_gS         0\n",
      "dtype: int64\n"
     ]
    }
   ],
   "source": [
    "print(DOM.isna().sum())"
   ]
  },
  {
   "cell_type": "code",
   "execution_count": null,
   "id": "22130a9f",
   "metadata": {},
   "outputs": [],
   "source": []
  },
  {
   "cell_type": "code",
   "execution_count": 7,
   "id": "598dae53",
   "metadata": {},
   "outputs": [],
   "source": [
    "#p2[\"Timestamp\"] = pd.to_datetime(p2[\"Timestamp\"]).dt.date"
   ]
  },
  {
   "cell_type": "code",
   "execution_count": 43,
   "id": "e7f9739c",
   "metadata": {},
   "outputs": [],
   "source": [
    "import pandas as pd\n",
    "import numpy as np\n",
    "import matplotlib.pyplot as plt\n",
    "import seaborn as sns\n",
    "import warnings # Ignores any warning\n",
    "warnings.filterwarnings(\"ignore\")"
   ]
  },
  {
   "cell_type": "code",
   "execution_count": 44,
   "id": "5330ed42",
   "metadata": {},
   "outputs": [],
   "source": [
    "import missingno as msno"
   ]
  },
  {
   "cell_type": "code",
   "execution_count": 45,
   "id": "3cb9d756",
   "metadata": {},
   "outputs": [
    {
     "data": {
      "text/plain": [
       "<AxesSubplot:>"
      ]
     },
     "execution_count": 45,
     "metadata": {},
     "output_type": "execute_result"
    },
    {
     "data": {
      "image/png": "[encoded data removed]",
      "text/plain": [
       "<Figure size 1800x720 with 3 Axes>"
      ]
     },
     "metadata": {
      "needs_background": "light"
     },
     "output_type": "display_data"
    }
   ],
   "source": [
    "msno.bar(DOM)"
   ]
  },
  {
   "cell_type": "code",
   "execution_count": 47,
   "id": "1ec4fb3c",
   "metadata": {},
   "outputs": [],
   "source": [
    "#Visualize\n",
    "\n",
    "import seaborn as sns\n",
    "import matplotlib.pyplot as plt\n",
    "%matplotlib inline"
   ]
  },
  {
   "cell_type": "code",
   "execution_count": 48,
   "id": "4c18ee85",
   "metadata": {},
   "outputs": [
    {
     "data": {
      "image/png": "[encoded data removed]",
      "text/plain": [
       "<Figure size 864x576 with 1 Axes>"
      ]
     },
     "metadata": {
      "needs_background": "light"
     },
     "output_type": "display_data"
    }
   ],
   "source": [
    "plt.figure(figsize = (12,8))\n",
    "DOM.boxplot(vert = False)\n",
    "plt.show()"
   ]
  },
  {
   "cell_type": "code",
   "execution_count": 49,
   "id": "2cb217f2",
   "metadata": {},
   "outputs": [
    {
     "ename": "AttributeError",
     "evalue": "'DataFrame' object has no attribute 'AvgBreathingDepth'",
     "output_type": "error",
     "traceback": [
      "\u001b[0;31m---------------------------------------------------------------------------\u001b[0m",
      "\u001b[0;31mAttributeError\u001b[0m                            Traceback (most recent call last)",
      "\u001b[0;32m/var/folders/wd/1sxcpd491kg32hysvmfw5d3r0000gn/T/ipykernel_2838/1297047074.py\u001b[0m in \u001b[0;36m<module>\u001b[0;34m\u001b[0m\n\u001b[0;32m----> 1\u001b[0;31m \u001b[0mplt\u001b[0m\u001b[0;34m.\u001b[0m\u001b[0mboxplot\u001b[0m\u001b[0;34m(\u001b[0m\u001b[0mDOM\u001b[0m\u001b[0;34m.\u001b[0m\u001b[0mAvgBreathingDepth\u001b[0m\u001b[0;34m,\u001b[0m \u001b[0mvert\u001b[0m \u001b[0;34m=\u001b[0m \u001b[0;32mFalse\u001b[0m\u001b[0;34m)\u001b[0m\u001b[0;34m\u001b[0m\u001b[0;34m\u001b[0m\u001b[0m\n\u001b[0m",
      "\u001b[0;32m/opt/anaconda3/lib/python3.9/site-packages/pandas/core/generic.py\u001b[0m in \u001b[0;36m__getattr__\u001b[0;34m(self, name)\u001b[0m\n\u001b[1;32m   5485\u001b[0m         ):\n\u001b[1;32m   5486\u001b[0m             \u001b[0;32mreturn\u001b[0m \u001b[0mself\u001b[0m\u001b[0;34m[\u001b[0m\u001b[0mname\u001b[0m\u001b[0;34m]\u001b[0m\u001b[0;34m\u001b[0m\u001b[0;34m\u001b[0m\u001b[0m\n\u001b[0;32m-> 5487\u001b[0;31m         \u001b[0;32mreturn\u001b[0m \u001b[0mobject\u001b[0m\u001b[0;34m.\u001b[0m\u001b[0m__getattribute__\u001b[0m\u001b[0;34m(\u001b[0m\u001b[0mself\u001b[0m\u001b[0;34m,\u001b[0m \u001b[0mname\u001b[0m\u001b[0;34m)\u001b[0m\u001b[0;34m\u001b[0m\u001b[0;34m\u001b[0m\u001b[0m\n\u001b[0m\u001b[1;32m   5488\u001b[0m \u001b[0;34m\u001b[0m\u001b[0m\n\u001b[1;32m   5489\u001b[0m     \u001b[0;32mdef\u001b[0m \u001b[0m__setattr__\u001b[0m\u001b[0;34m(\u001b[0m\u001b[0mself\u001b[0m\u001b[0;34m,\u001b[0m \u001b[0mname\u001b[0m\u001b[0;34m:\u001b[0m \u001b[0mstr\u001b[0m\u001b[0;34m,\u001b[0m \u001b[0mvalue\u001b[0m\u001b[0;34m)\u001b[0m \u001b[0;34m->\u001b[0m \u001b[0;32mNone\u001b[0m\u001b[0;34m:\u001b[0m\u001b[0;34m\u001b[0m\u001b[0;34m\u001b[0m\u001b[0m\n",
      "\u001b[0;31mAttributeError\u001b[0m: 'DataFrame' object has no attribute 'AvgBreathingDepth'"
     ]
    }
   ],
   "source": [
    "plt.boxplot(DOM.AvgBreathingDepth, vert = False)"
   ]
  },
  {
   "cell_type": "code",
   "execution_count": 38,
   "id": "ec04fb14",
   "metadata": {},
   "outputs": [
    {
     "data": {
      "text/plain": [
       "{'whiskers': [<matplotlib.lines.Line2D at 0x7ff05cab5250>,\n",
       "  <matplotlib.lines.Line2D at 0x7ff05cab55e0>],\n",
       " 'caps': [<matplotlib.lines.Line2D at 0x7ff05cab5970>,\n",
       "  <matplotlib.lines.Line2D at 0x7ff05cab5d00>],\n",
       " 'boxes': [<matplotlib.lines.Line2D at 0x7ff05d33ae80>],\n",
       " 'medians': [<matplotlib.lines.Line2D at 0x7ff05e2670d0>],\n",
       " 'fliers': [<matplotlib.lines.Line2D at 0x7ff05e2677f0>],\n",
       " 'means': [<matplotlib.lines.Line2D at 0x7ff05e267460>]}"
      ]
     },
     "execution_count": 38,
     "metadata": {},
     "output_type": "execute_result"
    },
    {
     "data": {
      "image/png": "[encoded data removed]",
      "text/plain": [
       "<Figure size 432x288 with 1 Axes>"
      ]
     },
     "metadata": {
      "needs_background": "light"
     },
     "output_type": "display_data"
    }
   ],
   "source": [
    "plt.boxplot(OM['AvgBreathingRate'], meanline = True, showmeans= True, vert= False)"
   ]
  },
  {
   "cell_type": "code",
   "execution_count": 39,
   "id": "da1f011d",
   "metadata": {},
   "outputs": [
    {
     "data": {
      "text/plain": [
       "{'whiskers': [<matplotlib.lines.Line2D at 0x7fddcb2536d0>,\n",
       "  <matplotlib.lines.Line2D at 0x7fddcb253a60>],\n",
       " 'caps': [<matplotlib.lines.Line2D at 0x7fddcb253df0>,\n",
       "  <matplotlib.lines.Line2D at 0x7fddcdccb1c0>],\n",
       " 'boxes': [<matplotlib.lines.Line2D at 0x7fddcb253340>],\n",
       " 'medians': [<matplotlib.lines.Line2D at 0x7fddcdccb550>],\n",
       " 'fliers': [<matplotlib.lines.Line2D at 0x7fddcdccbc70>],\n",
       " 'means': [<matplotlib.lines.Line2D at 0x7fddcdccb8e0>]}"
      ]
     },
     "execution_count": 39,
     "metadata": {},
     "output_type": "execute_result"
    },
    {
     "data": {
      "image/png": "[encoded data removed]",
      "text/plain": [
       "<Figure size 432x288 with 1 Axes>"
      ]
     },
     "metadata": {
      "needs_background": "light"
     },
     "output_type": "display_data"
    }
   ],
   "source": [
    "plt.boxplot(OM['AvgGForce'], meanline = True, showmeans= True, vert= False)"
   ]
  },
  {
   "cell_type": "code",
   "execution_count": 40,
   "id": "c0ac09cd",
   "metadata": {},
   "outputs": [
    {
     "data": {
      "text/plain": [
       "{'whiskers': [<matplotlib.lines.Line2D at 0x7ff05ee7be20>,\n",
       "  <matplotlib.lines.Line2D at 0x7fddc0b2f1f0>],\n",
       " 'caps': [<matplotlib.lines.Line2D at 0x7fddc0b2f580>,\n",
       "  <matplotlib.lines.Line2D at 0x7fddc0b2f910>],\n",
       " 'boxes': [<matplotlib.lines.Line2D at 0x7ff05ee7ba90>],\n",
       " 'medians': [<matplotlib.lines.Line2D at 0x7fddc0b2fca0>],\n",
       " 'fliers': [<matplotlib.lines.Line2D at 0x7fddc1b00400>],\n",
       " 'means': [<matplotlib.lines.Line2D at 0x7fddc1b00070>]}"
      ]
     },
     "execution_count": 40,
     "metadata": {},
     "output_type": "execute_result"
    },
    {
     "data": {
      "image/png": "[encoded data removed]",
      "text/plain": [
       "<Figure size 432x288 with 1 Axes>"
      ]
     },
     "metadata": {
      "needs_background": "light"
     },
     "output_type": "display_data"
    }
   ],
   "source": [
    "plt.boxplot(OM['AvgHeartRate'], meanline = True, showmeans= True, vert= False)"
   ]
  },
  {
   "cell_type": "code",
   "execution_count": 41,
   "id": "76074bc5",
   "metadata": {},
   "outputs": [
    {
     "data": {
      "text/plain": [
       "{'whiskers': [<matplotlib.lines.Line2D at 0x7fddcf7c0d60>,\n",
       "  <matplotlib.lines.Line2D at 0x7fddcf7c0400>],\n",
       " 'caps': [<matplotlib.lines.Line2D at 0x7fddcf7c05b0>,\n",
       "  <matplotlib.lines.Line2D at 0x7fddcf7c0a00>],\n",
       " 'boxes': [<matplotlib.lines.Line2D at 0x7fddcf7cfd90>],\n",
       " 'medians': [<matplotlib.lines.Line2D at 0x7fddcf7c0df0>],\n",
       " 'fliers': [<matplotlib.lines.Line2D at 0x7ff05c502f70>],\n",
       " 'means': [<matplotlib.lines.Line2D at 0x7ff05c5028b0>]}"
      ]
     },
     "execution_count": 41,
     "metadata": {},
     "output_type": "execute_result"
    },
    {
     "data": {
      "image/png": "[encoded data removed]",
      "text/plain": [
       "<Figure size 432x288 with 1 Axes>"
      ]
     },
     "metadata": {
      "needs_background": "light"
     },
     "output_type": "display_data"
    }
   ],
   "source": [
    "plt.boxplot(OM['AvgXAccel_g'], meanline = True, showmeans= True, vert= False)"
   ]
  },
  {
   "cell_type": "code",
   "execution_count": 42,
   "id": "407f99ba",
   "metadata": {},
   "outputs": [
    {
     "data": {
      "text/plain": [
       "{'whiskers': [<matplotlib.lines.Line2D at 0x7fe697f2a580>,\n",
       "  <matplotlib.lines.Line2D at 0x7fe697f2a430>],\n",
       " 'caps': [<matplotlib.lines.Line2D at 0x7fe697f2adf0>,\n",
       "  <matplotlib.lines.Line2D at 0x7fe697f2a640>],\n",
       " 'boxes': [<matplotlib.lines.Line2D at 0x7fe68ecc8970>],\n",
       " 'medians': [<matplotlib.lines.Line2D at 0x7fe697f2a070>],\n",
       " 'fliers': [<matplotlib.lines.Line2D at 0x7fddc7f8b9a0>],\n",
       " 'means': [<matplotlib.lines.Line2D at 0x7fddc7f8b610>]}"
      ]
     },
     "execution_count": 42,
     "metadata": {},
     "output_type": "execute_result"
    },
    {
     "data": {
      "image/png": "[encoded data removed]",
      "text/plain": [
       "<Figure size 432x288 with 1 Axes>"
      ]
     },
     "metadata": {
      "needs_background": "light"
     },
     "output_type": "display_data"
    }
   ],
   "source": [
    "plt.boxplot(OM['AvgYAccel_g'], meanline = True, showmeans= True, vert= False)"
   ]
  },
  {
   "cell_type": "code",
   "execution_count": 43,
   "id": "e452689a",
   "metadata": {},
   "outputs": [
    {
     "data": {
      "text/plain": [
       "{'whiskers': [<matplotlib.lines.Line2D at 0x7fddce90b2e0>,\n",
       "  <matplotlib.lines.Line2D at 0x7fddce90b670>],\n",
       " 'caps': [<matplotlib.lines.Line2D at 0x7fddce90ba00>,\n",
       "  <matplotlib.lines.Line2D at 0x7fddce90bd90>],\n",
       " 'boxes': [<matplotlib.lines.Line2D at 0x7fddce919f10>],\n",
       " 'medians': [<matplotlib.lines.Line2D at 0x7ff05d1d6160>],\n",
       " 'fliers': [<matplotlib.lines.Line2D at 0x7ff05d1d6880>],\n",
       " 'means': [<matplotlib.lines.Line2D at 0x7ff05d1d64f0>]}"
      ]
     },
     "execution_count": 43,
     "metadata": {},
     "output_type": "execute_result"
    },
    {
     "data": {
      "image/png": "[encoded data removed]",
      "text/plain": [
       "<Figure size 432x288 with 1 Axes>"
      ]
     },
     "metadata": {
      "needs_background": "light"
     },
     "output_type": "display_data"
    }
   ],
   "source": [
    "plt.boxplot(OM['AvgZAccel_g'], meanline = True, showmeans= True, vert= False)"
   ]
  },
  {
   "cell_type": "code",
   "execution_count": 44,
   "id": "56c40d8e",
   "metadata": {},
   "outputs": [
    {
     "data": {
      "text/plain": [
       "{'whiskers': [<matplotlib.lines.Line2D at 0x7ff05cd681c0>,\n",
       "  <matplotlib.lines.Line2D at 0x7ff05cd68550>],\n",
       " 'caps': [<matplotlib.lines.Line2D at 0x7ff05cd688e0>,\n",
       "  <matplotlib.lines.Line2D at 0x7ff05cd68c70>],\n",
       " 'boxes': [<matplotlib.lines.Line2D at 0x7ff05cd79df0>],\n",
       " 'medians': [<matplotlib.lines.Line2D at 0x7ff05cd59040>],\n",
       " 'fliers': [<matplotlib.lines.Line2D at 0x7ff05cd59760>],\n",
       " 'means': [<matplotlib.lines.Line2D at 0x7ff05cd593d0>]}"
      ]
     },
     "execution_count": 44,
     "metadata": {},
     "output_type": "execute_result"
    },
    {
     "data": {
      "image/png": "[encoded data removed]",
      "text/plain": [
       "<Figure size 432x288 with 1 Axes>"
      ]
     },
     "metadata": {
      "needs_background": "light"
     },
     "output_type": "display_data"
    }
   ],
   "source": [
    "plt.boxplot(OM['RMSStdDev_ms'], meanline = True, showmeans= True, vert= False)"
   ]
  },
  {
   "cell_type": "code",
   "execution_count": 36,
   "id": "65e8795b",
   "metadata": {},
   "outputs": [
    {
     "name": "stdout",
     "output_type": "stream",
     "text": [
      "Index(['Timestamp', 'AvgBreathingDepth', 'AvgBreathingRate', 'AvgGForce',\n",
      "       'AvgHeartRate', 'AvgXAccel_g', 'AvgYAccel_g', 'AvgZAccel_g',\n",
      "       'RMSStdDev_ms', 'RRPeakCoverage', 'SDNN_ms', 'StdDevBreathingDepth',\n",
      "       'StdDevBreathingRate', 'StdDevGForce', 'StdDevXAccel_g',\n",
      "       'StdDevYAccel_g', 'StdDevZAccel_g', 'participant_id'],\n",
      "      dtype='object')\n"
     ]
    }
   ],
   "source": [
    "print(OM.columns)"
   ]
  },
  {
   "cell_type": "code",
   "execution_count": 45,
   "id": "54f415bd",
   "metadata": {},
   "outputs": [
    {
     "data": {
      "text/plain": [
       "{'whiskers': [<matplotlib.lines.Line2D at 0x7ff05c7bdee0>,\n",
       "  <matplotlib.lines.Line2D at 0x7ff05c7ac2b0>],\n",
       " 'caps': [<matplotlib.lines.Line2D at 0x7ff05c7ac640>,\n",
       "  <matplotlib.lines.Line2D at 0x7ff05c7ac9d0>],\n",
       " 'boxes': [<matplotlib.lines.Line2D at 0x7ff05c7bdb50>],\n",
       " 'medians': [<matplotlib.lines.Line2D at 0x7ff05c7acd60>],\n",
       " 'fliers': [<matplotlib.lines.Line2D at 0x7ff05c79f4c0>],\n",
       " 'means': [<matplotlib.lines.Line2D at 0x7ff05c79f130>]}"
      ]
     },
     "execution_count": 45,
     "metadata": {},
     "output_type": "execute_result"
    },
    {
     "data": {
      "image/png": "[encoded data removed]",
      "text/plain": [
       "<Figure size 432x288 with 1 Axes>"
      ]
     },
     "metadata": {
      "needs_background": "light"
     },
     "output_type": "display_data"
    }
   ],
   "source": [
    "plt.boxplot(OM['RRPeakCoverage'], meanline = True, showmeans= True, vert= False)"
   ]
  },
  {
   "cell_type": "code",
   "execution_count": 46,
   "id": "369ad040",
   "metadata": {},
   "outputs": [
    {
     "data": {
      "text/plain": [
       "{'whiskers': [<matplotlib.lines.Line2D at 0x7ff05f5bec40>,\n",
       "  <matplotlib.lines.Line2D at 0x7ff05f5befd0>],\n",
       " 'caps': [<matplotlib.lines.Line2D at 0x7ff05f5b03a0>,\n",
       "  <matplotlib.lines.Line2D at 0x7ff05f5b0730>],\n",
       " 'boxes': [<matplotlib.lines.Line2D at 0x7ff05f5be8b0>],\n",
       " 'medians': [<matplotlib.lines.Line2D at 0x7ff05f5b0ac0>],\n",
       " 'fliers': [<matplotlib.lines.Line2D at 0x7ff05f5a4220>],\n",
       " 'means': [<matplotlib.lines.Line2D at 0x7ff05f5b0e50>]}"
      ]
     },
     "execution_count": 46,
     "metadata": {},
     "output_type": "execute_result"
    },
    {
     "data": {
      "image/png": "[encoded data removed]",
      "text/plain": [
       "<Figure size 432x288 with 1 Axes>"
      ]
     },
     "metadata": {
      "needs_background": "light"
     },
     "output_type": "display_data"
    }
   ],
   "source": [
    "plt.boxplot(OM['SDNN_ms'], meanline = True, showmeans= True, vert= False)"
   ]
  },
  {
   "cell_type": "code",
   "execution_count": 47,
   "id": "9b5d7a1b",
   "metadata": {},
   "outputs": [
    {
     "data": {
      "text/plain": [
       "{'whiskers': [<matplotlib.lines.Line2D at 0x7ff05f44d970>,\n",
       "  <matplotlib.lines.Line2D at 0x7ff05f44dd00>],\n",
       " 'caps': [<matplotlib.lines.Line2D at 0x7ff05f43c0d0>,\n",
       "  <matplotlib.lines.Line2D at 0x7ff05f43c460>],\n",
       " 'boxes': [<matplotlib.lines.Line2D at 0x7ff05f44d5e0>],\n",
       " 'medians': [<matplotlib.lines.Line2D at 0x7ff05f43c7f0>],\n",
       " 'fliers': [<matplotlib.lines.Line2D at 0x7ff05f43cf10>],\n",
       " 'means': [<matplotlib.lines.Line2D at 0x7ff05f43cb80>]}"
      ]
     },
     "execution_count": 47,
     "metadata": {},
     "output_type": "execute_result"
    },
    {
     "data": {
      "image/png": "[encoded data removed]",
      "text/plain": [
       "<Figure size 432x288 with 1 Axes>"
      ]
     },
     "metadata": {
      "needs_background": "light"
     },
     "output_type": "display_data"
    }
   ],
   "source": [
    "plt.boxplot(OM['StdDevBreathingDepth'], meanline = True, showmeans= True, vert= False)"
   ]
  },
  {
   "cell_type": "code",
   "execution_count": 48,
   "id": "2ae37eb9",
   "metadata": {},
   "outputs": [
    {
     "data": {
      "text/plain": [
       "{'whiskers': [<matplotlib.lines.Line2D at 0x7ff05ee801c0>,\n",
       "  <matplotlib.lines.Line2D at 0x7ff05ee80550>],\n",
       " 'caps': [<matplotlib.lines.Line2D at 0x7ff05ee808e0>,\n",
       "  <matplotlib.lines.Line2D at 0x7ff05ee80c70>],\n",
       " 'boxes': [<matplotlib.lines.Line2D at 0x7ff05ee92dc0>],\n",
       " 'medians': [<matplotlib.lines.Line2D at 0x7ff05ee72040>],\n",
       " 'fliers': [<matplotlib.lines.Line2D at 0x7ff05ee72760>],\n",
       " 'means': [<matplotlib.lines.Line2D at 0x7ff05ee723d0>]}"
      ]
     },
     "execution_count": 48,
     "metadata": {},
     "output_type": "execute_result"
    },
    {
     "data": {
      "image/png": "[encoded data removed]",
      "text/plain": [
       "<Figure size 432x288 with 1 Axes>"
      ]
     },
     "metadata": {
      "needs_background": "light"
     },
     "output_type": "display_data"
    }
   ],
   "source": [
    "plt.boxplot(OM['StdDevBreathingRate'], meanline = True, showmeans= True, vert= False)"
   ]
  },
  {
   "cell_type": "code",
   "execution_count": 49,
   "id": "e9deca78",
   "metadata": {},
   "outputs": [
    {
     "data": {
      "text/plain": [
       "{'whiskers': [<matplotlib.lines.Line2D at 0x7fddc0b31610>,\n",
       "  <matplotlib.lines.Line2D at 0x7fddc0b319a0>],\n",
       " 'caps': [<matplotlib.lines.Line2D at 0x7fddc0b31d30>,\n",
       "  <matplotlib.lines.Line2D at 0x7fddc0b29100>],\n",
       " 'boxes': [<matplotlib.lines.Line2D at 0x7fddc0b31280>],\n",
       " 'medians': [<matplotlib.lines.Line2D at 0x7fddc0b29490>],\n",
       " 'fliers': [<matplotlib.lines.Line2D at 0x7fddc0b29bb0>],\n",
       " 'means': [<matplotlib.lines.Line2D at 0x7fddc0b29820>]}"
      ]
     },
     "execution_count": 49,
     "metadata": {},
     "output_type": "execute_result"
    },
    {
     "data": {
      "image/png": "[encoded data removed]",
      "text/plain": [
       "<Figure size 432x288 with 1 Axes>"
      ]
     },
     "metadata": {
      "needs_background": "light"
     },
     "output_type": "display_data"
    }
   ],
   "source": [
    "plt.boxplot(OM['StdDevGForce'], meanline = True, showmeans= True, vert= False)"
   ]
  },
  {
   "cell_type": "code",
   "execution_count": 50,
   "id": "a92e90a9",
   "metadata": {},
   "outputs": [
    {
     "data": {
      "text/plain": [
       "{'whiskers': [<matplotlib.lines.Line2D at 0x7fddc1b09ee0>,\n",
       "  <matplotlib.lines.Line2D at 0x7fddc38292b0>],\n",
       " 'caps': [<matplotlib.lines.Line2D at 0x7fddc3829640>,\n",
       "  <matplotlib.lines.Line2D at 0x7fddc38299d0>],\n",
       " 'boxes': [<matplotlib.lines.Line2D at 0x7fddc1b09b50>],\n",
       " 'medians': [<matplotlib.lines.Line2D at 0x7fddc3829d60>],\n",
       " 'fliers': [<matplotlib.lines.Line2D at 0x7fddc381d4c0>],\n",
       " 'means': [<matplotlib.lines.Line2D at 0x7fddc381d130>]}"
      ]
     },
     "execution_count": 50,
     "metadata": {},
     "output_type": "execute_result"
    },
    {
     "data": {
      "image/png": "[encoded data removed]",
      "text/plain": [
       "<Figure size 432x288 with 1 Axes>"
      ]
     },
     "metadata": {
      "needs_background": "light"
     },
     "output_type": "display_data"
    }
   ],
   "source": [
    "plt.boxplot(OM['StdDevXAccel_g'], meanline = True, showmeans= True, vert= False)"
   ]
  },
  {
   "cell_type": "code",
   "execution_count": 51,
   "id": "198ecf32",
   "metadata": {},
   "outputs": [
    {
     "data": {
      "text/plain": [
       "{'whiskers': [<matplotlib.lines.Line2D at 0x7fddc87c0670>,\n",
       "  <matplotlib.lines.Line2D at 0x7fddc87c0a00>],\n",
       " 'caps': [<matplotlib.lines.Line2D at 0x7fddc87c0d90>,\n",
       "  <matplotlib.lines.Line2D at 0x7fddc87b1160>],\n",
       " 'boxes': [<matplotlib.lines.Line2D at 0x7fddc87c02e0>],\n",
       " 'medians': [<matplotlib.lines.Line2D at 0x7fddc87b14f0>],\n",
       " 'fliers': [<matplotlib.lines.Line2D at 0x7fddc87b1c10>],\n",
       " 'means': [<matplotlib.lines.Line2D at 0x7fddc87b1880>]}"
      ]
     },
     "execution_count": 51,
     "metadata": {},
     "output_type": "execute_result"
    },
    {
     "data": {
      "image/png": "[encoded data removed]",
      "text/plain": [
       "<Figure size 432x288 with 1 Axes>"
      ]
     },
     "metadata": {
      "needs_background": "light"
     },
     "output_type": "display_data"
    }
   ],
   "source": [
    "plt.boxplot(OM['StdDevYAccel_g'], meanline = True, showmeans= True, vert= False)"
   ]
  },
  {
   "cell_type": "code",
   "execution_count": 52,
   "id": "cb913c2c",
   "metadata": {},
   "outputs": [
    {
     "data": {
      "text/plain": [
       "{'whiskers': [<matplotlib.lines.Line2D at 0x7fddc8693dc0>,\n",
       "  <matplotlib.lines.Line2D at 0x7fddc8682190>],\n",
       " 'caps': [<matplotlib.lines.Line2D at 0x7fddc8682520>,\n",
       "  <matplotlib.lines.Line2D at 0x7fddc86828b0>],\n",
       " 'boxes': [<matplotlib.lines.Line2D at 0x7fddc8693a30>],\n",
       " 'medians': [<matplotlib.lines.Line2D at 0x7fddc8682c40>],\n",
       " 'fliers': [<matplotlib.lines.Line2D at 0x7fddc86763a0>],\n",
       " 'means': [<matplotlib.lines.Line2D at 0x7fddc8682fd0>]}"
      ]
     },
     "execution_count": 52,
     "metadata": {},
     "output_type": "execute_result"
    },
    {
     "data": {
      "image/png": "[encoded data removed]",
      "text/plain": [
       "<Figure size 432x288 with 1 Axes>"
      ]
     },
     "metadata": {
      "needs_background": "light"
     },
     "output_type": "display_data"
    }
   ],
   "source": [
    "plt.boxplot(OM['StdDevZAccel_g'], meanline = True, showmeans= True, vert= False)"
   ]
  },
  {
   "cell_type": "code",
   "execution_count": 54,
   "id": "86c8c680",
   "metadata": {},
   "outputs": [
    {
     "name": "stdout",
     "output_type": "stream",
     "text": [
      "                          Timestamp  AvgBreathingDepth  AvgBreathingRate  \\\n",
      "300   2018-05-07T06:26:31.000-07:00           8.383838         22.034967   \n",
      "601   2018-05-07T06:31:31.000-07:00           9.117117         25.456288   \n",
      "901   2018-05-07T06:36:31.000-07:00           5.438202         19.447249   \n",
      "1201  2018-05-07T06:41:31.000-07:00           4.780822         19.361490   \n",
      "1502  2018-05-07T06:46:31.000-07:00           5.352941         20.724051   \n",
      "\n",
      "      AvgGForce  AvgHeartRate  AvgXAccel_g  AvgYAccel_g  AvgZAccel_g  \\\n",
      "300    0.126191     92.308322    -0.700388     0.351154    -0.346906   \n",
      "601    0.381981    104.606228    -0.805678     0.234999    -0.198497   \n",
      "901    0.045566     73.867437    -0.976104     0.027229    -0.063092   \n",
      "1201   0.036021     72.912969    -0.974498     0.052450    -0.054859   \n",
      "1502   0.040741     74.607701    -0.975783     0.041124    -0.092610   \n",
      "\n",
      "      RMSStdDev_ms  RRPeakCoverage     SDNN_ms  StdDevBreathingDepth  \\\n",
      "300      32.039420        0.977160   91.748981              6.648165   \n",
      "601      49.802333        0.900520  129.298276              4.660743   \n",
      "901      65.734821        0.936813   67.427589              3.586449   \n",
      "1201     61.004179        0.976507   64.482345              2.897540   \n",
      "1502     56.445098        0.986493   66.365685              3.022558   \n",
      "\n",
      "      StdDevBreathingRate  StdDevGForce  StdDevXAccel_g  StdDevYAccel_g  \\\n",
      "300              2.569060      0.131245        0.381939        0.302689   \n",
      "601              3.005212      0.359368        0.362434        0.298751   \n",
      "901              1.237596      0.038897        0.023349        0.076135   \n",
      "1201             0.875203      0.028835        0.018889        0.057922   \n",
      "1502             0.828340      0.023807        0.021689        0.085389   \n",
      "\n",
      "      StdDevZAccel_g                       participant_id  \n",
      "300         0.167244  6081755-d7f3-4c26-ab40-0709b8ad41ef  \n",
      "601         0.222775  6081755-d7f3-4c26-ab40-0709b8ad41ef  \n",
      "901         0.056512  6081755-d7f3-4c26-ab40-0709b8ad41ef  \n",
      "1201        0.049131  6081755-d7f3-4c26-ab40-0709b8ad41ef  \n",
      "1502        0.064962  6081755-d7f3-4c26-ab40-0709b8ad41ef  \n"
     ]
    }
   ],
   "source": [
    "print(OM.head())"
   ]
  },
  {
   "cell_type": "code",
   "execution_count": 55,
   "id": "3483362e",
   "metadata": {},
   "outputs": [],
   "source": [
    "#Outliers : Z Score\n",
    "\n",
    "outliers = []\n",
    "def detect_outliers(data):\n",
    "    threshold =3\n",
    "    mean = np.mean(data)\n",
    "    std = np.std(data)\n",
    "    \n",
    "    \n",
    "    for i in data:\n",
    "        z_score = (i - mean)/std\n",
    "        if np.abs(z_score) > threshold:\n",
    "            outliers.append(i)\n",
    "    return outliers"
   ]
  },
  {
   "cell_type": "code",
   "execution_count": 56,
   "id": "a86e7196",
   "metadata": {},
   "outputs": [
    {
     "name": "stdout",
     "output_type": "stream",
     "text": [
      "5365\n"
     ]
    }
   ],
   "source": [
    "outlier_BD = detect_outliers(OM.AvgBreathingDepth)\n",
    "print(len(outlier_BD))#5365"
   ]
  },
  {
   "cell_type": "code",
   "execution_count": 57,
   "id": "5eb30942",
   "metadata": {},
   "outputs": [
    {
     "name": "stdout",
     "output_type": "stream",
     "text": [
      "11773\n"
     ]
    }
   ],
   "source": [
    "outlier_BR = detect_outliers(OM.AvgBreathingRate)\n",
    "print(len(outlier_BR))#11773"
   ]
  },
  {
   "cell_type": "code",
   "execution_count": 58,
   "id": "ca770676",
   "metadata": {},
   "outputs": [
    {
     "name": "stdout",
     "output_type": "stream",
     "text": [
      "19399\n"
     ]
    }
   ],
   "source": [
    "outlier_AF = detect_outliers(OM.AvgGForce)\n",
    "print(len(outlier_AF))#19399"
   ]
  },
  {
   "cell_type": "code",
   "execution_count": 62,
   "id": "7e351f9f",
   "metadata": {},
   "outputs": [
    {
     "name": "stdout",
     "output_type": "stream",
     "text": [
      "57001\n"
     ]
    }
   ],
   "source": [
    "outlier_HR = detect_outliers(OM.AvgHeartRate)\n",
    "print(len(outlier_HR))#57001"
   ]
  },
  {
   "cell_type": "code",
   "execution_count": 59,
   "id": "acd49d57",
   "metadata": {},
   "outputs": [
    {
     "name": "stdout",
     "output_type": "stream",
     "text": [
      "30928\n"
     ]
    }
   ],
   "source": [
    "outlier_AX = detect_outliers(OM.AvgXAccel_g)\n",
    "print(len(outlier_AX))#30928"
   ]
  },
  {
   "cell_type": "code",
   "execution_count": 60,
   "id": "c6b0c30d",
   "metadata": {},
   "outputs": [
    {
     "name": "stdout",
     "output_type": "stream",
     "text": [
      "37818\n"
     ]
    }
   ],
   "source": [
    "outlier_AY = detect_outliers(OM.AvgYAccel_g)\n",
    "print(len(outlier_AY))#37818"
   ]
  },
  {
   "cell_type": "code",
   "execution_count": 61,
   "id": "c0064280",
   "metadata": {},
   "outputs": [
    {
     "name": "stdout",
     "output_type": "stream",
     "text": [
      "49744\n"
     ]
    }
   ],
   "source": [
    "outlier_AZ = detect_outliers(OM.AvgZAccel_g)\n",
    "print(len(outlier_AZ))#49744"
   ]
  },
  {
   "cell_type": "code",
   "execution_count": 64,
   "id": "a8080255",
   "metadata": {},
   "outputs": [
    {
     "name": "stdout",
     "output_type": "stream",
     "text": [
      "76949\n"
     ]
    }
   ],
   "source": [
    "outlier_RMSS = detect_outliers(OM.RMSStdDev_ms)\n",
    "print(len(outlier_RMSS))#66975?"
   ]
  },
  {
   "cell_type": "code",
   "execution_count": 65,
   "id": "c93d51aa",
   "metadata": {},
   "outputs": [
    {
     "name": "stdout",
     "output_type": "stream",
     "text": [
      "76949\n"
     ]
    }
   ],
   "source": [
    "outlier_RR = detect_outliers(OM.RRPeakCoverage)\n",
    "print(len(outlier_RR))#76949"
   ]
  },
  {
   "cell_type": "code",
   "execution_count": 66,
   "id": "132b1b97",
   "metadata": {},
   "outputs": [
    {
     "name": "stdout",
     "output_type": "stream",
     "text": [
      "86705\n"
     ]
    }
   ],
   "source": [
    "outlier_SDNN = detect_outliers(OM.SDNN_ms)\n",
    "print(len(outlier_SDNN))#86705"
   ]
  },
  {
   "cell_type": "code",
   "execution_count": 67,
   "id": "ce447980",
   "metadata": {},
   "outputs": [
    {
     "name": "stdout",
     "output_type": "stream",
     "text": [
      "92581\n"
     ]
    }
   ],
   "source": [
    "outlier_SBD = detect_outliers(OM.StdDevBreathingDepth)\n",
    "print(len(outlier_SBD))#92581"
   ]
  },
  {
   "cell_type": "code",
   "execution_count": 68,
   "id": "6e6ebf28",
   "metadata": {},
   "outputs": [
    {
     "name": "stdout",
     "output_type": "stream",
     "text": [
      "105581\n"
     ]
    }
   ],
   "source": [
    "outlier_SBR = detect_outliers(OM.StdDevBreathingRate)\n",
    "print(len(outlier_SBR))#105581"
   ]
  },
  {
   "cell_type": "code",
   "execution_count": 69,
   "id": "a0923a71",
   "metadata": {},
   "outputs": [
    {
     "name": "stdout",
     "output_type": "stream",
     "text": [
      "109794\n"
     ]
    }
   ],
   "source": [
    "outlier_SDF = detect_outliers(OM.StdDevGForce)\n",
    "print(len(outlier_SDF))#109794"
   ]
  },
  {
   "cell_type": "code",
   "execution_count": 70,
   "id": "9c7546b6",
   "metadata": {},
   "outputs": [
    {
     "name": "stdout",
     "output_type": "stream",
     "text": [
      "118952\n"
     ]
    }
   ],
   "source": [
    "outlier_SX = detect_outliers(OM.StdDevXAccel_g)\n",
    "print(len(outlier_SX))#118952"
   ]
  },
  {
   "cell_type": "code",
   "execution_count": 71,
   "id": "32aece1b",
   "metadata": {},
   "outputs": [
    {
     "name": "stdout",
     "output_type": "stream",
     "text": [
      "122388\n"
     ]
    }
   ],
   "source": [
    "outlier_SY = detect_outliers(OM.StdDevYAccel_g)\n",
    "print(len(outlier_SY))#122388"
   ]
  },
  {
   "cell_type": "code",
   "execution_count": 72,
   "id": "f01f43d4",
   "metadata": {},
   "outputs": [
    {
     "name": "stdout",
     "output_type": "stream",
     "text": [
      "127733\n"
     ]
    }
   ],
   "source": [
    "outlier_SZ = detect_outliers(OM.StdDevZAccel_g)\n",
    "print(len(outlier_SZ))#127733"
   ]
  },
  {
   "cell_type": "code",
   "execution_count": 73,
   "id": "d6aae3b0",
   "metadata": {},
   "outputs": [],
   "source": [
    "#Outliers : Scatter plot & Boxplots\n",
    "from pylab import rcParams\n",
    "import seaborn as sns"
   ]
  },
  {
   "cell_type": "code",
   "execution_count": 74,
   "id": "890785fa",
   "metadata": {},
   "outputs": [],
   "source": [
    "%matplotlib inline\n",
    "rcParams['figure.figsize'] = 5,4\n",
    "sns.set_style('whitegrid')"
   ]
  },
  {
   "cell_type": "code",
   "execution_count": 76,
   "id": "2eafcb48",
   "metadata": {},
   "outputs": [],
   "source": [
    "#sns.boxplot(x = 'days',y = 'NumberSteps', data = OM, palette = 'hls')"
   ]
  },
  {
   "cell_type": "code",
   "execution_count": null,
   "id": "5f727aa9",
   "metadata": {},
   "outputs": [],
   "source": [
    "#sns.pairplot(OM, hue = '', palette = 'hls')"
   ]
  },
  {
   "cell_type": "code",
   "execution_count": 78,
   "id": "bac7bba2",
   "metadata": {},
   "outputs": [
    {
     "data": {
      "text/plain": [
       "<AxesSubplot:xlabel='AvgBreathingDepth', ylabel='Density'>"
      ]
     },
     "execution_count": 78,
     "metadata": {},
     "output_type": "execute_result"
    },
    {
     "data": {
      "image/png": "[encoded data removed]",
      "text/plain": [
       "<Figure size 360x288 with 1 Axes>"
      ]
     },
     "metadata": {},
     "output_type": "display_data"
    }
   ],
   "source": [
    "sns.distplot(OM['AvgBreathingDepth'])"
   ]
  },
  {
   "cell_type": "code",
   "execution_count": 79,
   "id": "5c680240",
   "metadata": {},
   "outputs": [
    {
     "data": {
      "text/plain": [
       "<AxesSubplot:xlabel='AvgBreathingRate', ylabel='Density'>"
      ]
     },
     "execution_count": 79,
     "metadata": {},
     "output_type": "execute_result"
    },
    {
     "data": {
      "image/png": "[encoded data removed]",
      "text/plain": [
       "<Figure size 360x288 with 1 Axes>"
      ]
     },
     "metadata": {},
     "output_type": "display_data"
    }
   ],
   "source": [
    "sns.distplot(OM['AvgBreathingRate'])"
   ]
  },
  {
   "cell_type": "code",
   "execution_count": 80,
   "id": "7b1dc62e",
   "metadata": {},
   "outputs": [
    {
     "data": {
      "text/plain": [
       "<AxesSubplot:xlabel='AvgGForce', ylabel='Density'>"
      ]
     },
     "execution_count": 80,
     "metadata": {},
     "output_type": "execute_result"
    },
    {
     "data": {
      "image/png": "[encoded data removed]",
      "text/plain": [
       "<Figure size 360x288 with 1 Axes>"
      ]
     },
     "metadata": {},
     "output_type": "display_data"
    }
   ],
   "source": [
    "sns.distplot(OM['AvgGForce'])"
   ]
  },
  {
   "cell_type": "code",
   "execution_count": 81,
   "id": "caa97bdf",
   "metadata": {},
   "outputs": [
    {
     "data": {
      "text/plain": [
       "<AxesSubplot:xlabel='AvgHeartRate', ylabel='Density'>"
      ]
     },
     "execution_count": 81,
     "metadata": {},
     "output_type": "execute_result"
    },
    {
     "data": {
      "image/png": "[encoded data removed]",
      "text/plain": [
       "<Figure size 360x288 with 1 Axes>"
      ]
     },
     "metadata": {},
     "output_type": "display_data"
    }
   ],
   "source": [
    "sns.distplot(OM['AvgHeartRate'])"
   ]
  },
  {
   "cell_type": "code",
   "execution_count": 82,
   "id": "6ffe369d",
   "metadata": {},
   "outputs": [
    {
     "data": {
      "text/plain": [
       "<AxesSubplot:xlabel='AvgXAccel_g', ylabel='Density'>"
      ]
     },
     "execution_count": 82,
     "metadata": {},
     "output_type": "execute_result"
    },
    {
     "data": {
      "image/png": "[encoded data removed]",
      "text/plain": [
       "<Figure size 360x288 with 1 Axes>"
      ]
     },
     "metadata": {},
     "output_type": "display_data"
    }
   ],
   "source": [
    "sns.distplot(OM['AvgXAccel_g'])"
   ]
  },
  {
   "cell_type": "code",
   "execution_count": 83,
   "id": "8493d7c7",
   "metadata": {},
   "outputs": [
    {
     "data": {
      "text/plain": [
       "<AxesSubplot:xlabel='AvgYAccel_g', ylabel='Density'>"
      ]
     },
     "execution_count": 83,
     "metadata": {},
     "output_type": "execute_result"
    },
    {
     "data": {
      "image/png": "[encoded data removed]",
      "text/plain": [
       "<Figure size 360x288 with 1 Axes>"
      ]
     },
     "metadata": {},
     "output_type": "display_data"
    }
   ],
   "source": [
    "sns.distplot(OM['AvgYAccel_g'])"
   ]
  },
  {
   "cell_type": "code",
   "execution_count": 84,
   "id": "6d50f32a",
   "metadata": {},
   "outputs": [
    {
     "data": {
      "text/plain": [
       "<AxesSubplot:xlabel='AvgZAccel_g', ylabel='Density'>"
      ]
     },
     "execution_count": 84,
     "metadata": {},
     "output_type": "execute_result"
    },
    {
     "data": {
      "image/png": "[encoded data removed]",
      "text/plain": [
       "<Figure size 360x288 with 1 Axes>"
      ]
     },
     "metadata": {},
     "output_type": "display_data"
    }
   ],
   "source": [
    "sns.distplot(OM['AvgZAccel_g'])"
   ]
  },
  {
   "cell_type": "code",
   "execution_count": 85,
   "id": "bc3fc56b",
   "metadata": {},
   "outputs": [
    {
     "data": {
      "text/plain": [
       "<AxesSubplot:xlabel='RMSStdDev_ms', ylabel='Density'>"
      ]
     },
     "execution_count": 85,
     "metadata": {},
     "output_type": "execute_result"
    },
    {
     "data": {
      "image/png": "[encoded data removed]",
      "text/plain": [
       "<Figure size 360x288 with 1 Axes>"
      ]
     },
     "metadata": {},
     "output_type": "display_data"
    }
   ],
   "source": [
    "sns.distplot(OM['RMSStdDev_ms'])"
   ]
  },
  {
   "cell_type": "code",
   "execution_count": 86,
   "id": "99eb283c",
   "metadata": {},
   "outputs": [
    {
     "data": {
      "text/plain": [
       "<AxesSubplot:xlabel='RRPeakCoverage', ylabel='Density'>"
      ]
     },
     "execution_count": 86,
     "metadata": {},
     "output_type": "execute_result"
    },
    {
     "data": {
      "image/png": "[encoded data removed]",
      "text/plain": [
       "<Figure size 360x288 with 1 Axes>"
      ]
     },
     "metadata": {},
     "output_type": "display_data"
    }
   ],
   "source": [
    "sns.distplot(OM['RRPeakCoverage'])"
   ]
  },
  {
   "cell_type": "code",
   "execution_count": 87,
   "id": "3f1b9625",
   "metadata": {},
   "outputs": [
    {
     "data": {
      "text/plain": [
       "<AxesSubplot:xlabel='SDNN_ms', ylabel='Density'>"
      ]
     },
     "execution_count": 87,
     "metadata": {},
     "output_type": "execute_result"
    },
    {
     "data": {
      "image/png": "[encoded data removed]",
      "text/plain": [
       "<Figure size 360x288 with 1 Axes>"
      ]
     },
     "metadata": {},
     "output_type": "display_data"
    }
   ],
   "source": [
    "sns.distplot(OM['SDNN_ms'])"
   ]
  },
  {
   "cell_type": "code",
   "execution_count": 88,
   "id": "7ee423d4",
   "metadata": {},
   "outputs": [
    {
     "data": {
      "text/plain": [
       "<AxesSubplot:xlabel='StdDevBreathingDepth', ylabel='Density'>"
      ]
     },
     "execution_count": 88,
     "metadata": {},
     "output_type": "execute_result"
    },
    {
     "data": {
      "image/png": "[encoded data removed]",
      "text/plain": [
       "<Figure size 360x288 with 1 Axes>"
      ]
     },
     "metadata": {},
     "output_type": "display_data"
    }
   ],
   "source": [
    "sns.distplot(OM['StdDevBreathingDepth'])"
   ]
  },
  {
   "cell_type": "code",
   "execution_count": 89,
   "id": "c5c69509",
   "metadata": {},
   "outputs": [
    {
     "data": {
      "text/plain": [
       "<AxesSubplot:xlabel='StdDevBreathingRate', ylabel='Density'>"
      ]
     },
     "execution_count": 89,
     "metadata": {},
     "output_type": "execute_result"
    },
    {
     "data": {
      "image/png": "[encoded data removed]",
      "text/plain": [
       "<Figure size 360x288 with 1 Axes>"
      ]
     },
     "metadata": {},
     "output_type": "display_data"
    }
   ],
   "source": [
    "sns.distplot(OM['StdDevBreathingRate'])"
   ]
  },
  {
   "cell_type": "code",
   "execution_count": 90,
   "id": "9f5aeff7",
   "metadata": {},
   "outputs": [
    {
     "data": {
      "text/plain": [
       "<AxesSubplot:xlabel='StdDevGForce', ylabel='Density'>"
      ]
     },
     "execution_count": 90,
     "metadata": {},
     "output_type": "execute_result"
    },
    {
     "data": {
      "image/png": "[encoded data removed]",
      "text/plain": [
       "<Figure size 360x288 with 1 Axes>"
      ]
     },
     "metadata": {},
     "output_type": "display_data"
    }
   ],
   "source": [
    "sns.distplot(OM['StdDevGForce'])"
   ]
  },
  {
   "cell_type": "code",
   "execution_count": 91,
   "id": "aaec359f",
   "metadata": {},
   "outputs": [
    {
     "data": {
      "text/plain": [
       "<AxesSubplot:xlabel='StdDevXAccel_g', ylabel='Density'>"
      ]
     },
     "execution_count": 91,
     "metadata": {},
     "output_type": "execute_result"
    },
    {
     "data": {
      "image/png": "[encoded data removed]",
      "text/plain": [
       "<Figure size 360x288 with 1 Axes>"
      ]
     },
     "metadata": {},
     "output_type": "display_data"
    }
   ],
   "source": [
    "sns.distplot(OM['StdDevXAccel_g'])"
   ]
  },
  {
   "cell_type": "code",
   "execution_count": 92,
   "id": "84386e01",
   "metadata": {},
   "outputs": [
    {
     "data": {
      "text/plain": [
       "<AxesSubplot:xlabel='StdDevYAccel_g', ylabel='Density'>"
      ]
     },
     "execution_count": 92,
     "metadata": {},
     "output_type": "execute_result"
    },
    {
     "data": {
      "image/png": "[encoded data removed]",
      "text/plain": [
       "<Figure size 360x288 with 1 Axes>"
      ]
     },
     "metadata": {},
     "output_type": "display_data"
    }
   ],
   "source": [
    "sns.distplot(OM['StdDevYAccel_g'])"
   ]
  },
  {
   "cell_type": "code",
   "execution_count": 93,
   "id": "e7b1570f",
   "metadata": {},
   "outputs": [
    {
     "data": {
      "text/plain": [
       "<AxesSubplot:xlabel='StdDevZAccel_g', ylabel='Density'>"
      ]
     },
     "execution_count": 93,
     "metadata": {},
     "output_type": "execute_result"
    },
    {
     "data": {
      "image/png": "[encoded data removed]",
      "text/plain": [
       "<Figure size 360x288 with 1 Axes>"
      ]
     },
     "metadata": {},
     "output_type": "display_data"
    }
   ],
   "source": [
    "sns.distplot(OM['StdDevZAccel_g'])"
   ]
  },
  {
   "cell_type": "code",
   "execution_count": 95,
   "id": "2210974d",
   "metadata": {},
   "outputs": [],
   "source": [
    "#converting outlier values to missing values\n",
    "\n",
    "def outlier_limits(col):\n",
    "    Q3, Q1 = np.nanpercentile(col, [75,25])\n",
    "    IQR = Q3 - Q1\n",
    "    UL = Q3 + 1.5 * IQR\n",
    "    LL = Q1 - 1.5 * IQR\n",
    "    return UL, LL"
   ]
  },
  {
   "cell_type": "code",
   "execution_count": 102,
   "id": "0b3f20e5",
   "metadata": {},
   "outputs": [],
   "source": [
    "def outlier_limits2(col):\n",
    "    Q3, Q1 = np.nanpercentile(col, [95,5])\n",
    "    IQR = Q3 - Q1\n",
    "    UL = Q3 + 1.5 * IQR\n",
    "    LL = Q1 - 1.5 * IQR\n",
    "    return UL, LL"
   ]
  },
  {
   "cell_type": "code",
   "execution_count": 96,
   "id": "2ab08984",
   "metadata": {},
   "outputs": [
    {
     "name": "stdout",
     "output_type": "stream",
     "text": [
      "<class 'pandas.core.frame.DataFrame'>\n",
      "Int64Index: 551765 entries, 300 to 986500\n",
      "Data columns (total 18 columns):\n",
      " #   Column                Non-Null Count   Dtype  \n",
      "---  ------                --------------   -----  \n",
      " 0   Timestamp             551765 non-null  object \n",
      " 1   AvgBreathingDepth     551765 non-null  float64\n",
      " 2   AvgBreathingRate      551765 non-null  float64\n",
      " 3   AvgGForce             551765 non-null  float64\n",
      " 4   AvgHeartRate          551765 non-null  float64\n",
      " 5   AvgXAccel_g           551765 non-null  float64\n",
      " 6   AvgYAccel_g           551765 non-null  float64\n",
      " 7   AvgZAccel_g           551765 non-null  float64\n",
      " 8   RMSStdDev_ms          551765 non-null  float64\n",
      " 9   RRPeakCoverage        551765 non-null  float64\n",
      " 10  SDNN_ms               551765 non-null  float64\n",
      " 11  StdDevBreathingDepth  551765 non-null  float64\n",
      " 12  StdDevBreathingRate   551765 non-null  float64\n",
      " 13  StdDevGForce          551765 non-null  float64\n",
      " 14  StdDevXAccel_g        551765 non-null  float64\n",
      " 15  StdDevYAccel_g        551765 non-null  float64\n",
      " 16  StdDevZAccel_g        551765 non-null  float64\n",
      " 17  participant_id        551765 non-null  object \n",
      "dtypes: float64(16), object(2)\n",
      "memory usage: 96.1+ MB\n"
     ]
    }
   ],
   "source": [
    "OM.info()"
   ]
  },
  {
   "cell_type": "code",
   "execution_count": 103,
   "id": "c0a202fc",
   "metadata": {},
   "outputs": [],
   "source": [
    "OM3 = OM.drop(labels = ['Timestamp', 'participant_id'], axis = 1)"
   ]
  },
  {
   "cell_type": "code",
   "execution_count": 98,
   "id": "e2657e8c",
   "metadata": {},
   "outputs": [],
   "source": [
    "for column in OM2.columns: #75-25\n",
    "    if (OM2[column].dtype != 'datetime64[ns]'):\n",
    "        UL, LL = outlier_limits(OM2[column])\n",
    "        OM2[column] = np.where((OM2[column] > UL) | (OM2[column] < LL), np.nan, OM2[column])"
   ]
  },
  {
   "cell_type": "code",
   "execution_count": 104,
   "id": "952faf3e",
   "metadata": {},
   "outputs": [],
   "source": [
    "for column in OM3.columns: #95-5\n",
    "    if (OM3[column].dtype != 'datetime64[ns]'):\n",
    "        UL, LL = outlier_limits2(OM3[column])\n",
    "        OM3[column] = np.where((OM3[column] > UL) | (OM3[column] < LL), np.nan, OM3[column])"
   ]
  },
  {
   "cell_type": "code",
   "execution_count": 99,
   "id": "9e1af252",
   "metadata": {},
   "outputs": [
    {
     "data": {
      "text/plain": [
       "AvgBreathingDepth       30900\n",
       "AvgBreathingRate        12608\n",
       "AvgGForce               23552\n",
       "AvgHeartRate            12020\n",
       "AvgXAccel_g             44750\n",
       "AvgYAccel_g             20140\n",
       "AvgZAccel_g             39425\n",
       "RMSStdDev_ms            39023\n",
       "RRPeakCoverage          76142\n",
       "SDNN_ms                 36599\n",
       "StdDevBreathingDepth    26141\n",
       "StdDevBreathingRate     32178\n",
       "StdDevGForce             5567\n",
       "StdDevXAccel_g          22198\n",
       "StdDevYAccel_g           7275\n",
       "StdDevZAccel_g          12243\n",
       "dtype: int64"
      ]
     },
     "execution_count": 99,
     "metadata": {},
     "output_type": "execute_result"
    }
   ],
   "source": [
    "OM2.isnull().sum() #75-25"
   ]
  },
  {
   "cell_type": "code",
   "execution_count": 110,
   "id": "377e3526",
   "metadata": {},
   "outputs": [
    {
     "name": "stdout",
     "output_type": "stream",
     "text": [
      "(551765, 16)\n",
      "(334254, 16)\n"
     ]
    }
   ],
   "source": [
    "print(OM2.shape) #(551765, 16)\n",
    "OM2.dropna(how = 'any', inplace = True)\n",
    "print(OM2.shape) #(334254, 16)"
   ]
  },
  {
   "cell_type": "code",
   "execution_count": 113,
   "id": "141c4de3",
   "metadata": {},
   "outputs": [
    {
     "name": "stdout",
     "output_type": "stream",
     "text": [
      "      AvgBreathingDepth  AvgBreathingRate  AvgGForce  AvgHeartRate  \\\n",
      "901            5.438202         19.447249   0.045566     73.867437   \n",
      "1201           4.780822         19.361490   0.036021     72.912969   \n",
      "1502           5.352941         20.724051   0.040741     74.607701   \n",
      "1803           5.916667         20.596788   0.130133     74.691622   \n",
      "2104           5.855422         22.015182   0.113050     75.653648   \n",
      "\n",
      "      AvgXAccel_g  AvgYAccel_g  AvgZAccel_g  RMSStdDev_ms  RRPeakCoverage  \\\n",
      "901     -0.976104     0.027229    -0.063092     65.734821        0.936813   \n",
      "1201    -0.974498     0.052450    -0.054859     61.004179        0.976507   \n",
      "1502    -0.975783     0.041124    -0.092610     56.445098        0.986493   \n",
      "1803    -0.974322     0.075129    -0.070261     56.829116        0.998773   \n",
      "2104    -0.972362     0.053159    -0.066062     53.532338        0.991360   \n",
      "\n",
      "        SDNN_ms  StdDevBreathingDepth  StdDevBreathingRate  StdDevGForce  \\\n",
      "901   67.427589              3.586449             1.237596      0.038897   \n",
      "1201  64.482345              2.897540             0.875203      0.028835   \n",
      "1502  66.365685              3.022558             0.828340      0.023807   \n",
      "1803  72.775889              3.565179             2.578089      0.115366   \n",
      "2104  67.757433              3.478619             4.671449      0.115765   \n",
      "\n",
      "      StdDevXAccel_g  StdDevYAccel_g  StdDevZAccel_g  \n",
      "901         0.023349        0.076135        0.056512  \n",
      "1201        0.018889        0.057922        0.049131  \n",
      "1502        0.021689        0.085389        0.064962  \n",
      "1803        0.088314        0.088351        0.104705  \n",
      "2104        0.069709        0.108340        0.118306  \n"
     ]
    }
   ],
   "source": [
    "print(OM2.head())"
   ]
  },
  {
   "cell_type": "code",
   "execution_count": 111,
   "id": "34bf7b86",
   "metadata": {},
   "outputs": [
    {
     "name": "stdout",
     "output_type": "stream",
     "text": [
      "(551765, 16)\n",
      "(539607, 16)\n"
     ]
    }
   ],
   "source": [
    "print(OM3.shape) #(551765, 16)\n",
    "OM3.dropna(how = 'any', inplace = True)\n",
    "print(OM3.shape) #(334254, 16)"
   ]
  },
  {
   "cell_type": "code",
   "execution_count": 112,
   "id": "35419e9e",
   "metadata": {},
   "outputs": [
    {
     "name": "stdout",
     "output_type": "stream",
     "text": [
      "(551765, 18)\n"
     ]
    }
   ],
   "source": [
    "print(OM.shape) #(551765, 16)"
   ]
  },
  {
   "cell_type": "code",
   "execution_count": 105,
   "id": "31ed4055",
   "metadata": {},
   "outputs": [
    {
     "data": {
      "text/plain": [
       "AvgBreathingDepth        305\n",
       "AvgBreathingRate          84\n",
       "AvgGForce               6121\n",
       "AvgHeartRate              71\n",
       "AvgXAccel_g             8374\n",
       "AvgYAccel_g                0\n",
       "AvgZAccel_g                0\n",
       "RMSStdDev_ms              89\n",
       "RRPeakCoverage             0\n",
       "SDNN_ms                  320\n",
       "StdDevBreathingDepth     728\n",
       "StdDevBreathingRate      174\n",
       "StdDevGForce            1190\n",
       "StdDevXAccel_g           226\n",
       "StdDevYAccel_g            35\n",
       "StdDevZAccel_g           292\n",
       "dtype: int64"
      ]
     },
     "execution_count": 105,
     "metadata": {},
     "output_type": "execute_result"
    }
   ],
   "source": [
    "OM3.isnull().sum() #95-5"
   ]
  },
  {
   "cell_type": "code",
   "execution_count": 101,
   "id": "58f36a53",
   "metadata": {},
   "outputs": [
    {
     "data": {
      "text/html": [
       "<div>\n",
       "<style scoped>\n",
       "    .dataframe tbody tr th:only-of-type {\n",
       "        vertical-align: middle;\n",
       "    }\n",
       "\n",
       "    .dataframe tbody tr th {\n",
       "        vertical-align: top;\n",
       "    }\n",
       "\n",
       "    .dataframe thead th {\n",
       "        text-align: right;\n",
       "    }\n",
       "</style>\n",
       "<table border=\"1\" class=\"dataframe\">\n",
       "  <thead>\n",
       "    <tr style=\"text-align: right;\">\n",
       "      <th></th>\n",
       "      <th>Missing Values</th>\n",
       "      <th>% of Total Values</th>\n",
       "    </tr>\n",
       "  </thead>\n",
       "  <tbody>\n",
       "    <tr>\n",
       "      <th>RRPeakCoverage</th>\n",
       "      <td>76142</td>\n",
       "      <td>13.8</td>\n",
       "    </tr>\n",
       "    <tr>\n",
       "      <th>AvgXAccel_g</th>\n",
       "      <td>44750</td>\n",
       "      <td>8.1</td>\n",
       "    </tr>\n",
       "    <tr>\n",
       "      <th>AvgZAccel_g</th>\n",
       "      <td>39425</td>\n",
       "      <td>7.1</td>\n",
       "    </tr>\n",
       "    <tr>\n",
       "      <th>RMSStdDev_ms</th>\n",
       "      <td>39023</td>\n",
       "      <td>7.1</td>\n",
       "    </tr>\n",
       "    <tr>\n",
       "      <th>SDNN_ms</th>\n",
       "      <td>36599</td>\n",
       "      <td>6.6</td>\n",
       "    </tr>\n",
       "    <tr>\n",
       "      <th>StdDevBreathingRate</th>\n",
       "      <td>32178</td>\n",
       "      <td>5.8</td>\n",
       "    </tr>\n",
       "    <tr>\n",
       "      <th>AvgBreathingDepth</th>\n",
       "      <td>30900</td>\n",
       "      <td>5.6</td>\n",
       "    </tr>\n",
       "    <tr>\n",
       "      <th>StdDevBreathingDepth</th>\n",
       "      <td>26141</td>\n",
       "      <td>4.7</td>\n",
       "    </tr>\n",
       "    <tr>\n",
       "      <th>AvgGForce</th>\n",
       "      <td>23552</td>\n",
       "      <td>4.3</td>\n",
       "    </tr>\n",
       "    <tr>\n",
       "      <th>StdDevXAccel_g</th>\n",
       "      <td>22198</td>\n",
       "      <td>4.0</td>\n",
       "    </tr>\n",
       "    <tr>\n",
       "      <th>AvgYAccel_g</th>\n",
       "      <td>20140</td>\n",
       "      <td>3.7</td>\n",
       "    </tr>\n",
       "    <tr>\n",
       "      <th>AvgBreathingRate</th>\n",
       "      <td>12608</td>\n",
       "      <td>2.3</td>\n",
       "    </tr>\n",
       "    <tr>\n",
       "      <th>StdDevZAccel_g</th>\n",
       "      <td>12243</td>\n",
       "      <td>2.2</td>\n",
       "    </tr>\n",
       "    <tr>\n",
       "      <th>AvgHeartRate</th>\n",
       "      <td>12020</td>\n",
       "      <td>2.2</td>\n",
       "    </tr>\n",
       "    <tr>\n",
       "      <th>StdDevYAccel_g</th>\n",
       "      <td>7275</td>\n",
       "      <td>1.3</td>\n",
       "    </tr>\n",
       "    <tr>\n",
       "      <th>StdDevGForce</th>\n",
       "      <td>5567</td>\n",
       "      <td>1.0</td>\n",
       "    </tr>\n",
       "  </tbody>\n",
       "</table>\n",
       "</div>"
      ],
      "text/plain": [
       "                      Missing Values  % of Total Values\n",
       "RRPeakCoverage                 76142               13.8\n",
       "AvgXAccel_g                    44750                8.1\n",
       "AvgZAccel_g                    39425                7.1\n",
       "RMSStdDev_ms                   39023                7.1\n",
       "SDNN_ms                        36599                6.6\n",
       "StdDevBreathingRate            32178                5.8\n",
       "AvgBreathingDepth              30900                5.6\n",
       "StdDevBreathingDepth           26141                4.7\n",
       "AvgGForce                      23552                4.3\n",
       "StdDevXAccel_g                 22198                4.0\n",
       "AvgYAccel_g                    20140                3.7\n",
       "AvgBreathingRate               12608                2.3\n",
       "StdDevZAccel_g                 12243                2.2\n",
       "AvgHeartRate                   12020                2.2\n",
       "StdDevYAccel_g                  7275                1.3\n",
       "StdDevGForce                    5567                1.0"
      ]
     },
     "execution_count": 101,
     "metadata": {},
     "output_type": "execute_result"
    }
   ],
   "source": [
    "mis_val= OM2.isna().sum()\n",
    "mis_val_per = OM2.isna().sum()/len(OM2)*100\n",
    "mis_val_table = pd.concat([mis_val, mis_val_per], axis=1)\n",
    "mis_val_table_ren_columns = mis_val_table.rename(\n",
    "        columns = {0 : 'Missing Values', 1 : '% of Total Values'})\n",
    "mis_val_table_ren_columns = mis_val_table_ren_columns[\n",
    "       mis_val_table_ren_columns.iloc[:,:] != 0].sort_values(\n",
    "        '% of Total Values', ascending=False).round(1)\n",
    "mis_val_table_ren_columns"
   ]
  },
  {
   "cell_type": "code",
   "execution_count": 109,
   "id": "0d5525c6",
   "metadata": {},
   "outputs": [
    {
     "name": "stdout",
     "output_type": "stream",
     "text": [
      "(551765, 18)\n"
     ]
    }
   ],
   "source": [
    "print(OM.shape)"
   ]
  },
  {
   "cell_type": "code",
   "execution_count": 108,
   "id": "78efeebc",
   "metadata": {},
   "outputs": [
    {
     "name": "stdout",
     "output_type": "stream",
     "text": [
      "(551765, 16)\n"
     ]
    }
   ],
   "source": [
    "print(OM3.shape)"
   ]
  },
  {
   "cell_type": "code",
   "execution_count": 106,
   "id": "be80881b",
   "metadata": {},
   "outputs": [
    {
     "data": {
      "text/html": [
       "<div>\n",
       "<style scoped>\n",
       "    .dataframe tbody tr th:only-of-type {\n",
       "        vertical-align: middle;\n",
       "    }\n",
       "\n",
       "    .dataframe tbody tr th {\n",
       "        vertical-align: top;\n",
       "    }\n",
       "\n",
       "    .dataframe thead th {\n",
       "        text-align: right;\n",
       "    }\n",
       "</style>\n",
       "<table border=\"1\" class=\"dataframe\">\n",
       "  <thead>\n",
       "    <tr style=\"text-align: right;\">\n",
       "      <th></th>\n",
       "      <th>Missing Values</th>\n",
       "      <th>% of Total Values</th>\n",
       "    </tr>\n",
       "  </thead>\n",
       "  <tbody>\n",
       "    <tr>\n",
       "      <th>AvgXAccel_g</th>\n",
       "      <td>8374.0</td>\n",
       "      <td>1.5</td>\n",
       "    </tr>\n",
       "    <tr>\n",
       "      <th>AvgGForce</th>\n",
       "      <td>6121.0</td>\n",
       "      <td>1.1</td>\n",
       "    </tr>\n",
       "    <tr>\n",
       "      <th>StdDevGForce</th>\n",
       "      <td>1190.0</td>\n",
       "      <td>0.2</td>\n",
       "    </tr>\n",
       "    <tr>\n",
       "      <th>StdDevBreathingDepth</th>\n",
       "      <td>728.0</td>\n",
       "      <td>0.1</td>\n",
       "    </tr>\n",
       "    <tr>\n",
       "      <th>SDNN_ms</th>\n",
       "      <td>320.0</td>\n",
       "      <td>0.1</td>\n",
       "    </tr>\n",
       "    <tr>\n",
       "      <th>AvgBreathingDepth</th>\n",
       "      <td>305.0</td>\n",
       "      <td>0.1</td>\n",
       "    </tr>\n",
       "    <tr>\n",
       "      <th>StdDevZAccel_g</th>\n",
       "      <td>292.0</td>\n",
       "      <td>0.1</td>\n",
       "    </tr>\n",
       "    <tr>\n",
       "      <th>StdDevXAccel_g</th>\n",
       "      <td>226.0</td>\n",
       "      <td>0.0</td>\n",
       "    </tr>\n",
       "    <tr>\n",
       "      <th>StdDevBreathingRate</th>\n",
       "      <td>174.0</td>\n",
       "      <td>0.0</td>\n",
       "    </tr>\n",
       "    <tr>\n",
       "      <th>RMSStdDev_ms</th>\n",
       "      <td>89.0</td>\n",
       "      <td>0.0</td>\n",
       "    </tr>\n",
       "    <tr>\n",
       "      <th>AvgBreathingRate</th>\n",
       "      <td>84.0</td>\n",
       "      <td>0.0</td>\n",
       "    </tr>\n",
       "    <tr>\n",
       "      <th>AvgHeartRate</th>\n",
       "      <td>71.0</td>\n",
       "      <td>0.0</td>\n",
       "    </tr>\n",
       "    <tr>\n",
       "      <th>StdDevYAccel_g</th>\n",
       "      <td>35.0</td>\n",
       "      <td>0.0</td>\n",
       "    </tr>\n",
       "    <tr>\n",
       "      <th>AvgYAccel_g</th>\n",
       "      <td>NaN</td>\n",
       "      <td>NaN</td>\n",
       "    </tr>\n",
       "    <tr>\n",
       "      <th>AvgZAccel_g</th>\n",
       "      <td>NaN</td>\n",
       "      <td>NaN</td>\n",
       "    </tr>\n",
       "    <tr>\n",
       "      <th>RRPeakCoverage</th>\n",
       "      <td>NaN</td>\n",
       "      <td>NaN</td>\n",
       "    </tr>\n",
       "  </tbody>\n",
       "</table>\n",
       "</div>"
      ],
      "text/plain": [
       "                      Missing Values  % of Total Values\n",
       "AvgXAccel_g                   8374.0                1.5\n",
       "AvgGForce                     6121.0                1.1\n",
       "StdDevGForce                  1190.0                0.2\n",
       "StdDevBreathingDepth           728.0                0.1\n",
       "SDNN_ms                        320.0                0.1\n",
       "AvgBreathingDepth              305.0                0.1\n",
       "StdDevZAccel_g                 292.0                0.1\n",
       "StdDevXAccel_g                 226.0                0.0\n",
       "StdDevBreathingRate            174.0                0.0\n",
       "RMSStdDev_ms                    89.0                0.0\n",
       "AvgBreathingRate                84.0                0.0\n",
       "AvgHeartRate                    71.0                0.0\n",
       "StdDevYAccel_g                  35.0                0.0\n",
       "AvgYAccel_g                      NaN                NaN\n",
       "AvgZAccel_g                      NaN                NaN\n",
       "RRPeakCoverage                   NaN                NaN"
      ]
     },
     "execution_count": 106,
     "metadata": {},
     "output_type": "execute_result"
    }
   ],
   "source": [
    "mis_val= OM3.isna().sum()\n",
    "mis_val_per = OM3.isna().sum()/len(OM3)*100\n",
    "mis_val_table = pd.concat([mis_val, mis_val_per], axis=1)\n",
    "mis_val_table_ren_columns = mis_val_table.rename(\n",
    "        columns = {0 : 'Missing Values', 1 : '% of Total Values'})\n",
    "mis_val_table_ren_columns = mis_val_table_ren_columns[\n",
    "       mis_val_table_ren_columns.iloc[:,:] != 0].sort_values(\n",
    "        '% of Total Values', ascending=False).round(1)\n",
    "mis_val_table_ren_columns"
   ]
  }
 ],
 "metadata": {
  "kernelspec": {
   "display_name": "Python 3 (ipykernel)",
   "language": "python",
   "name": "python3"
  },
  "language_info": {
   "codemirror_mode": {
    "name": "ipython",
    "version": 3
   },
   "file_extension": ".py",
   "mimetype": "text/x-python",
   "name": "python",
   "nbconvert_exporter": "python",
   "pygments_lexer": "ipython3",
   "version": "3.9.7"
  }
 },
 "nbformat": 4,
 "nbformat_minor": 5
}
