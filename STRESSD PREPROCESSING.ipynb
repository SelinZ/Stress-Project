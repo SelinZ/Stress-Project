{
 "cells": [
  {
   "cell_type": "code",
   "execution_count": 3,
   "id": "959542e1",
   "metadata": {},
   "outputs": [],
   "source": [
    "#import os\n",
    "#os.getcwd()"
   ]
  },
  {
   "cell_type": "code",
   "execution_count": 12,
   "id": "5cd47440",
   "metadata": {},
   "outputs": [],
   "source": [
    "import pandas as pd\n",
    "import numpy as np\n",
    "from pandas import Series, DataFrame\n",
    "from pylab import rcParams\n",
    "import seaborn as sns\n",
    "import matplotlib.pyplot as plt\n",
    "%matplotlib inline\n",
    "import time\n",
    "import datetime"
   ]
  },
  {
   "cell_type": "code",
   "execution_count": 13,
   "id": "9ffc3218",
   "metadata": {},
   "outputs": [
    {
     "name": "stdout",
     "output_type": "stream",
     "text": [
      "Index(['participant_id', 'surveytype', 'start_ts', 'completed_ts', 'stressd',\n",
      "       'Finished'],\n",
      "      dtype='object')\n",
      "(11361, 6)\n",
      "                         participant_id surveytype                   start_ts  \\\n",
      "0  c7c4392b-02ee-40f4-a22f-ab2386c6ccf5        job  2018-03-05T06:01:53-08:00   \n",
      "1  3a62899e-082a-4638-ab8b-b49f1ce12a20        job  2018-03-05T06:01:58-08:00   \n",
      "2  a9dfbe4d-4076-48c7-a72b-342fe4c12514        job  2018-03-05T06:02:35-08:00   \n",
      "3  7e6a98f1-73c3-4023-9bbd-acf2b70d04b5        job  2018-03-05T06:09:22-08:00   \n",
      "4  8b13d979-315f-4357-8f0e-7c12df0a6ca8        job  2018-03-05T06:14:16-08:00   \n",
      "\n",
      "                completed_ts  stressd  Finished  \n",
      "0  2018-03-05 06:06:11-08:00      2.0         1  \n",
      "1  2018-03-05 06:04:06-08:00      1.0         1  \n",
      "2  2018-03-05 10:22:04-08:00      2.0         1  \n",
      "3  2018-03-05 06:16:27-08:00      1.0         1  \n",
      "4  2018-03-05 06:19:21-08:00      3.0         1  \n"
     ]
    }
   ],
   "source": [
    "stressd = pd.read_csv('/Users/selinzobu/Desktop/TILES/STRESSDscoredEMAs.csv', parse_dates = ['completed_ts'])\n",
    "stressd = stressd.loc[:, ~stressd.columns.str.contains('^Unnamed')]\n",
    "#stressd.set_index('days', inplace = True)\n",
    "stressd.rename(columns={\"completed_ts\": \"Timestamp\"})\n",
    "print(stressd.columns)\n",
    "print(stressd.shape)\n",
    "print(stressd.head())"
   ]
  },
  {
   "cell_type": "code",
   "execution_count": 14,
   "id": "60f728fa",
   "metadata": {},
   "outputs": [
    {
     "name": "stdout",
     "output_type": "stream",
     "text": [
      "<class 'pandas.core.frame.DataFrame'>\n",
      "RangeIndex: 11361 entries, 0 to 11360\n",
      "Data columns (total 6 columns):\n",
      " #   Column          Non-Null Count  Dtype  \n",
      "---  ------          --------------  -----  \n",
      " 0   participant_id  11361 non-null  object \n",
      " 1   surveytype      11361 non-null  object \n",
      " 2   start_ts        11361 non-null  object \n",
      " 3   completed_ts    11361 non-null  object \n",
      " 4   stressd         11274 non-null  float64\n",
      " 5   Finished        11361 non-null  int64  \n",
      "dtypes: float64(1), int64(1), object(4)\n",
      "memory usage: 532.7+ KB\n"
     ]
    }
   ],
   "source": [
    "stressd.info()"
   ]
  },
  {
   "cell_type": "code",
   "execution_count": 15,
   "id": "c5193907",
   "metadata": {},
   "outputs": [
    {
     "data": {
      "text/plain": [
       "datetime.datetime"
      ]
     },
     "execution_count": 15,
     "metadata": {},
     "output_type": "execute_result"
    }
   ],
   "source": [
    "type(stressd[\"completed_ts\"][0])"
   ]
  },
  {
   "cell_type": "code",
   "execution_count": 16,
   "id": "cee2e254",
   "metadata": {},
   "outputs": [],
   "source": [
    "stressd[\"completed_ts\"] = pd.to_datetime(stressd[\"completed_ts\"], utc=True)"
   ]
  },
  {
   "cell_type": "code",
   "execution_count": 17,
   "id": "37cc22c0",
   "metadata": {},
   "outputs": [],
   "source": [
    "stressd.rename(columns={\"completed_ts\": \"Timestamp\"}, inplace = True)"
   ]
  },
  {
   "cell_type": "code",
   "execution_count": 18,
   "id": "7fd27508",
   "metadata": {},
   "outputs": [],
   "source": [
    "stressd[\"Timestamp\"] = pd.to_datetime(stressd[\"Timestamp\"]).dt.date"
   ]
  },
  {
   "cell_type": "code",
   "execution_count": 19,
   "id": "6b982c99",
   "metadata": {},
   "outputs": [
    {
     "name": "stdout",
     "output_type": "stream",
     "text": [
      "                         participant_id surveytype                   start_ts  \\\n",
      "0  c7c4392b-02ee-40f4-a22f-ab2386c6ccf5        job  2018-03-05T06:01:53-08:00   \n",
      "1  3a62899e-082a-4638-ab8b-b49f1ce12a20        job  2018-03-05T06:01:58-08:00   \n",
      "2  a9dfbe4d-4076-48c7-a72b-342fe4c12514        job  2018-03-05T06:02:35-08:00   \n",
      "3  7e6a98f1-73c3-4023-9bbd-acf2b70d04b5        job  2018-03-05T06:09:22-08:00   \n",
      "4  8b13d979-315f-4357-8f0e-7c12df0a6ca8        job  2018-03-05T06:14:16-08:00   \n",
      "\n",
      "    Timestamp  stressd  Finished  \n",
      "0  2018-03-05      2.0         1  \n",
      "1  2018-03-05      1.0         1  \n",
      "2  2018-03-05      2.0         1  \n",
      "3  2018-03-05      1.0         1  \n",
      "4  2018-03-05      3.0         1  \n"
     ]
    }
   ],
   "source": [
    "print(stressd.head())"
   ]
  },
  {
   "cell_type": "code",
   "execution_count": 20,
   "id": "ca1d67f5",
   "metadata": {},
   "outputs": [
    {
     "name": "stdout",
     "output_type": "stream",
     "text": [
      "<class 'pandas.core.frame.DataFrame'>\n",
      "RangeIndex: 11361 entries, 0 to 11360\n",
      "Data columns (total 6 columns):\n",
      " #   Column          Non-Null Count  Dtype  \n",
      "---  ------          --------------  -----  \n",
      " 0   participant_id  11361 non-null  object \n",
      " 1   surveytype      11361 non-null  object \n",
      " 2   start_ts        11361 non-null  object \n",
      " 3   Timestamp       11361 non-null  object \n",
      " 4   stressd         11274 non-null  float64\n",
      " 5   Finished        11361 non-null  int64  \n",
      "dtypes: float64(1), int64(1), object(4)\n",
      "memory usage: 532.7+ KB\n"
     ]
    }
   ],
   "source": [
    "stressd.info()"
   ]
  },
  {
   "cell_type": "code",
   "execution_count": 21,
   "id": "d818777b",
   "metadata": {},
   "outputs": [
    {
     "data": {
      "text/html": [
       "<div>\n",
       "<style scoped>\n",
       "    .dataframe tbody tr th:only-of-type {\n",
       "        vertical-align: middle;\n",
       "    }\n",
       "\n",
       "    .dataframe tbody tr th {\n",
       "        vertical-align: top;\n",
       "    }\n",
       "\n",
       "    .dataframe thead th {\n",
       "        text-align: right;\n",
       "    }\n",
       "</style>\n",
       "<table border=\"1\" class=\"dataframe\">\n",
       "  <thead>\n",
       "    <tr style=\"text-align: right;\">\n",
       "      <th></th>\n",
       "      <th>participant_id</th>\n",
       "      <th>surveytype</th>\n",
       "      <th>start_ts</th>\n",
       "      <th>Timestamp</th>\n",
       "      <th>stressd</th>\n",
       "      <th>Finished</th>\n",
       "    </tr>\n",
       "  </thead>\n",
       "  <tbody>\n",
       "    <tr>\n",
       "      <th>1424</th>\n",
       "      <td>e6081755-d7f3-4c26-ab40-0709b8ad41ef</td>\n",
       "      <td>health</td>\n",
       "      <td>2018-04-09T06:26:15-07:00</td>\n",
       "      <td>2018-04-09</td>\n",
       "      <td>3.0</td>\n",
       "      <td>1</td>\n",
       "    </tr>\n",
       "    <tr>\n",
       "      <th>1585</th>\n",
       "      <td>e6081755-d7f3-4c26-ab40-0709b8ad41ef</td>\n",
       "      <td>health</td>\n",
       "      <td>2018-04-10T07:14:35-07:00</td>\n",
       "      <td>2018-04-10</td>\n",
       "      <td>1.0</td>\n",
       "      <td>1</td>\n",
       "    </tr>\n",
       "    <tr>\n",
       "      <th>1766</th>\n",
       "      <td>e6081755-d7f3-4c26-ab40-0709b8ad41ef</td>\n",
       "      <td>job</td>\n",
       "      <td>2018-04-11T18:14:15-07:00</td>\n",
       "      <td>2018-04-12</td>\n",
       "      <td>2.0</td>\n",
       "      <td>1</td>\n",
       "    </tr>\n",
       "    <tr>\n",
       "      <th>1812</th>\n",
       "      <td>e6081755-d7f3-4c26-ab40-0709b8ad41ef</td>\n",
       "      <td>health</td>\n",
       "      <td>2018-04-12T06:02:45-07:00</td>\n",
       "      <td>2018-04-12</td>\n",
       "      <td>3.0</td>\n",
       "      <td>1</td>\n",
       "    </tr>\n",
       "    <tr>\n",
       "      <th>2031</th>\n",
       "      <td>e6081755-d7f3-4c26-ab40-0709b8ad41ef</td>\n",
       "      <td>job</td>\n",
       "      <td>2018-04-13T18:11:04-07:00</td>\n",
       "      <td>2018-04-14</td>\n",
       "      <td>3.0</td>\n",
       "      <td>1</td>\n",
       "    </tr>\n",
       "    <tr>\n",
       "      <th>...</th>\n",
       "      <td>...</td>\n",
       "      <td>...</td>\n",
       "      <td>...</td>\n",
       "      <td>...</td>\n",
       "      <td>...</td>\n",
       "      <td>...</td>\n",
       "    </tr>\n",
       "    <tr>\n",
       "      <th>10056</th>\n",
       "      <td>e6081755-d7f3-4c26-ab40-0709b8ad41ef</td>\n",
       "      <td>job</td>\n",
       "      <td>2018-06-14T18:35:15-07:00</td>\n",
       "      <td>2018-06-15</td>\n",
       "      <td>2.0</td>\n",
       "      <td>1</td>\n",
       "    </tr>\n",
       "    <tr>\n",
       "      <th>10152</th>\n",
       "      <td>e6081755-d7f3-4c26-ab40-0709b8ad41ef</td>\n",
       "      <td>job</td>\n",
       "      <td>2018-06-15T18:19:12-07:00</td>\n",
       "      <td>2018-06-16</td>\n",
       "      <td>1.0</td>\n",
       "      <td>1</td>\n",
       "    </tr>\n",
       "    <tr>\n",
       "      <th>10239</th>\n",
       "      <td>e6081755-d7f3-4c26-ab40-0709b8ad41ef</td>\n",
       "      <td>health</td>\n",
       "      <td>2018-06-16T08:04:03-07:00</td>\n",
       "      <td>2018-06-16</td>\n",
       "      <td>1.0</td>\n",
       "      <td>1</td>\n",
       "    </tr>\n",
       "    <tr>\n",
       "      <th>10384</th>\n",
       "      <td>e6081755-d7f3-4c26-ab40-0709b8ad41ef</td>\n",
       "      <td>job</td>\n",
       "      <td>2018-06-17T18:35:49-07:00</td>\n",
       "      <td>2018-06-18</td>\n",
       "      <td>2.0</td>\n",
       "      <td>1</td>\n",
       "    </tr>\n",
       "    <tr>\n",
       "      <th>10480</th>\n",
       "      <td>e6081755-d7f3-4c26-ab40-0709b8ad41ef</td>\n",
       "      <td>health</td>\n",
       "      <td>2018-06-18T12:21:08-07:00</td>\n",
       "      <td>2018-06-18</td>\n",
       "      <td>1.0</td>\n",
       "      <td>1</td>\n",
       "    </tr>\n",
       "  </tbody>\n",
       "</table>\n",
       "<p>71 rows × 6 columns</p>\n",
       "</div>"
      ],
      "text/plain": [
       "                             participant_id surveytype  \\\n",
       "1424   e6081755-d7f3-4c26-ab40-0709b8ad41ef     health   \n",
       "1585   e6081755-d7f3-4c26-ab40-0709b8ad41ef     health   \n",
       "1766   e6081755-d7f3-4c26-ab40-0709b8ad41ef        job   \n",
       "1812   e6081755-d7f3-4c26-ab40-0709b8ad41ef     health   \n",
       "2031   e6081755-d7f3-4c26-ab40-0709b8ad41ef        job   \n",
       "...                                     ...        ...   \n",
       "10056  e6081755-d7f3-4c26-ab40-0709b8ad41ef        job   \n",
       "10152  e6081755-d7f3-4c26-ab40-0709b8ad41ef        job   \n",
       "10239  e6081755-d7f3-4c26-ab40-0709b8ad41ef     health   \n",
       "10384  e6081755-d7f3-4c26-ab40-0709b8ad41ef        job   \n",
       "10480  e6081755-d7f3-4c26-ab40-0709b8ad41ef     health   \n",
       "\n",
       "                        start_ts   Timestamp  stressd  Finished  \n",
       "1424   2018-04-09T06:26:15-07:00  2018-04-09      3.0         1  \n",
       "1585   2018-04-10T07:14:35-07:00  2018-04-10      1.0         1  \n",
       "1766   2018-04-11T18:14:15-07:00  2018-04-12      2.0         1  \n",
       "1812   2018-04-12T06:02:45-07:00  2018-04-12      3.0         1  \n",
       "2031   2018-04-13T18:11:04-07:00  2018-04-14      3.0         1  \n",
       "...                          ...         ...      ...       ...  \n",
       "10056  2018-06-14T18:35:15-07:00  2018-06-15      2.0         1  \n",
       "10152  2018-06-15T18:19:12-07:00  2018-06-16      1.0         1  \n",
       "10239  2018-06-16T08:04:03-07:00  2018-06-16      1.0         1  \n",
       "10384  2018-06-17T18:35:49-07:00  2018-06-18      2.0         1  \n",
       "10480  2018-06-18T12:21:08-07:00  2018-06-18      1.0         1  \n",
       "\n",
       "[71 rows x 6 columns]"
      ]
     },
     "execution_count": 21,
     "metadata": {},
     "output_type": "execute_result"
    }
   ],
   "source": [
    "stressd[stressd['participant_id'] == 'e6081755-d7f3-4c26-ab40-0709b8ad41ef' ]"
   ]
  },
  {
   "cell_type": "code",
   "execution_count": 22,
   "id": "ffb1826d",
   "metadata": {},
   "outputs": [
    {
     "name": "stdout",
     "output_type": "stream",
     "text": [
      "participant_id\n",
      "02581754-36cd-4b23-85ea-bf995c6dec83    32\n",
      "0271c478-a56a-4c09-ab91-9743184dd71b    58\n",
      "02b7a595-6508-46bd-8239-6deb433d6290    65\n",
      "05dedb61-63bc-44e3-8e28-a5d32d91f7e9    69\n",
      "06b33ec4-706d-462f-a681-05491be38eb3    48\n",
      "                                        ..\n",
      "fae38580-1e2d-4491-9de5-7b75703ba4ce    59\n",
      "fb3a4dd7-3cb5-438e-a75d-244d1aec4790     4\n",
      "fcb14a4c-1ffa-4315-872a-a38833459885    63\n",
      "fd79ab30-1199-4619-adbd-577d715d86ce    61\n",
      "fdbd8c07-720c-4ae5-a3d8-aad56b54688c    68\n",
      "Name: Timestamp, Length: 209, dtype: int64\n"
     ]
    }
   ],
   "source": [
    "ptstre = stressd.groupby('participant_id')['Timestamp'].count()\n",
    "\n",
    "print(ptstre)"
   ]
  },
  {
   "cell_type": "code",
   "execution_count": 23,
   "id": "09255112",
   "metadata": {},
   "outputs": [
    {
     "data": {
      "text/plain": [
       "<AxesSubplot: xlabel='participant_id'>"
      ]
     },
     "execution_count": 23,
     "metadata": {},
     "output_type": "execute_result"
    },
    {
     "data": {
      "image/png": "[encoded data removed]",
      "text/plain": [
       "<Figure size 432x288 with 1 Axes>"
      ]
     },
     "metadata": {
      "needs_background": "light"
     },
     "output_type": "display_data"
    }
   ],
   "source": [
    "ptstre.plot(kind = 'bar')"
   ]
  },
  {
   "cell_type": "code",
   "execution_count": 24,
   "id": "de61d1f7",
   "metadata": {},
   "outputs": [
    {
     "name": "stdout",
     "output_type": "stream",
     "text": [
      "1.0    5659\n",
      "2.0    2797\n",
      "3.0    2257\n",
      "4.0     431\n",
      "5.0     130\n",
      "Name: stressd, dtype: int64\n"
     ]
    }
   ],
   "source": [
    "by_score = stressd['stressd'].value_counts()\n",
    "print(by_score)"
   ]
  },
  {
   "cell_type": "code",
   "execution_count": 25,
   "id": "751dd75e",
   "metadata": {},
   "outputs": [
    {
     "data": {
      "text/plain": [
       "<AxesSubplot: >"
      ]
     },
     "execution_count": 25,
     "metadata": {},
     "output_type": "execute_result"
    },
    {
     "data": {
      "image/png": "[encoded data removed]",
      "text/plain": [
       "<Figure size 432x288 with 1 Axes>"
      ]
     },
     "metadata": {
      "needs_background": "light"
     },
     "output_type": "display_data"
    }
   ],
   "source": [
    "by_score.plot(kind = 'barh')\n"
   ]
  },
  {
   "cell_type": "code",
   "execution_count": 26,
   "id": "f2c3da32",
   "metadata": {},
   "outputs": [
    {
     "name": "stdout",
     "output_type": "stream",
     "text": [
      "209\n"
     ]
    }
   ],
   "source": [
    "print(len(stressd['participant_id'].unique()))"
   ]
  },
  {
   "cell_type": "code",
   "execution_count": 27,
   "id": "c9f639a3",
   "metadata": {},
   "outputs": [
    {
     "name": "stdout",
     "output_type": "stream",
     "text": [
      "Index(['participant_id', 'surveytype', 'start_ts', 'Timestamp', 'stressd',\n",
      "       'Finished'],\n",
      "      dtype='object')\n"
     ]
    }
   ],
   "source": [
    "print(stressd.columns)"
   ]
  },
  {
   "cell_type": "code",
   "execution_count": 28,
   "id": "36aa5e50",
   "metadata": {},
   "outputs": [
    {
     "name": "stdout",
     "output_type": "stream",
     "text": [
      "['job' 'health' 'personality']\n"
     ]
    }
   ],
   "source": [
    "print((stressd['surveytype'].unique()))"
   ]
  },
  {
   "cell_type": "code",
   "execution_count": 29,
   "id": "3791ba77",
   "metadata": {},
   "outputs": [
    {
     "name": "stdout",
     "output_type": "stream",
     "text": [
      "[1 0]\n"
     ]
    }
   ],
   "source": [
    "print((stressd['Finished'].unique()))"
   ]
  },
  {
   "cell_type": "code",
   "execution_count": 30,
   "id": "5a6d0822",
   "metadata": {},
   "outputs": [
    {
     "name": "stdout",
     "output_type": "stream",
     "text": [
      "            count     mean       std  min  25%  50%  75%  max\n",
      "Finished                                                     \n",
      "0            96.0  1.84375  0.874530  1.0  1.0  2.0  3.0  4.0\n",
      "1         11178.0  1.80900  0.961234  1.0  1.0  1.0  2.0  5.0\n"
     ]
    }
   ],
   "source": [
    "#means are close??\n",
    "\n",
    "fins = stressd.groupby([\"Finished\"])[\"stressd\"].describe()\n",
    "print(fins)"
   ]
  },
  {
   "cell_type": "code",
   "execution_count": 31,
   "id": "2ee8ab69",
   "metadata": {},
   "outputs": [
    {
     "name": "stdout",
     "output_type": "stream",
     "text": [
      "                             participant_id surveytype  \\\n",
      "26     29d662a9-f454-4261-8d58-f208c07cfd20        job   \n",
      "85     3a62899e-082a-4638-ab8b-b49f1ce12a20        job   \n",
      "92     df3a6b7a-7e27-4003-beea-2cb5cf08da83        job   \n",
      "198    f596b3ca-7b25-4632-b986-7b44448d3f2f     health   \n",
      "401    89ff7373-ee85-4764-a4dd-90138af9af85     health   \n",
      "...                                     ...        ...   \n",
      "11299  db2bffd9-c5b5-4fed-9d55-09a087ce0e6e        job   \n",
      "11302  a2664330-dcfa-4d43-a788-8904343b6a00        job   \n",
      "11303  e89b1ea7-a2ea-4f2f-ae5a-9a9d29af8639        job   \n",
      "11326  a2676b6d-a28f-46bf-b3f0-6a2e735ae251        job   \n",
      "11336  db2bffd9-c5b5-4fed-9d55-09a087ce0e6e        job   \n",
      "\n",
      "                        start_ts   Timestamp  stressd  Finished  \n",
      "26     2018-03-05T18:10:11-08:00  2018-03-06      NaN         0  \n",
      "85     2018-03-07T06:24:13-08:00  2018-03-07      1.0         0  \n",
      "92     2018-03-07T08:16:29-08:00  2018-03-07      NaN         0  \n",
      "198    2018-03-09T10:07:04-08:00  2018-03-09      3.0         0  \n",
      "401    2018-03-14T12:53:26-07:00  2018-03-14      1.0         0  \n",
      "...                          ...         ...      ...       ...  \n",
      "11299  2018-07-12T06:03:53-07:00  2018-07-12      NaN         0  \n",
      "11302  2018-07-12T08:11:42-07:00  2018-07-12      1.0         0  \n",
      "11303  2018-07-12T11:42:35-07:00  2018-07-12      1.0         0  \n",
      "11326  2018-07-12T19:29:37-07:00  2018-07-13      1.0         0  \n",
      "11336  2018-07-13T07:19:00-07:00  2018-07-13      NaN         0  \n",
      "\n",
      "[173 rows x 6 columns]\n"
     ]
    }
   ],
   "source": [
    "print(stressd[stressd['Finished'] != 1])  #173 rows > 96 rows after dropping NaNs"
   ]
  },
  {
   "cell_type": "code",
   "execution_count": 32,
   "id": "4878ae5c",
   "metadata": {},
   "outputs": [
    {
     "data": {
      "text/plain": [
       "participant_id     0\n",
       "surveytype         0\n",
       "start_ts           0\n",
       "Timestamp          0\n",
       "stressd           87\n",
       "Finished           0\n",
       "dtype: int64"
      ]
     },
     "execution_count": 32,
     "metadata": {},
     "output_type": "execute_result"
    }
   ],
   "source": [
    "#Missing Data \n",
    "\n",
    "stressd.isnull().sum()  #87 stressd missing"
   ]
  },
  {
   "cell_type": "code",
   "execution_count": 33,
   "id": "e5277748",
   "metadata": {},
   "outputs": [
    {
     "name": "stdout",
     "output_type": "stream",
     "text": [
      "173\n"
     ]
    }
   ],
   "source": [
    "print(len(stressd[stressd.Finished == 0]))"
   ]
  },
  {
   "cell_type": "code",
   "execution_count": 35,
   "id": "caac5c50",
   "metadata": {},
   "outputs": [
    {
     "name": "stdout",
     "output_type": "stream",
     "text": [
      "                             participant_id surveytype  \\\n",
      "85     3a62899e-082a-4638-ab8b-b49f1ce12a20        job   \n",
      "198    f596b3ca-7b25-4632-b986-7b44448d3f2f     health   \n",
      "401    89ff7373-ee85-4764-a4dd-90138af9af85     health   \n",
      "577    16213162-1d73-4155-8103-fa668f1579b6        job   \n",
      "810    6ceb4ef3-6578-45cc-bc02-fa97614313e1        job   \n",
      "...                                     ...        ...   \n",
      "10886  7e883e52-65af-4edb-9d55-a72ba5f03287     health   \n",
      "10982  cc25830a-254a-487f-acec-c0afb3962679     health   \n",
      "11012  4b5a5d57-0ad9-49fc-913f-d9e33b90b159        job   \n",
      "11086  9548d1c4-bd4a-4841-9146-c0678135069d        job   \n",
      "11135  3bdb1a29-023b-4fb5-8f49-6d285446179d     health   \n",
      "\n",
      "                        start_ts   Timestamp  stressd  Finished  \n",
      "85     2018-03-07T06:24:13-08:00  2018-03-07      1.0         0  \n",
      "198    2018-03-09T10:07:04-08:00  2018-03-09      3.0         0  \n",
      "401    2018-03-14T12:53:26-07:00  2018-03-14      1.0         0  \n",
      "577    2018-03-19T18:01:10-07:00  2018-03-20      4.0         0  \n",
      "810    2018-03-25T06:01:03-07:00  2018-03-25      1.0         0  \n",
      "...                          ...         ...      ...       ...  \n",
      "10886  2018-06-29T18:03:57-07:00  2018-06-30      3.0         0  \n",
      "10982  2018-07-02T11:42:41-07:00  2018-07-02      3.0         0  \n",
      "11012  2018-07-03T18:41:41-07:00  2018-07-04      1.0         0  \n",
      "11086  2018-07-05T19:31:34-07:00  2018-07-06      2.0         0  \n",
      "11135  2018-07-07T12:05:09-07:00  2018-07-07      1.0         0  \n",
      "\n",
      "[92 rows x 6 columns]\n"
     ]
    }
   ],
   "source": [
    "print(stressd.iloc[[ 85,   198,   401,   577,   810,   893,   913,  1292,  1296,\n",
    "             1358,  1792,  1872,  2018,  2052,  2195,  2513,  2567,  2722,\n",
    "             2742,  2778,  2791,  2865,  2868,  3025,  3128,  3140,  3233,\n",
    "             3281,  3284,  3630,  3966,  4038,  4444,  4497,  4595,  4868,\n",
    "             5084,  5097,  5148,  5297,  5479,  5484,  5537,  5668,  5705,\n",
    "             5710,  5807,  5874,  5901,  6061,  6097,  6133,  6267,  6337,\n",
    "             6341,  6842,  6957,  7003,  7046,  7106,  7157,  7396,  7528,\n",
    "             7555,  7561,  7594,  7777,  7965,  8219,  8299,  9226,  9329,\n",
    "             9415,  9442,  9525,  9802,  9969,  9970, 10052, 10069, 10089,\n",
    "            10145, 10376, 10417, 10633, 10767, 10777, 10886, 10982, 11012,\n",
    "            11086, 11135]])"
   ]
  },
  {
   "cell_type": "code",
   "execution_count": 36,
   "id": "48f9c1a4",
   "metadata": {},
   "outputs": [
    {
     "data": {
      "text/html": [
       "<div>\n",
       "<style scoped>\n",
       "    .dataframe tbody tr th:only-of-type {\n",
       "        vertical-align: middle;\n",
       "    }\n",
       "\n",
       "    .dataframe tbody tr th {\n",
       "        vertical-align: top;\n",
       "    }\n",
       "\n",
       "    .dataframe thead th {\n",
       "        text-align: right;\n",
       "    }\n",
       "</style>\n",
       "<table border=\"1\" class=\"dataframe\">\n",
       "  <thead>\n",
       "    <tr style=\"text-align: right;\">\n",
       "      <th></th>\n",
       "      <th>Missing Values</th>\n",
       "      <th>% of Total Values</th>\n",
       "    </tr>\n",
       "  </thead>\n",
       "  <tbody>\n",
       "    <tr>\n",
       "      <th>stressd</th>\n",
       "      <td>87.0</td>\n",
       "      <td>0.8</td>\n",
       "    </tr>\n",
       "    <tr>\n",
       "      <th>participant_id</th>\n",
       "      <td>NaN</td>\n",
       "      <td>NaN</td>\n",
       "    </tr>\n",
       "    <tr>\n",
       "      <th>surveytype</th>\n",
       "      <td>NaN</td>\n",
       "      <td>NaN</td>\n",
       "    </tr>\n",
       "    <tr>\n",
       "      <th>start_ts</th>\n",
       "      <td>NaN</td>\n",
       "      <td>NaN</td>\n",
       "    </tr>\n",
       "    <tr>\n",
       "      <th>Timestamp</th>\n",
       "      <td>NaN</td>\n",
       "      <td>NaN</td>\n",
       "    </tr>\n",
       "    <tr>\n",
       "      <th>Finished</th>\n",
       "      <td>NaN</td>\n",
       "      <td>NaN</td>\n",
       "    </tr>\n",
       "  </tbody>\n",
       "</table>\n",
       "</div>"
      ],
      "text/plain": [
       "                Missing Values  % of Total Values\n",
       "stressd                   87.0                0.8\n",
       "participant_id             NaN                NaN\n",
       "surveytype                 NaN                NaN\n",
       "start_ts                   NaN                NaN\n",
       "Timestamp                  NaN                NaN\n",
       "Finished                   NaN                NaN"
      ]
     },
     "execution_count": 36,
     "metadata": {},
     "output_type": "execute_result"
    }
   ],
   "source": [
    "mis_val= stressd.isna().sum()\n",
    "mis_val_per = stressd.isna().sum()/len(stressd)*100\n",
    "mis_val_table = pd.concat([mis_val, mis_val_per], axis=1)\n",
    "mis_val_table_ren_columns = mis_val_table.rename(\n",
    "        columns = {0 : 'Missing Values', 1 : '% of Total Values'})\n",
    "mis_val_table_ren_columns = mis_val_table_ren_columns[\n",
    "       mis_val_table_ren_columns.iloc[:,:] != 0].sort_values(\n",
    "        '% of Total Values', ascending=False).round(1)\n",
    "mis_val_table_ren_columns"
   ]
  },
  {
   "cell_type": "code",
   "execution_count": 30,
   "id": "a7cf5b85",
   "metadata": {},
   "outputs": [],
   "source": [
    "import missingno as msno"
   ]
  },
  {
   "cell_type": "code",
   "execution_count": 31,
   "id": "89989e8c",
   "metadata": {},
   "outputs": [
    {
     "data": {
      "text/plain": [
       "<AxesSubplot: >"
      ]
     },
     "execution_count": 31,
     "metadata": {},
     "output_type": "execute_result"
    },
    {
     "data": {
      "image/png": "[encoded data removed]",
      "text/plain": [
       "<Figure size 1800x720 with 3 Axes>"
      ]
     },
     "metadata": {
      "needs_background": "light"
     },
     "output_type": "display_data"
    }
   ],
   "source": [
    "msno.bar(stressd)"
   ]
  },
  {
   "cell_type": "code",
   "execution_count": 31,
   "id": "ce34ad8d",
   "metadata": {},
   "outputs": [
    {
     "data": {
      "text/plain": [
       "<AxesSubplot: >"
      ]
     },
     "execution_count": 31,
     "metadata": {},
     "output_type": "execute_result"
    },
    {
     "data": {
      "image/png": "[encoded data removed]",
      "text/plain": [
       "<Figure size 1800x720 with 2 Axes>"
      ]
     },
     "metadata": {
      "needs_background": "light"
     },
     "output_type": "display_data"
    }
   ],
   "source": [
    "msno.matrix(stressd)"
   ]
  },
  {
   "cell_type": "code",
   "execution_count": 37,
   "id": "c7586e72",
   "metadata": {},
   "outputs": [],
   "source": [
    "parti= stressd.groupby([\"participant_id\"])[\"stressd\"].count()"
   ]
  },
  {
   "cell_type": "code",
   "execution_count": 38,
   "id": "8601f340",
   "metadata": {},
   "outputs": [
    {
     "name": "stdout",
     "output_type": "stream",
     "text": [
      "participant_id\n",
      "02581754-36cd-4b23-85ea-bf995c6dec83    30\n",
      "0271c478-a56a-4c09-ab91-9743184dd71b    55\n",
      "02b7a595-6508-46bd-8239-6deb433d6290    65\n",
      "05dedb61-63bc-44e3-8e28-a5d32d91f7e9    69\n",
      "06b33ec4-706d-462f-a681-05491be38eb3    48\n",
      "                                        ..\n",
      "fae38580-1e2d-4491-9de5-7b75703ba4ce    58\n",
      "fb3a4dd7-3cb5-438e-a75d-244d1aec4790     4\n",
      "fcb14a4c-1ffa-4315-872a-a38833459885    63\n",
      "fd79ab30-1199-4619-adbd-577d715d86ce    61\n",
      "fdbd8c07-720c-4ae5-a3d8-aad56b54688c    68\n",
      "Name: stressd, Length: 209, dtype: int64\n"
     ]
    }
   ],
   "source": [
    "print(parti)"
   ]
  },
  {
   "cell_type": "code",
   "execution_count": 39,
   "id": "88a80df8",
   "metadata": {},
   "outputs": [],
   "source": [
    "tsparti= stressd.groupby([\"participant_id\", 'Timestamp'])[\"stressd\"].count()"
   ]
  },
  {
   "cell_type": "code",
   "execution_count": 40,
   "id": "db1fc476",
   "metadata": {},
   "outputs": [
    {
     "name": "stdout",
     "output_type": "stream",
     "text": [
      "participant_id                        Timestamp \n",
      "02581754-36cd-4b23-85ea-bf995c6dec83  2018-04-10    1\n",
      "                                      2018-04-11    1\n",
      "                                      2018-04-13    2\n",
      "                                      2018-04-15    1\n",
      "                                      2018-04-16    1\n",
      "                                                   ..\n",
      "fdbd8c07-720c-4ae5-a3d8-aad56b54688c  2018-07-08    1\n",
      "                                      2018-07-10    2\n",
      "                                      2018-07-11    1\n",
      "                                      2018-07-13    1\n",
      "                                      2018-07-14    1\n",
      "Name: stressd, Length: 8295, dtype: int64\n"
     ]
    }
   ],
   "source": [
    "print(tsparti)"
   ]
  },
  {
   "cell_type": "code",
   "execution_count": 41,
   "id": "758e1de6",
   "metadata": {},
   "outputs": [],
   "source": [
    "sparti= stressd.groupby([\"participant_id\", 'surveytype'])[\"stressd\"].count()"
   ]
  },
  {
   "cell_type": "code",
   "execution_count": 43,
   "id": "c312f072",
   "metadata": {},
   "outputs": [
    {
     "name": "stdout",
     "output_type": "stream",
     "text": [
      "participant_id                        surveytype \n",
      "02581754-36cd-4b23-85ea-bf995c6dec83  health         13\n",
      "                                      job            15\n",
      "                                      personality     2\n",
      "0271c478-a56a-4c09-ab91-9743184dd71b  health         28\n",
      "                                      job            23\n",
      "                                                     ..\n",
      "fd79ab30-1199-4619-adbd-577d715d86ce  job            28\n",
      "                                      personality     5\n",
      "fdbd8c07-720c-4ae5-a3d8-aad56b54688c  health         33\n",
      "                                      job            31\n",
      "                                      personality     4\n",
      "Name: stressd, Length: 619, dtype: int64\n"
     ]
    }
   ],
   "source": [
    "print(sparti)"
   ]
  },
  {
   "cell_type": "code",
   "execution_count": 44,
   "id": "5cd3acca",
   "metadata": {},
   "outputs": [
    {
     "name": "stdout",
     "output_type": "stream",
     "text": [
      "71\n",
      "1\n",
      "209\n",
      "participant_id\n",
      "02581754-36cd-4b23-85ea-bf995c6dec83    30\n",
      "0271c478-a56a-4c09-ab91-9743184dd71b    55\n",
      "02b7a595-6508-46bd-8239-6deb433d6290    65\n",
      "05dedb61-63bc-44e3-8e28-a5d32d91f7e9    69\n",
      "06b33ec4-706d-462f-a681-05491be38eb3    48\n",
      "0a85fd46-fada-434c-9f7a-08b81f9ed8e7    53\n",
      "0adb7679-9d26-46e7-a134-11da293910f3    69\n",
      "0b45e9c1-eba5-46d3-b0a4-cdb5aa4dc736    50\n",
      "0bf54591-e0ac-47ba-9b43-31ff54dfcee8    55\n",
      "0e33f78a-7064-44ff-a8a4-711f99113d39    61\n",
      "Name: stressd, dtype: int64\n"
     ]
    }
   ],
   "source": [
    "print(max(parti))\n",
    "print(min(parti))\n",
    "print(len(parti))\n",
    "print(parti[0:10])"
   ]
  },
  {
   "cell_type": "code",
   "execution_count": 45,
   "id": "a604e4cf",
   "metadata": {},
   "outputs": [
    {
     "name": "stderr",
     "output_type": "stream",
     "text": [
      "/opt/anaconda3/lib/python3.9/site-packages/seaborn/distributions.py:2619: FutureWarning: `distplot` is a deprecated function and will be removed in a future version. Please adapt your code to use either `displot` (a figure-level function with similar flexibility) or `histplot` (an axes-level function for histograms).\n",
      "  warnings.warn(msg, FutureWarning)\n"
     ]
    },
    {
     "data": {
      "text/plain": [
       "<AxesSubplot: xlabel='stressd', ylabel='Density'>"
      ]
     },
     "execution_count": 45,
     "metadata": {},
     "output_type": "execute_result"
    },
    {
     "data": {
      "image/png": "[encoded data removed]",
      "text/plain": [
       "<Figure size 432x288 with 1 Axes>"
      ]
     },
     "metadata": {
      "needs_background": "light"
     },
     "output_type": "display_data"
    }
   ],
   "source": [
    "sns.distplot(parti)"
   ]
  },
  {
   "cell_type": "code",
   "execution_count": 42,
   "id": "1d986f38",
   "metadata": {},
   "outputs": [
    {
     "name": "stdout",
     "output_type": "stream",
     "text": [
      "35\n",
      "1\n",
      "participant_id                        surveytype \n",
      "02581754-36cd-4b23-85ea-bf995c6dec83  health         13\n",
      "                                      job            15\n",
      "                                      personality     2\n",
      "0271c478-a56a-4c09-ab91-9743184dd71b  health         28\n",
      "                                      job            23\n",
      "                                      personality     4\n",
      "02b7a595-6508-46bd-8239-6deb433d6290  health         33\n",
      "                                      job            28\n",
      "                                      personality     4\n",
      "05dedb61-63bc-44e3-8e28-a5d32d91f7e9  health         33\n",
      "                                      job            31\n",
      "                                      personality     5\n",
      "06b33ec4-706d-462f-a681-05491be38eb3  health         24\n",
      "                                      job            21\n",
      "                                      personality     3\n",
      "0a85fd46-fada-434c-9f7a-08b81f9ed8e7  health         27\n",
      "                                      job            23\n",
      "                                      personality     3\n",
      "0adb7679-9d26-46e7-a134-11da293910f3  health         34\n",
      "                                      job            31\n",
      "                                      personality     4\n",
      "0b45e9c1-eba5-46d3-b0a4-cdb5aa4dc736  health         29\n",
      "                                      job            18\n",
      "                                      personality     3\n",
      "0bf54591-e0ac-47ba-9b43-31ff54dfcee8  health         25\n",
      "                                      job            26\n",
      "                                      personality     4\n",
      "0e33f78a-7064-44ff-a8a4-711f99113d39  health         32\n",
      "                                      job            26\n",
      "                                      personality     3\n",
      "Name: stressd, dtype: int64\n"
     ]
    }
   ],
   "source": [
    "print(max(sparti))\n",
    "print(min(sparti))\n",
    "print(sparti[0:30])"
   ]
  },
  {
   "cell_type": "code",
   "execution_count": 46,
   "id": "5ea11b61",
   "metadata": {},
   "outputs": [
    {
     "name": "stdout",
     "output_type": "stream",
     "text": [
      "2\n",
      "0\n",
      "participant_id                        Timestamp \n",
      "02581754-36cd-4b23-85ea-bf995c6dec83  2018-04-10    1\n",
      "                                      2018-04-11    1\n",
      "                                      2018-04-13    2\n",
      "                                      2018-04-15    1\n",
      "                                      2018-04-16    1\n",
      "                                      2018-04-18    1\n",
      "                                      2018-04-20    1\n",
      "                                      2018-04-22    1\n",
      "                                      2018-04-23    1\n",
      "                                      2018-04-25    2\n",
      "                                      2018-04-27    1\n",
      "                                      2018-04-28    2\n",
      "                                      2018-05-02    1\n",
      "                                      2018-05-03    1\n",
      "                                      2018-05-05    0\n",
      "                                      2018-05-06    1\n",
      "                                      2018-05-08    2\n",
      "                                      2018-05-12    1\n",
      "                                      2018-05-14    1\n",
      "                                      2018-05-18    1\n",
      "                                      2018-05-22    1\n",
      "                                      2018-05-26    1\n",
      "                                      2018-06-01    1\n",
      "                                      2018-06-03    1\n",
      "                                      2018-06-08    1\n",
      "                                      2018-06-14    1\n",
      "                                      2018-06-15    1\n",
      "0271c478-a56a-4c09-ab91-9743184dd71b  2018-05-04    1\n",
      "                                      2018-05-07    1\n",
      "                                      2018-05-09    1\n",
      "Name: stressd, dtype: int64\n"
     ]
    }
   ],
   "source": [
    "print(max(tsparti))\n",
    "print(min(tsparti))\n",
    "print(tsparti[0:30])"
   ]
  },
  {
   "cell_type": "code",
   "execution_count": 47,
   "id": "0ae1ff97",
   "metadata": {},
   "outputs": [
    {
     "name": "stdout",
     "output_type": "stream",
     "text": [
      "(11361, 6)\n",
      "(11274, 6)\n"
     ]
    }
   ],
   "source": [
    "#drop a row if any of its values are missing\n",
    "print(stressd.shape)\n",
    "stressd.dropna(how = 'any', inplace = True)\n",
    "print(stressd.shape)\n",
    "\n",
    "#print(11361 - 11274)  #87 rows gone"
   ]
  },
  {
   "cell_type": "code",
   "execution_count": 48,
   "id": "c057b472",
   "metadata": {},
   "outputs": [
    {
     "name": "stdout",
     "output_type": "stream",
     "text": [
      "209\n"
     ]
    }
   ],
   "source": [
    "print(len(stressd['participant_id'].unique())) #209 still??"
   ]
  },
  {
   "cell_type": "code",
   "execution_count": 49,
   "id": "88ef3701",
   "metadata": {},
   "outputs": [
    {
     "data": {
      "text/plain": [
       "participant_id    0\n",
       "surveytype        0\n",
       "start_ts          0\n",
       "Timestamp         0\n",
       "stressd           0\n",
       "Finished          0\n",
       "dtype: int64"
      ]
     },
     "execution_count": 49,
     "metadata": {},
     "output_type": "execute_result"
    }
   ],
   "source": [
    "stressd.isnull().sum()  #92 finished missing"
   ]
  },
  {
   "cell_type": "code",
   "execution_count": 50,
   "id": "cab49dec",
   "metadata": {},
   "outputs": [
    {
     "data": {
      "text/plain": [
       "(11274, 6)"
      ]
     },
     "execution_count": 50,
     "metadata": {},
     "output_type": "execute_result"
    }
   ],
   "source": [
    "stressd.shape"
   ]
  },
  {
   "cell_type": "code",
   "execution_count": 46,
   "id": "05fd2689",
   "metadata": {},
   "outputs": [],
   "source": [
    "#print(fitbit['days'].value_counts()) "
   ]
  },
  {
   "cell_type": "code",
   "execution_count": 47,
   "id": "381eb976",
   "metadata": {},
   "outputs": [],
   "source": [
    "#Visualize\n",
    "\n",
    "import seaborn as sns\n",
    "import matplotlib.pyplot as plt\n",
    "%matplotlib inline"
   ]
  },
  {
   "cell_type": "code",
   "execution_count": 48,
   "id": "205a2c53",
   "metadata": {},
   "outputs": [
    {
     "name": "stdout",
     "output_type": "stream",
     "text": [
      "                         participant_id surveytype                   start_ts  \\\n",
      "0  c7c4392b-02ee-40f4-a22f-ab2386c6ccf5        job  2018-03-05T06:01:53-08:00   \n",
      "1  3a62899e-082a-4638-ab8b-b49f1ce12a20        job  2018-03-05T06:01:58-08:00   \n",
      "2  a9dfbe4d-4076-48c7-a72b-342fe4c12514        job  2018-03-05T06:02:35-08:00   \n",
      "3  7e6a98f1-73c3-4023-9bbd-acf2b70d04b5        job  2018-03-05T06:09:22-08:00   \n",
      "4  8b13d979-315f-4357-8f0e-7c12df0a6ca8        job  2018-03-05T06:14:16-08:00   \n",
      "\n",
      "    Timestamp  stressd  Finished  \n",
      "0  2018-03-05      2.0         1  \n",
      "1  2018-03-05      1.0         1  \n",
      "2  2018-03-05      2.0         1  \n",
      "3  2018-03-05      1.0         1  \n",
      "4  2018-03-05      3.0         1  \n"
     ]
    }
   ],
   "source": [
    "print(stressd.head())"
   ]
  },
  {
   "cell_type": "code",
   "execution_count": 51,
   "id": "59ef3a37",
   "metadata": {},
   "outputs": [],
   "source": [
    "stressd2 = stressd.drop(labels = ['start_ts', 'Finished', 'surveytype'], axis = 1)"
   ]
  },
  {
   "cell_type": "code",
   "execution_count": 52,
   "id": "8516902a",
   "metadata": {},
   "outputs": [
    {
     "name": "stdout",
     "output_type": "stream",
     "text": [
      "<class 'pandas.core.frame.DataFrame'>\n",
      "Int64Index: 11274 entries, 0 to 11360\n",
      "Data columns (total 3 columns):\n",
      " #   Column          Non-Null Count  Dtype  \n",
      "---  ------          --------------  -----  \n",
      " 0   participant_id  11274 non-null  object \n",
      " 1   Timestamp       11274 non-null  object \n",
      " 2   stressd         11274 non-null  float64\n",
      "dtypes: float64(1), object(2)\n",
      "memory usage: 352.3+ KB\n"
     ]
    }
   ],
   "source": [
    "stressd2.info()"
   ]
  },
  {
   "cell_type": "code",
   "execution_count": 53,
   "id": "c45639f1",
   "metadata": {},
   "outputs": [
    {
     "data": {
      "text/plain": [
       "pandas.core.frame.DataFrame"
      ]
     },
     "execution_count": 53,
     "metadata": {},
     "output_type": "execute_result"
    }
   ],
   "source": [
    "type(stressd2)"
   ]
  },
  {
   "cell_type": "code",
   "execution_count": 59,
   "id": "9ba60316",
   "metadata": {},
   "outputs": [
    {
     "name": "stdout",
     "output_type": "stream",
     "text": [
      "3027\n",
      "8247\n",
      "participant_id                        Timestamp \n",
      "02581754-36cd-4b23-85ea-bf995c6dec83  2018-04-13    1\n",
      "                                      2018-04-25    1\n",
      "                                      2018-04-28    1\n",
      "                                      2018-05-08    1\n",
      "0271c478-a56a-4c09-ab91-9743184dd71b  2018-05-11    1\n",
      "                                                   ..\n",
      "fdbd8c07-720c-4ae5-a3d8-aad56b54688c  2018-06-28    1\n",
      "                                      2018-07-02    1\n",
      "                                      2018-07-04    1\n",
      "                                      2018-07-06    1\n",
      "                                      2018-07-10    1\n",
      "Name: stressd, Length: 3027, dtype: int64\n"
     ]
    }
   ],
   "source": [
    "li = (sum([stressd2.groupby(['participant_id','Timestamp'])['stressd'].count() > 1]))\n",
    "             \n",
    "#daypp = merged.groupby(['participant_id'])['Timestamp'].count()\n",
    "\n",
    "print(li.sum()) #3027 more than once a day per participant\n",
    "print(len(li)) #8247 unique values per day per participant\n",
    "\n",
    "print(li[li ==1])"
   ]
  },
  {
   "cell_type": "code",
   "execution_count": 60,
   "id": "9d5553c9",
   "metadata": {},
   "outputs": [
    {
     "data": {
      "text/html": [
       "<div>\n",
       "<style scoped>\n",
       "    .dataframe tbody tr th:only-of-type {\n",
       "        vertical-align: middle;\n",
       "    }\n",
       "\n",
       "    .dataframe tbody tr th {\n",
       "        vertical-align: top;\n",
       "    }\n",
       "\n",
       "    .dataframe thead th {\n",
       "        text-align: right;\n",
       "    }\n",
       "</style>\n",
       "<table border=\"1\" class=\"dataframe\">\n",
       "  <thead>\n",
       "    <tr style=\"text-align: right;\">\n",
       "      <th></th>\n",
       "      <th>participant_id</th>\n",
       "      <th>Timestamp</th>\n",
       "      <th>stressd</th>\n",
       "    </tr>\n",
       "  </thead>\n",
       "  <tbody>\n",
       "    <tr>\n",
       "      <th>0</th>\n",
       "      <td>c7c4392b-02ee-40f4-a22f-ab2386c6ccf5</td>\n",
       "      <td>2018-03-05</td>\n",
       "      <td>2.0</td>\n",
       "    </tr>\n",
       "    <tr>\n",
       "      <th>1</th>\n",
       "      <td>3a62899e-082a-4638-ab8b-b49f1ce12a20</td>\n",
       "      <td>2018-03-05</td>\n",
       "      <td>1.0</td>\n",
       "    </tr>\n",
       "    <tr>\n",
       "      <th>2</th>\n",
       "      <td>a9dfbe4d-4076-48c7-a72b-342fe4c12514</td>\n",
       "      <td>2018-03-05</td>\n",
       "      <td>2.0</td>\n",
       "    </tr>\n",
       "    <tr>\n",
       "      <th>3</th>\n",
       "      <td>7e6a98f1-73c3-4023-9bbd-acf2b70d04b5</td>\n",
       "      <td>2018-03-05</td>\n",
       "      <td>1.0</td>\n",
       "    </tr>\n",
       "    <tr>\n",
       "      <th>4</th>\n",
       "      <td>8b13d979-315f-4357-8f0e-7c12df0a6ca8</td>\n",
       "      <td>2018-03-05</td>\n",
       "      <td>3.0</td>\n",
       "    </tr>\n",
       "  </tbody>\n",
       "</table>\n",
       "</div>"
      ],
      "text/plain": [
       "                         participant_id   Timestamp  stressd\n",
       "0  c7c4392b-02ee-40f4-a22f-ab2386c6ccf5  2018-03-05      2.0\n",
       "1  3a62899e-082a-4638-ab8b-b49f1ce12a20  2018-03-05      1.0\n",
       "2  a9dfbe4d-4076-48c7-a72b-342fe4c12514  2018-03-05      2.0\n",
       "3  7e6a98f1-73c3-4023-9bbd-acf2b70d04b5  2018-03-05      1.0\n",
       "4  8b13d979-315f-4357-8f0e-7c12df0a6ca8  2018-03-05      3.0"
      ]
     },
     "execution_count": 60,
     "metadata": {},
     "output_type": "execute_result"
    }
   ],
   "source": [
    "stressd2.head()"
   ]
  },
  {
   "cell_type": "code",
   "execution_count": 62,
   "id": "19e2b467",
   "metadata": {},
   "outputs": [
    {
     "name": "stdout",
     "output_type": "stream",
     "text": [
      "                            participant_id   Timestamp  mstressd\n",
      "0     02581754-36cd-4b23-85ea-bf995c6dec83  2018-04-10       2.0\n",
      "1     02581754-36cd-4b23-85ea-bf995c6dec83  2018-04-11       2.0\n",
      "2     02581754-36cd-4b23-85ea-bf995c6dec83  2018-04-13       1.0\n",
      "3     02581754-36cd-4b23-85ea-bf995c6dec83  2018-04-15       1.0\n",
      "4     02581754-36cd-4b23-85ea-bf995c6dec83  2018-04-16       1.0\n",
      "...                                    ...         ...       ...\n",
      "8242  fdbd8c07-720c-4ae5-a3d8-aad56b54688c  2018-07-08       1.0\n",
      "8243  fdbd8c07-720c-4ae5-a3d8-aad56b54688c  2018-07-10       1.5\n",
      "8244  fdbd8c07-720c-4ae5-a3d8-aad56b54688c  2018-07-11       1.0\n",
      "8245  fdbd8c07-720c-4ae5-a3d8-aad56b54688c  2018-07-13       1.0\n",
      "8246  fdbd8c07-720c-4ae5-a3d8-aad56b54688c  2018-07-14       1.0\n",
      "\n",
      "[8247 rows x 3 columns]\n",
      "\n",
      "0\n",
      "8247\n",
      "209\n"
     ]
    }
   ],
   "source": [
    "stre2 = pd.DataFrame()\n",
    "\n",
    "stre2['mstressd'] = stressd2.groupby(['participant_id', 'Timestamp'])['stressd'].mean()\n",
    "stre2.reset_index(level=['participant_id', 'Timestamp'], inplace=True)\n",
    "print(stre2)\n",
    "print()\n",
    "ali = (sum([stre2.groupby(['participant_id','Timestamp'])['mstressd'].count() > 1]))\n",
    "print(ali.sum()) #no repeating stress scores on the same day per participant\n",
    "print(len(ali)) #unique values \n",
    "print(len(stre2['participant_id'].unique())) #209 participants still"
   ]
  },
  {
   "cell_type": "code",
   "execution_count": 64,
   "id": "c515518e",
   "metadata": {},
   "outputs": [
    {
     "data": {
      "text/html": [
       "<div>\n",
       "<style scoped>\n",
       "    .dataframe tbody tr th:only-of-type {\n",
       "        vertical-align: middle;\n",
       "    }\n",
       "\n",
       "    .dataframe tbody tr th {\n",
       "        vertical-align: top;\n",
       "    }\n",
       "\n",
       "    .dataframe thead th {\n",
       "        text-align: right;\n",
       "    }\n",
       "</style>\n",
       "<table border=\"1\" class=\"dataframe\">\n",
       "  <thead>\n",
       "    <tr style=\"text-align: right;\">\n",
       "      <th></th>\n",
       "      <th>participant_id</th>\n",
       "      <th>Timestamp</th>\n",
       "      <th>mstressd</th>\n",
       "    </tr>\n",
       "  </thead>\n",
       "  <tbody>\n",
       "    <tr>\n",
       "      <th>0</th>\n",
       "      <td>02581754-36cd-4b23-85ea-bf995c6dec83</td>\n",
       "      <td>2018-04-10</td>\n",
       "      <td>2.0</td>\n",
       "    </tr>\n",
       "    <tr>\n",
       "      <th>1</th>\n",
       "      <td>02581754-36cd-4b23-85ea-bf995c6dec83</td>\n",
       "      <td>2018-04-11</td>\n",
       "      <td>2.0</td>\n",
       "    </tr>\n",
       "    <tr>\n",
       "      <th>2</th>\n",
       "      <td>02581754-36cd-4b23-85ea-bf995c6dec83</td>\n",
       "      <td>2018-04-13</td>\n",
       "      <td>1.0</td>\n",
       "    </tr>\n",
       "    <tr>\n",
       "      <th>3</th>\n",
       "      <td>02581754-36cd-4b23-85ea-bf995c6dec83</td>\n",
       "      <td>2018-04-15</td>\n",
       "      <td>1.0</td>\n",
       "    </tr>\n",
       "    <tr>\n",
       "      <th>4</th>\n",
       "      <td>02581754-36cd-4b23-85ea-bf995c6dec83</td>\n",
       "      <td>2018-04-16</td>\n",
       "      <td>1.0</td>\n",
       "    </tr>\n",
       "    <tr>\n",
       "      <th>...</th>\n",
       "      <td>...</td>\n",
       "      <td>...</td>\n",
       "      <td>...</td>\n",
       "    </tr>\n",
       "    <tr>\n",
       "      <th>8242</th>\n",
       "      <td>fdbd8c07-720c-4ae5-a3d8-aad56b54688c</td>\n",
       "      <td>2018-07-08</td>\n",
       "      <td>1.0</td>\n",
       "    </tr>\n",
       "    <tr>\n",
       "      <th>8243</th>\n",
       "      <td>fdbd8c07-720c-4ae5-a3d8-aad56b54688c</td>\n",
       "      <td>2018-07-10</td>\n",
       "      <td>1.5</td>\n",
       "    </tr>\n",
       "    <tr>\n",
       "      <th>8244</th>\n",
       "      <td>fdbd8c07-720c-4ae5-a3d8-aad56b54688c</td>\n",
       "      <td>2018-07-11</td>\n",
       "      <td>1.0</td>\n",
       "    </tr>\n",
       "    <tr>\n",
       "      <th>8245</th>\n",
       "      <td>fdbd8c07-720c-4ae5-a3d8-aad56b54688c</td>\n",
       "      <td>2018-07-13</td>\n",
       "      <td>1.0</td>\n",
       "    </tr>\n",
       "    <tr>\n",
       "      <th>8246</th>\n",
       "      <td>fdbd8c07-720c-4ae5-a3d8-aad56b54688c</td>\n",
       "      <td>2018-07-14</td>\n",
       "      <td>1.0</td>\n",
       "    </tr>\n",
       "  </tbody>\n",
       "</table>\n",
       "<p>8247 rows × 3 columns</p>\n",
       "</div>"
      ],
      "text/plain": [
       "                            participant_id   Timestamp  mstressd\n",
       "0     02581754-36cd-4b23-85ea-bf995c6dec83  2018-04-10       2.0\n",
       "1     02581754-36cd-4b23-85ea-bf995c6dec83  2018-04-11       2.0\n",
       "2     02581754-36cd-4b23-85ea-bf995c6dec83  2018-04-13       1.0\n",
       "3     02581754-36cd-4b23-85ea-bf995c6dec83  2018-04-15       1.0\n",
       "4     02581754-36cd-4b23-85ea-bf995c6dec83  2018-04-16       1.0\n",
       "...                                    ...         ...       ...\n",
       "8242  fdbd8c07-720c-4ae5-a3d8-aad56b54688c  2018-07-08       1.0\n",
       "8243  fdbd8c07-720c-4ae5-a3d8-aad56b54688c  2018-07-10       1.5\n",
       "8244  fdbd8c07-720c-4ae5-a3d8-aad56b54688c  2018-07-11       1.0\n",
       "8245  fdbd8c07-720c-4ae5-a3d8-aad56b54688c  2018-07-13       1.0\n",
       "8246  fdbd8c07-720c-4ae5-a3d8-aad56b54688c  2018-07-14       1.0\n",
       "\n",
       "[8247 rows x 3 columns]"
      ]
     },
     "execution_count": 64,
     "metadata": {},
     "output_type": "execute_result"
    }
   ],
   "source": [
    "stre2"
   ]
  },
  {
   "cell_type": "code",
   "execution_count": 65,
   "id": "718bcff3",
   "metadata": {},
   "outputs": [],
   "source": [
    "os.makedirs('/Users/selinzobu/Desktop/TILES/', exist_ok=True)  \n",
    "stre2.to_csv('/Users/selinzobu/Desktop/TILES/1STRESSD.csv')  "
   ]
  },
  {
   "cell_type": "code",
   "execution_count": 53,
   "id": "d8333521",
   "metadata": {},
   "outputs": [
    {
     "data": {
      "image/png": "[encoded data removed]",
      "text/plain": [
       "<Figure size 864x576 with 1 Axes>"
      ]
     },
     "metadata": {
      "needs_background": "light"
     },
     "output_type": "display_data"
    }
   ],
   "source": [
    "plt.figure(figsize = (12,8))\n",
    "stressd2.boxplot()\n",
    "plt.show()"
   ]
  },
  {
   "cell_type": "code",
   "execution_count": 54,
   "id": "03aafaa8",
   "metadata": {},
   "outputs": [
    {
     "data": {
      "text/plain": [
       "{'whiskers': [<matplotlib.lines.Line2D at 0x7f7d314c53a0>,\n",
       "  <matplotlib.lines.Line2D at 0x7f7d314c5970>],\n",
       " 'caps': [<matplotlib.lines.Line2D at 0x7f7d314c5a00>,\n",
       "  <matplotlib.lines.Line2D at 0x7f7d314c5a30>],\n",
       " 'boxes': [<matplotlib.lines.Line2D at 0x7f7d314c5070>],\n",
       " 'medians': [<matplotlib.lines.Line2D at 0x7f7d31505eb0>],\n",
       " 'fliers': [<matplotlib.lines.Line2D at 0x7f7d31505910>],\n",
       " 'means': [<matplotlib.lines.Line2D at 0x7f7d31505100>]}"
      ]
     },
     "execution_count": 54,
     "metadata": {},
     "output_type": "execute_result"
    },
    {
     "data": {
      "image/png": "[encoded data removed]",
      "text/plain": [
       "<Figure size 432x288 with 1 Axes>"
      ]
     },
     "metadata": {
      "needs_background": "light"
     },
     "output_type": "display_data"
    }
   ],
   "source": [
    "plt.boxplot(stressd2.stressd,meanline = True, showmeans= True)"
   ]
  },
  {
   "cell_type": "code",
   "execution_count": 55,
   "id": "01fa66a1",
   "metadata": {},
   "outputs": [
    {
     "data": {
      "text/plain": [
       "<AxesSubplot: >"
      ]
     },
     "execution_count": 55,
     "metadata": {},
     "output_type": "execute_result"
    },
    {
     "data": {
      "image/png": "[encoded data removed]",
      "text/plain": [
       "<Figure size 432x288 with 1 Axes>"
      ]
     },
     "metadata": {
      "needs_background": "light"
     },
     "output_type": "display_data"
    }
   ],
   "source": [
    "stressd2['stressd'].plot(kind = 'barh')"
   ]
  },
  {
   "cell_type": "code",
   "execution_count": 56,
   "id": "56971e61",
   "metadata": {},
   "outputs": [
    {
     "name": "stdout",
     "output_type": "stream",
     "text": [
      "                             participant_id   Timestamp  stressd\n",
      "0      c7c4392b-02ee-40f4-a22f-ab2386c6ccf5  2018-03-05      2.0\n",
      "1      3a62899e-082a-4638-ab8b-b49f1ce12a20  2018-03-05      1.0\n",
      "2      a9dfbe4d-4076-48c7-a72b-342fe4c12514  2018-03-05      2.0\n",
      "3      7e6a98f1-73c3-4023-9bbd-acf2b70d04b5  2018-03-05      1.0\n",
      "4      8b13d979-315f-4357-8f0e-7c12df0a6ca8  2018-03-05      3.0\n",
      "...                                     ...         ...      ...\n",
      "11356  883aca61-af06-4c14-ba58-8d2e4b75bfda  2018-07-14      1.0\n",
      "11357  96a272fc-166f-4fe4-8aeb-3874264f3b54  2018-07-14      4.0\n",
      "11358  8a2a2baf-826f-445d-a7fe-3a9b7f5d2334  2018-07-14      1.0\n",
      "11359  eb4e1be4-29de-4120-9727-0ce8041da479  2018-07-14      1.0\n",
      "11360  f732e878-e538-49b8-97d3-49ca29e9a3f8  2018-07-14      1.0\n",
      "\n",
      "[11274 rows x 3 columns]\n"
     ]
    }
   ],
   "source": [
    "print(stressd2)"
   ]
  },
  {
   "cell_type": "code",
   "execution_count": 46,
   "id": "6f45f33f",
   "metadata": {},
   "outputs": [],
   "source": [
    "#sns.countplot(stressd2['stressd'])"
   ]
  },
  {
   "cell_type": "code",
   "execution_count": 58,
   "id": "32f46d6b",
   "metadata": {},
   "outputs": [],
   "source": [
    "sns.set_style('darkgrid')"
   ]
  },
  {
   "cell_type": "code",
   "execution_count": 59,
   "id": "bf45adc7",
   "metadata": {},
   "outputs": [
    {
     "data": {
      "text/plain": [
       "<AxesSubplot: xlabel='stressd', ylabel='count'>"
      ]
     },
     "execution_count": 59,
     "metadata": {},
     "output_type": "execute_result"
    },
    {
     "data": {
      "image/png": "[encoded data removed]",
      "text/plain": [
       "<Figure size 432x288 with 1 Axes>"
      ]
     },
     "metadata": {},
     "output_type": "display_data"
    }
   ],
   "source": [
    "sns.countplot(x= 'stressd', data = stressd2)"
   ]
  },
  {
   "cell_type": "code",
   "execution_count": 47,
   "id": "ef97c7d3",
   "metadata": {},
   "outputs": [],
   "source": [
    "#sns.countplot(stressd2['stressd'].value_counts())"
   ]
  },
  {
   "cell_type": "code",
   "execution_count": 49,
   "id": "d7db87e6",
   "metadata": {},
   "outputs": [],
   "source": [
    "#stressd2.stressd.value_counts().index"
   ]
  },
  {
   "cell_type": "code",
   "execution_count": 48,
   "id": "1d9aa2eb",
   "metadata": {},
   "outputs": [],
   "source": [
    "#sns.countplot(x = 'stressd', data = stressd2)"
   ]
  },
  {
   "cell_type": "code",
   "execution_count": 63,
   "id": "a544fc6c",
   "metadata": {},
   "outputs": [
    {
     "data": {
      "text/plain": [
       "<AxesSubplot: xlabel='stressd', ylabel='count'>"
      ]
     },
     "execution_count": 63,
     "metadata": {},
     "output_type": "execute_result"
    },
    {
     "data": {
      "image/png": "[encoded data removed]",
      "text/plain": [
       "<Figure size 432x288 with 1 Axes>"
      ]
     },
     "metadata": {},
     "output_type": "display_data"
    }
   ],
   "source": [
    "sns.countplot(x = 'stressd', data = stressd2, order = stressd2.stressd.value_counts().index[::-1])"
   ]
  },
  {
   "cell_type": "code",
   "execution_count": 67,
   "id": "9f5a4614",
   "metadata": {},
   "outputs": [
    {
     "data": {
      "text/plain": [
       "<AxesSubplot: xlabel='count', ylabel='stressd'>"
      ]
     },
     "execution_count": 67,
     "metadata": {},
     "output_type": "execute_result"
    },
    {
     "data": {
      "image/png": "[encoded data removed]",
      "text/plain": [
       "<Figure size 432x288 with 1 Axes>"
      ]
     },
     "metadata": {},
     "output_type": "display_data"
    }
   ],
   "source": [
    "sns.countplot(y = 'stressd', data = stressd2, lw = 4)"
   ]
  },
  {
   "cell_type": "code",
   "execution_count": 61,
   "id": "fe31028f",
   "metadata": {},
   "outputs": [
    {
     "name": "stdout",
     "output_type": "stream",
     "text": [
      "<class 'pandas.core.series.Series'>\n"
     ]
    },
    {
     "data": {
      "text/plain": [
       "2257"
      ]
     },
     "execution_count": 61,
     "metadata": {},
     "output_type": "execute_result"
    }
   ],
   "source": [
    "print(type(stressd2['stressd'].value_counts()))\n",
    "stressd2['stressd'].value_counts()[3]"
   ]
  },
  {
   "cell_type": "code",
   "execution_count": 43,
   "id": "603e0cae",
   "metadata": {},
   "outputs": [
    {
     "data": {
      "text/plain": [
       "participant_id    0\n",
       "Timestamp         0\n",
       "stressd           0\n",
       "dtype: int64"
      ]
     },
     "execution_count": 43,
     "metadata": {},
     "output_type": "execute_result"
    }
   ],
   "source": [
    "stressd2.isnull().sum()"
   ]
  },
  {
   "cell_type": "code",
   "execution_count": 63,
   "id": "8ecd70ac",
   "metadata": {},
   "outputs": [],
   "source": [
    "#Outliers : Z Score\n",
    "\n",
    "outliers = []\n",
    "def detect_outliers(data):\n",
    "    threshold =3\n",
    "    mean = np.mean(data)\n",
    "    std = np.std(data)\n",
    "    \n",
    "    \n",
    "    for i in data:\n",
    "        z_score = (i - mean)/std\n",
    "        if np.abs(z_score) > threshold:\n",
    "            outliers.append(i)\n",
    "    return outliers"
   ]
  },
  {
   "cell_type": "code",
   "execution_count": 64,
   "id": "cf3bf962",
   "metadata": {},
   "outputs": [
    {
     "name": "stdout",
     "output_type": "stream",
     "text": [
      "130\n"
     ]
    }
   ],
   "source": [
    "outlier_s = detect_outliers(stressd2.stressd)\n",
    "print(len(outlier_s))"
   ]
  },
  {
   "cell_type": "code",
   "execution_count": null,
   "id": "741f2312",
   "metadata": {},
   "outputs": [],
   "source": []
  },
  {
   "cell_type": "code",
   "execution_count": 65,
   "id": "a9b3b53a",
   "metadata": {},
   "outputs": [],
   "source": [
    "#outlier_orm = detect_outliers(fitbit['Out of Range_min'])\n",
    "#print(len(outlier_orm))"
   ]
  },
  {
   "cell_type": "code",
   "execution_count": 66,
   "id": "cf018e6d",
   "metadata": {},
   "outputs": [
    {
     "name": "stdout",
     "output_type": "stream",
     "text": [
      "0        2.0\n",
      "1        1.0\n",
      "2        2.0\n",
      "3        1.0\n",
      "4        3.0\n",
      "        ... \n",
      "11356    1.0\n",
      "11357    4.0\n",
      "11358    1.0\n",
      "11359    1.0\n",
      "11360    1.0\n",
      "Name: stressd, Length: 11274, dtype: float64\n"
     ]
    }
   ],
   "source": [
    "print(stressd2.stressd)"
   ]
  },
  {
   "cell_type": "code",
   "execution_count": null,
   "id": "226ea6a9",
   "metadata": {},
   "outputs": [],
   "source": [
    "#Outliers : Scatter plot & Boxplots"
   ]
  },
  {
   "cell_type": "code",
   "execution_count": 44,
   "id": "9f15c1f8",
   "metadata": {},
   "outputs": [
    {
     "name": "stdout",
     "output_type": "stream",
     "text": [
      "                             participant_id              completed_ts  stressd\n",
      "0      c7c4392b-02ee-40f4-a22f-ab2386c6ccf5 2018-03-05 14:06:11+00:00      2.0\n",
      "1      3a62899e-082a-4638-ab8b-b49f1ce12a20 2018-03-05 14:04:06+00:00      1.0\n",
      "2      a9dfbe4d-4076-48c7-a72b-342fe4c12514 2018-03-05 18:22:04+00:00      2.0\n",
      "3      7e6a98f1-73c3-4023-9bbd-acf2b70d04b5 2018-03-05 14:16:27+00:00      1.0\n",
      "4      8b13d979-315f-4357-8f0e-7c12df0a6ca8 2018-03-05 14:19:21+00:00      3.0\n",
      "...                                     ...                       ...      ...\n",
      "11356  883aca61-af06-4c14-ba58-8d2e4b75bfda 2018-07-14 03:22:08+00:00      1.0\n",
      "11357  96a272fc-166f-4fe4-8aeb-3874264f3b54 2018-07-14 03:31:54+00:00      4.0\n",
      "11358  8a2a2baf-826f-445d-a7fe-3a9b7f5d2334 2018-07-14 03:51:33+00:00      1.0\n",
      "11359  eb4e1be4-29de-4120-9727-0ce8041da479 2018-07-14 04:48:41+00:00      1.0\n",
      "11360  f732e878-e538-49b8-97d3-49ca29e9a3f8 2018-07-14 05:40:40+00:00      1.0\n",
      "\n",
      "[11274 rows x 3 columns]\n"
     ]
    }
   ],
   "source": [
    "print(stressd2)"
   ]
  },
  {
   "cell_type": "code",
   "execution_count": 67,
   "id": "3e1abd62",
   "metadata": {},
   "outputs": [
    {
     "name": "stdout",
     "output_type": "stream",
     "text": [
      "                             participant_id               completed_ts  \\\n",
      "0      c7c4392b-02ee-40f4-a22f-ab2386c6ccf5  2018-03-05T06:06:11-08:00   \n",
      "1      3a62899e-082a-4638-ab8b-b49f1ce12a20  2018-03-05T06:04:06-08:00   \n",
      "2      a9dfbe4d-4076-48c7-a72b-342fe4c12514  2018-03-05T10:22:04-08:00   \n",
      "3      7e6a98f1-73c3-4023-9bbd-acf2b70d04b5  2018-03-05T06:16:27-08:00   \n",
      "4      8b13d979-315f-4357-8f0e-7c12df0a6ca8  2018-03-05T06:19:21-08:00   \n",
      "...                                     ...                        ...   \n",
      "11356  883aca61-af06-4c14-ba58-8d2e4b75bfda  2018-07-13T20:22:08-07:00   \n",
      "11357  96a272fc-166f-4fe4-8aeb-3874264f3b54  2018-07-13T20:31:54-07:00   \n",
      "11358  8a2a2baf-826f-445d-a7fe-3a9b7f5d2334  2018-07-13T20:51:33-07:00   \n",
      "11359  eb4e1be4-29de-4120-9727-0ce8041da479  2018-07-13T21:48:41-07:00   \n",
      "11360  f732e878-e538-49b8-97d3-49ca29e9a3f8  2018-07-13T22:40:40-07:00   \n",
      "\n",
      "       stressd  \n",
      "0          2.0  \n",
      "1          1.0  \n",
      "2          2.0  \n",
      "3          1.0  \n",
      "4          3.0  \n",
      "...        ...  \n",
      "11356      1.0  \n",
      "11357      4.0  \n",
      "11358      1.0  \n",
      "11359      1.0  \n",
      "11360      1.0  \n",
      "\n",
      "[11274 rows x 3 columns]\n"
     ]
    }
   ],
   "source": [
    "print(stressd2)"
   ]
  },
  {
   "cell_type": "code",
   "execution_count": 68,
   "id": "9b137917",
   "metadata": {},
   "outputs": [],
   "source": [
    "%matplotlib inline\n",
    "rcParams['figure.figsize'] = 5,4\n",
    "sns.set_style('whitegrid')"
   ]
  },
  {
   "cell_type": "code",
   "execution_count": 69,
   "id": "be1e2f81",
   "metadata": {},
   "outputs": [
    {
     "data": {
      "text/plain": [
       "<AxesSubplot:xlabel='stressd', ylabel='completed_ts'>"
      ]
     },
     "execution_count": 69,
     "metadata": {},
     "output_type": "execute_result"
    },
    {
     "data": {
      "image/png": "[encoded data removed]",
      "text/plain": [
       "<Figure size 360x288 with 1 Axes>"
      ]
     },
     "metadata": {},
     "output_type": "display_data"
    }
   ],
   "source": [
    "sns.boxplot(x = 'stressd',y = 'completed_ts', data = stressd2, palette = 'hls')"
   ]
  },
  {
   "cell_type": "code",
   "execution_count": 70,
   "id": "bc381a23",
   "metadata": {},
   "outputs": [
    {
     "data": {
      "text/plain": [
       "<seaborn.axisgrid.PairGrid at 0x7fe844ab1400>"
      ]
     },
     "execution_count": 70,
     "metadata": {},
     "output_type": "execute_result"
    },
    {
     "data": {
      "image/png": "[encoded data removed]",
      "text/plain": [
       "<Figure size 247.875x180 with 2 Axes>"
      ]
     },
     "metadata": {},
     "output_type": "display_data"
    }
   ],
   "source": [
    "sns.pairplot(stressd2, hue = 'completed_ts', palette = 'hls')"
   ]
  },
  {
   "cell_type": "code",
   "execution_count": 71,
   "id": "491ab6a8",
   "metadata": {},
   "outputs": [
    {
     "name": "stderr",
     "output_type": "stream",
     "text": [
      "/opt/anaconda3/lib/python3.9/site-packages/seaborn/distributions.py:2619: FutureWarning: `distplot` is a deprecated function and will be removed in a future version. Please adapt your code to use either `displot` (a figure-level function with similar flexibility) or `histplot` (an axes-level function for histograms).\n",
      "  warnings.warn(msg, FutureWarning)\n"
     ]
    },
    {
     "data": {
      "text/plain": [
       "<AxesSubplot:xlabel='stressd', ylabel='Density'>"
      ]
     },
     "execution_count": 71,
     "metadata": {},
     "output_type": "execute_result"
    },
    {
     "data": {
      "image/png": "[encoded data removed]",
      "text/plain": [
       "<Figure size 360x288 with 1 Axes>"
      ]
     },
     "metadata": {},
     "output_type": "display_data"
    }
   ],
   "source": [
    "sns.distplot(stressd2['stressd'])"
   ]
  }
 ],
 "metadata": {
  "kernelspec": {
   "display_name": "Python 3 (ipykernel)",
   "language": "python",
   "name": "python3"
  },
  "language_info": {
   "codemirror_mode": {
    "name": "ipython",
    "version": 3
   },
   "file_extension": ".py",
   "mimetype": "text/x-python",
   "name": "python",
   "nbconvert_exporter": "python",
   "pygments_lexer": "ipython3",
   "version": "3.9.7"
  }
 },
 "nbformat": 4,
 "nbformat_minor": 5
}
