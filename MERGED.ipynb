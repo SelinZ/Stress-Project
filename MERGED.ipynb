{
 "cells": [
  {
   "cell_type": "code",
   "execution_count": 1,
   "id": "45f57688",
   "metadata": {},
   "outputs": [
    {
     "data": {
      "text/plain": [
       "'/Users/selinzobu/Desktop/TILES'"
      ]
     },
     "execution_count": 1,
     "metadata": {},
     "output_type": "execute_result"
    }
   ],
   "source": [
    "import os\n",
    "os.getcwd()"
   ]
  },
  {
   "cell_type": "code",
   "execution_count": 2,
   "id": "f920d7c9",
   "metadata": {},
   "outputs": [],
   "source": [
    "import pandas as pd\n",
    "import numpy as np\n",
    "from pandas import Series, DataFrame\n",
    "import time\n",
    "import datetime"
   ]
  },
  {
   "cell_type": "code",
   "execution_count": 3,
   "id": "502b1bc4",
   "metadata": {},
   "outputs": [
    {
     "name": "stdout",
     "output_type": "stream",
     "text": [
      "Index(['Timestamp', 'Cardio_caloriesOut', 'Fat Burn_caloriesOut',\n",
      "       'Fat Burn_minutes', 'NumberSteps', 'RestingHeartRate',\n",
      "       'SleepMinutesAsleep', 'SleepMinutesInBed', 'participant_id', 'days'],\n",
      "      dtype='object')\n",
      "(12505, 10)\n",
      "        Timestamp  Cardio_caloriesOut  Fat Burn_caloriesOut  Fat Burn_minutes  \\\n",
      "0      2018-04-09             8.17870             242.66684              53.0   \n",
      "1      2018-04-10             8.08248             132.39872              28.0   \n",
      "2      2018-04-11            22.51548             302.70812              61.0   \n",
      "3      2018-04-12            17.31960              78.32308              19.0   \n",
      "4      2018-04-13             7.89004             312.61878              59.0   \n",
      "...           ...                 ...                   ...               ...   \n",
      "12500  2018-06-14             6.29056            1009.04514             259.0   \n",
      "12501  2018-06-15             8.05978             788.48238             208.0   \n",
      "12502  2018-06-16             0.00000             876.74680             236.0   \n",
      "12503  2018-06-17             0.00000             403.97190             112.0   \n",
      "12504  2018-06-18            28.30752            1371.44037             338.0   \n",
      "\n",
      "       NumberSteps  RestingHeartRate  SleepMinutesAsleep  SleepMinutesInBed  \\\n",
      "0          21086.0              57.0               409.0                461   \n",
      "1          11739.0              59.0               371.0                449   \n",
      "2           9501.0              57.0               466.0                531   \n",
      "3          10758.0              57.0               406.0                451   \n",
      "4          17076.0              58.0               427.0                469   \n",
      "...            ...               ...                 ...                ...   \n",
      "12500      10942.0              64.0               210.0                234   \n",
      "12501       8198.0              64.0               364.0                427   \n",
      "12502       9718.0              63.0               200.0                223   \n",
      "12503       5115.0              62.0               426.0                444   \n",
      "12504       9736.0              63.0               543.0                589   \n",
      "\n",
      "                             participant_id  days  \n",
      "0      e6081755-d7f3-4c26-ab40-0709b8ad41ef     0  \n",
      "1      e6081755-d7f3-4c26-ab40-0709b8ad41ef     1  \n",
      "2      e6081755-d7f3-4c26-ab40-0709b8ad41ef     2  \n",
      "3      e6081755-d7f3-4c26-ab40-0709b8ad41ef     3  \n",
      "4      e6081755-d7f3-4c26-ab40-0709b8ad41ef     4  \n",
      "...                                     ...   ...  \n",
      "12500  f983485d-f954-4693-9c2c-981710c06dd0    63  \n",
      "12501  f983485d-f954-4693-9c2c-981710c06dd0    64  \n",
      "12502  f983485d-f954-4693-9c2c-981710c06dd0    65  \n",
      "12503  f983485d-f954-4693-9c2c-981710c06dd0    66  \n",
      "12504  f983485d-f954-4693-9c2c-981710c06dd0    67  \n",
      "\n",
      "[12505 rows x 10 columns]\n",
      "Timestamp               0\n",
      "Cardio_caloriesOut      0\n",
      "Fat Burn_caloriesOut    0\n",
      "Fat Burn_minutes        0\n",
      "NumberSteps             0\n",
      "RestingHeartRate        0\n",
      "SleepMinutesAsleep      0\n",
      "SleepMinutesInBed       0\n",
      "participant_id          0\n",
      "days                    0\n",
      "dtype: int64\n"
     ]
    }
   ],
   "source": [
    "#FITBIT\n",
    "\n",
    "fitbit = pd.read_csv('/Users/selinzobu/Desktop/TILES/1FITBIT.csv') #parse_dates = ['Timestamp'])\n",
    "fitbit = fitbit.loc[:, ~fitbit.columns.str.contains('^Unnamed')]\n",
    "#fitbit[\"Timestamp\"] = pd.to_datetime(fitbit[\"Timestamp\"], utc=True)\n",
    "#fitbit.set_index('days', inplace = True)\n",
    "print(fitbit.columns)\n",
    "print(fitbit.shape)\n",
    "print(fitbit)\n",
    "print(fitbit.isna().sum())"
   ]
  },
  {
   "cell_type": "code",
   "execution_count": 4,
   "id": "1aad3016",
   "metadata": {},
   "outputs": [
    {
     "name": "stdout",
     "output_type": "stream",
     "text": [
      "Index(['participant_id', 'Timestamp', 'AvgHeartRateM', 'AvgHeartRateS',\n",
      "       'RMSStdDev_msM', 'RMSStdDev_msS', 'AvgBreathingRateM',\n",
      "       'AvgBreathingRateS', 'AvgGForceM', 'AvgGForceS', 'AvgXAccel_gM',\n",
      "       'AvgXAccel_gS', 'AvgYAccel_gM', 'AvgYAccel_gS', 'AvgZAccel_gM',\n",
      "       'AvgZAccel_gS', 'SDNN_msM', 'SDNN_msS', 'StdDevBreathingRateM',\n",
      "       'StdDevBreathingRateS', 'StdDevGForceM', 'StdDevGForceS',\n",
      "       'StdDevXAccel_gM', 'StdDevXAccel_gS', 'StdDevYAccel_gM',\n",
      "       'StdDevYAccel_gS', 'StdDevZAccel_gM', 'StdDevZAccel_gS'],\n",
      "      dtype='object')\n",
      "(5713, 28)\n",
      "                         participant_id  Timestamp  AvgHeartRateM  \\\n",
      "0  02581754-36cd-4b23-85ea-bf995c6dec83 2018-04-11      70.316433   \n",
      "1  02581754-36cd-4b23-85ea-bf995c6dec83 2018-04-15      73.011389   \n",
      "2  02581754-36cd-4b23-85ea-bf995c6dec83 2018-04-19      78.227597   \n",
      "3  02581754-36cd-4b23-85ea-bf995c6dec83 2018-04-20      74.730689   \n",
      "4  02581754-36cd-4b23-85ea-bf995c6dec83 2018-04-21      74.438313   \n",
      "\n",
      "   AvgHeartRateS  RMSStdDev_msM  RMSStdDev_msS  AvgBreathingRateM  \\\n",
      "0      11.125610      76.304540      32.446035          18.785335   \n",
      "1      14.791072      83.218582      29.087928          20.301165   \n",
      "2      13.221363      71.881296      31.260648          21.666127   \n",
      "3      14.570413      75.876150      34.389385          21.342272   \n",
      "4       9.604453      82.330480      29.665782          21.468637   \n",
      "\n",
      "   AvgBreathingRateS  AvgGForceM  AvgGForceS  ...  StdDevBreathingRateM  \\\n",
      "0           3.148856    0.067580    0.048793  ...              2.992354   \n",
      "1           4.558011    0.087629    0.060141  ...              3.770667   \n",
      "2           4.542382    0.107409    0.074723  ...              4.253564   \n",
      "3           4.984909    0.094568    0.065956  ...              4.550624   \n",
      "4           4.480558    0.101328    0.069682  ...              4.228443   \n",
      "\n",
      "   StdDevBreathingRateS  StdDevGForceM  StdDevGForceS  StdDevXAccel_gM  \\\n",
      "0              1.920734       0.096093       0.096640         0.065697   \n",
      "1              2.734047       0.117312       0.091516         0.080346   \n",
      "2              2.591870       0.153227       0.157191         0.076657   \n",
      "3              3.142239       0.129270       0.115476         0.091554   \n",
      "4              2.562682       0.143634       0.110016         0.079431   \n",
      "\n",
      "   StdDevXAccel_gS  StdDevYAccel_gM  StdDevYAccel_gS  StdDevZAccel_gM  \\\n",
      "0         0.046311         0.146869         0.090668         0.099497   \n",
      "1         0.045803         0.162472         0.108609         0.126153   \n",
      "2         0.047189         0.156026         0.092359         0.124362   \n",
      "3         0.059948         0.186592         0.120287         0.133949   \n",
      "4         0.045220         0.152710         0.085281         0.122021   \n",
      "\n",
      "   StdDevZAccel_gS  \n",
      "0         0.049356  \n",
      "1         0.074521  \n",
      "2         0.055174  \n",
      "3         0.073196  \n",
      "4         0.056940  \n",
      "\n",
      "[5 rows x 28 columns]\n"
     ]
    }
   ],
   "source": [
    "#OMSignal\n",
    "\n",
    "OM = pd.read_csv('/Users/selinzobu/Desktop/TILES/1DOMSignal.csv', parse_dates = ['Timestamp'])\n",
    "OM = OM.loc[:, ~OM.columns.str.contains('^Unnamed')]\n",
    "#OM[\"Timestamp\"] = pd.to_datetime(fitbit[\"Timestamp\"], utc=True)\n",
    "\n",
    "print(OM.columns)\n",
    "print(OM.shape)\n",
    "print(OM.head())"
   ]
  },
  {
   "cell_type": "code",
   "execution_count": 5,
   "id": "2dac778f",
   "metadata": {},
   "outputs": [
    {
     "name": "stdout",
     "output_type": "stream",
     "text": [
      "Index(['participant_id', 'iod_ID', 'iod_OD', 'ocb', 'irb', 'itp',\n",
      "       'pan_PosAffect', 'pan_NegAffect', 'stai', 'rand_PhysicalFunctioning',\n",
      "       'rand_LimitsPhysicalHealth', 'rand_LimitsEmotionalProblems',\n",
      "       'rand_EmotionalWellbeing', 'rand_SocialFunctioning', 'swls', 'pss',\n",
      "       'mpfi_Flexibility', 'mpfi_Flexibility_Acceptance',\n",
      "       'mpfi_Flexibility_PresentMomentAwareness',\n",
      "       'mpfi_Flexibility_SelfAsContext', 'mpfi_Flexibility_Defusion',\n",
      "       'mpfi_Flexibility_Values', 'mpfi_Flexibility_CommittedAction', 'pcq',\n",
      "       'pcq_Hope', 'pcq_Efficacy', 'pcq_Resilience', 'pcq_Optimism',\n",
      "       'chss_ChallengeStressors', 'chss_HindranceStressors'],\n",
      "      dtype='object')\n",
      "(201, 30)\n",
      "                           participant_id  iod_ID  iod_OD  ocb  irb       itp  \\\n",
      "0    02581754-36cd-4b23-85ea-bf995c6dec83      10      15   71   43  5.000000   \n",
      "1    0271c478-a56a-4c09-ab91-9743184dd71b      14      22   80   49  5.000000   \n",
      "2    02b7a595-6508-46bd-8239-6deb433d6290      11      19   52   49  4.666667   \n",
      "3    05dedb61-63bc-44e3-8e28-a5d32d91f7e9      19      21   49   34  4.000000   \n",
      "4    06b33ec4-706d-462f-a681-05491be38eb3       7      12   72   46  5.000000   \n",
      "..                                    ...     ...     ...  ...  ...       ...   \n",
      "196  fabef151-53c8-4a46-9897-0180868a53f5       7      14   46   46  5.000000   \n",
      "197  fae38580-1e2d-4491-9de5-7b75703ba4ce      13      22   61   35  4.000000   \n",
      "198  fcb14a4c-1ffa-4315-872a-a38833459885       7      13   73   47  5.000000   \n",
      "199  fd79ab30-1199-4619-adbd-577d715d86ce       7      12   60   48  4.666667   \n",
      "200  fdbd8c07-720c-4ae5-a3d8-aad56b54688c       7      18   52   49  5.000000   \n",
      "\n",
      "     pan_PosAffect  pan_NegAffect  stai  rand_PhysicalFunctioning  ...  \\\n",
      "0               47             20    24                100.000000  ...   \n",
      "1               39             14    30                 95.000000  ...   \n",
      "2               32             13    40                100.000000  ...   \n",
      "3               33             30    55                100.000000  ...   \n",
      "4               43             12    38                100.000000  ...   \n",
      "..             ...            ...   ...                       ...  ...   \n",
      "196             50             17    25                100.000000  ...   \n",
      "197             37             16    41                100.000000  ...   \n",
      "198             34             15    29                 61.111111  ...   \n",
      "199             37             17    35                100.000000  ...   \n",
      "200             39             16    42                100.000000  ...   \n",
      "\n",
      "     mpfi_Flexibility_Defusion  mpfi_Flexibility_Values  \\\n",
      "0                          5.0                      6.0   \n",
      "1                          4.5                      5.0   \n",
      "2                          5.0                      4.5   \n",
      "3                          3.0                      3.5   \n",
      "4                          5.5                      5.0   \n",
      "..                         ...                      ...   \n",
      "196                        6.0                      6.0   \n",
      "197                        4.0                      4.5   \n",
      "198                        5.0                      5.0   \n",
      "199                        6.0                      6.0   \n",
      "200                        4.0                      5.0   \n",
      "\n",
      "     mpfi_Flexibility_CommittedAction       pcq  pcq_Hope  pcq_Efficacy  \\\n",
      "0                                 6.0  4.333333  5.000000      3.333333   \n",
      "1                                 5.0  4.916667  4.750000      5.666667   \n",
      "2                                 4.5  4.416667  4.750000      3.000000   \n",
      "3                                 3.0  3.916667  4.500000      3.000000   \n",
      "4                                 4.5  5.583333  6.000000      4.666667   \n",
      "..                                ...       ...       ...           ...   \n",
      "196                               6.0  5.727273  6.000000      5.666667   \n",
      "197                               4.5  4.636364  4.666667      4.333333   \n",
      "198                               5.0  5.333333  5.250000      6.000000   \n",
      "199                               4.0  4.583333  4.500000      4.666667   \n",
      "200                               6.0  5.000000  5.000000      5.000000   \n",
      "\n",
      "     pcq_Resilience  pcq_Optimism  chss_ChallengeStressors  \\\n",
      "0          4.000000           5.0                    3.500   \n",
      "1          5.333333           3.5                    3.500   \n",
      "2          5.000000           5.0                    3.750   \n",
      "3          4.333333           3.5                    4.250   \n",
      "4          6.000000           5.5                    4.375   \n",
      "..              ...           ...                      ...   \n",
      "196        5.500000           5.5                    3.000   \n",
      "197        4.666667           5.0                    4.125   \n",
      "198        5.000000           5.0                    3.750   \n",
      "199        4.333333           5.0                    3.125   \n",
      "200        5.000000           5.0                    3.000   \n",
      "\n",
      "     chss_HindranceStressors  \n",
      "0                      3.000  \n",
      "1                      2.375  \n",
      "2                      2.250  \n",
      "3                      3.125  \n",
      "4                      2.750  \n",
      "..                       ...  \n",
      "196                    1.750  \n",
      "197                    2.500  \n",
      "198                    1.875  \n",
      "199                    2.375  \n",
      "200                    2.250  \n",
      "\n",
      "[201 rows x 30 columns]\n"
     ]
    }
   ],
   "source": [
    "# BASELINE SURVEY DATA\n",
    "\n",
    "base = pd.read_csv('/Users/selinzobu/Desktop/TILES/1BASE.csv')\n",
    "base = base.loc[:, ~base.columns.str.contains('^Unnamed')]\n",
    "#fitbit.set_index('days', inplace = True)\n",
    "print(base.columns)\n",
    "print(base.shape)\n",
    "print(base)"
   ]
  },
  {
   "cell_type": "code",
   "execution_count": 6,
   "id": "fa299e94",
   "metadata": {},
   "outputs": [
    {
     "name": "stdout",
     "output_type": "stream",
     "text": [
      "(8247, 3)\n",
      "                            participant_id   Timestamp  mstressd\n",
      "0     02581754-36cd-4b23-85ea-bf995c6dec83  2018-04-10       2.0\n",
      "1     02581754-36cd-4b23-85ea-bf995c6dec83  2018-04-11       2.0\n",
      "2     02581754-36cd-4b23-85ea-bf995c6dec83  2018-04-13       1.0\n",
      "3     02581754-36cd-4b23-85ea-bf995c6dec83  2018-04-15       1.0\n",
      "4     02581754-36cd-4b23-85ea-bf995c6dec83  2018-04-16       1.0\n",
      "...                                    ...         ...       ...\n",
      "8242  fdbd8c07-720c-4ae5-a3d8-aad56b54688c  2018-07-08       1.0\n",
      "8243  fdbd8c07-720c-4ae5-a3d8-aad56b54688c  2018-07-10       1.5\n",
      "8244  fdbd8c07-720c-4ae5-a3d8-aad56b54688c  2018-07-11       1.0\n",
      "8245  fdbd8c07-720c-4ae5-a3d8-aad56b54688c  2018-07-13       1.0\n",
      "8246  fdbd8c07-720c-4ae5-a3d8-aad56b54688c  2018-07-14       1.0\n",
      "\n",
      "[8247 rows x 3 columns]\n",
      "Index(['participant_id', 'Timestamp', 'mstressd'], dtype='object')\n"
     ]
    }
   ],
   "source": [
    "#STRESS 8247 rows x 3 columns\n",
    "\n",
    "stre = pd.read_csv('/Users/selinzobu/Desktop/TILES/1STRESSD.csv')\n",
    "stre = stre.loc[:, ~stre.columns.str.contains('^Unnamed')]\n",
    "#fitbit.set_index('days', inplace = True)\n",
    "print(stre.shape)\n",
    "print(stre)\n",
    "print(stre.columns)"
   ]
  },
  {
   "cell_type": "code",
   "execution_count": 7,
   "id": "b37dee37",
   "metadata": {},
   "outputs": [
    {
     "name": "stdout",
     "output_type": "stream",
     "text": [
      "(204, 5)\n",
      "Index(['ParticipantID', 'SmartPhone', 'Gender', 'Shift', 'Wave'], dtype='object')\n"
     ]
    }
   ],
   "source": [
    "demo = pd.read_csv('/Users/selinzobu/Desktop/TILES/idgendershiftwave.csv')\n",
    "demo = demo.loc[:, ~demo.columns.str.contains('^Unnamed')]\n",
    "#fitbit.set_index('days', inplace = True)\n",
    "print(demo.shape)\n",
    "print(demo.columns)"
   ]
  },
  {
   "cell_type": "code",
   "execution_count": 8,
   "id": "8223ede3",
   "metadata": {},
   "outputs": [
    {
     "name": "stdout",
     "output_type": "stream",
     "text": [
      "(11361, 7)\n",
      "Index(['participant_id', 'surveytype', 'start_ts', 'completed_ts',\n",
      "       'pand_PosAffect', 'pand_NegAffect', 'Finished'],\n",
      "      dtype='object')\n"
     ]
    },
    {
     "data": {
      "text/plain": [
       "209"
      ]
     },
     "execution_count": 8,
     "metadata": {},
     "output_type": "execute_result"
    }
   ],
   "source": [
    "panas = pd.read_csv('/Users/selinzobu/Desktop/TILES/PANASDailyscoredEMA.csv', parse_dates = ['completed_ts'])\n",
    "panas = panas.loc[:, ~panas.columns.str.contains('^Unnamed')]\n",
    "#fitbit.set_index('days', inplace = True)\n",
    "print(panas.shape)\n",
    "print(panas.columns)\n",
    "len(panas['participant_id'].unique())"
   ]
  },
  {
   "cell_type": "code",
   "execution_count": 9,
   "id": "ed560965",
   "metadata": {},
   "outputs": [
    {
     "name": "stdout",
     "output_type": "stream",
     "text": [
      "(11361, 7)\n",
      "(11238, 7)\n",
      "<class 'datetime.datetime'>\n",
      "                         participant_id surveytype                   start_ts  \\\n",
      "0  c7c4392b-02ee-40f4-a22f-ab2386c6ccf5        job  2018-03-05T06:01:53-08:00   \n",
      "1  3a62899e-082a-4638-ab8b-b49f1ce12a20        job  2018-03-05T06:01:58-08:00   \n",
      "2  a9dfbe4d-4076-48c7-a72b-342fe4c12514        job  2018-03-05T06:02:35-08:00   \n",
      "3  7e6a98f1-73c3-4023-9bbd-acf2b70d04b5        job  2018-03-05T06:09:22-08:00   \n",
      "4  8b13d979-315f-4357-8f0e-7c12df0a6ca8        job  2018-03-05T06:14:16-08:00   \n",
      "\n",
      "    Timestamp  pand_PosAffect  pand_NegAffect  Finished  \n",
      "0  2018-03-05            19.0             8.0         1  \n",
      "1  2018-03-05            16.0             5.0         1  \n",
      "2  2018-03-05             9.0             8.0         1  \n",
      "3  2018-03-05             7.0             6.0         1  \n",
      "4  2018-03-05            19.0             7.0         1  \n",
      "209\n"
     ]
    }
   ],
   "source": [
    "#print(panas.isna().sum())\n",
    "print(panas.shape)\n",
    "panas.dropna(how = 'any', inplace = True)\n",
    "print(panas.shape)\n",
    "\n",
    "#panas = panas.drop(['surveytype', 'start_ts', 'Finished' ], axis=1)\n",
    "\n",
    "panas.rename(columns = {'completed_ts':'Timestamp'}, inplace = True)\n",
    "\n",
    "print(type(panas.Timestamp[0])) #<class 'pandas.core.series.Series'>\n",
    "\n",
    "panas[\"Timestamp\"] = pd.to_datetime(panas[\"Timestamp\"], utc=True).dt.date\n",
    "\n",
    "print(panas.head())\n",
    "\n",
    "print(len(panas['participant_id'].unique()))"
   ]
  },
  {
   "cell_type": "code",
   "execution_count": 10,
   "id": "eb54b890",
   "metadata": {},
   "outputs": [
    {
     "name": "stdout",
     "output_type": "stream",
     "text": [
      "208\n",
      "199\n",
      "201\n",
      "209\n",
      "204\n",
      "209\n"
     ]
    }
   ],
   "source": [
    "fitpart = list(set(fitbit['participant_id'])) #208\n",
    "fitpart.sort()\n",
    "print(len(fitpart))\n",
    "OMpart = list(set(OM['participant_id'])) #199\n",
    "OMpart.sort()\n",
    "print(len(OMpart))\n",
    "basepart = list(set(base['participant_id'])) #201\n",
    "basepart.sort()\n",
    "print(len(basepart))\n",
    "strepart = list(set(stre['participant_id'])) #209\n",
    "strepart.sort()\n",
    "print(len(strepart))\n",
    "demopart = list(set(demo['ParticipantID'])) #204\n",
    "demopart.sort()\n",
    "print(len(demopart))\n",
    "panaspart = list(set(panas['participant_id'])) #209\n",
    "panaspart.sort()\n",
    "print(len(panaspart))"
   ]
  },
  {
   "cell_type": "code",
   "execution_count": 11,
   "id": "e5e7eef8",
   "metadata": {},
   "outputs": [
    {
     "name": "stdout",
     "output_type": "stream",
     "text": [
      "170\n",
      "170\n"
     ]
    }
   ],
   "source": [
    "elements_in_all = list(set.intersection(*map(set, [OMpart, fitpart, basepart, strepart])))\n",
    "print(len(elements_in_all)) #170\n",
    "\n",
    "elements_in_all2 = list(set.intersection(*map(set, [OMpart, fitpart, basepart, panaspart])))\n",
    "print(len(elements_in_all2)) #170"
   ]
  },
  {
   "cell_type": "code",
   "execution_count": 12,
   "id": "6f15c933",
   "metadata": {},
   "outputs": [
    {
     "name": "stdout",
     "output_type": "stream",
     "text": [
      "Fit & OM: 196 OM-Fit: 3 Fit-OM: 12\n",
      "\n",
      "Fit & Base: 183 Base-Fit: 18 Fit-Base: 25\n",
      "\n",
      "Fit & Stre: 192 Stre-Fit: 17 Fit-Stre: 16\n",
      "\n",
      "Fit & Demo: 188 Demo-Fit: 16 Fit-Demo: 20\n",
      "\n",
      "Base & Stre: 198 Base-Stre: 3 Stre-Base: 11\n",
      "\n",
      "Base & OM: 175 Base-OM: 26 Stre-OM: 24\n",
      "\n",
      "Base & Demo: 193 Base-demo: 8 demo-Base: 11\n",
      "\n",
      "OM & Stre: 183 OM-stre: 16 stre-OM: 26\n",
      "\n",
      "OM & demo: 180 OM-demo: 19 demo-OM: 24\n",
      "\n",
      "stre & demo: 203 stre-demo: 6 demo-stre: 1\n",
      "\n"
     ]
    }
   ],
   "source": [
    "OMp = list(OM['participant_id'].unique())  #199\n",
    "Fitp = list(fitbit['participant_id'].unique())  #208\n",
    "basep = list(base['participant_id'].unique()) \n",
    "strep = list(stre['participant_id'].unique()) \n",
    "demop = list(demo['ParticipantID'].unique()) \n",
    "panasp = list(panas['participant_id'].unique()) \n",
    "\n",
    "\n",
    "#To see if they have the same participant ids\n",
    "\n",
    "comFOM = (set(OMp) & set(Fitp)) #196\n",
    "OMsinF = list(set(OMp) - set(Fitp)) #3\n",
    "FsinOM = list(set(Fitp) - set(OMp)) #12\n",
    "print('Fit & OM:', len(comFOM), 'OM-Fit:', len(OMsinF), 'Fit-OM:', len(FsinOM))\n",
    "print()\n",
    "comFB = (set(basep) & set(Fitp)) #183\n",
    "basesinF = list(set(basep) - set(Fitp)) #18\n",
    "Fsinbase = list(set(Fitp) - set(basep)) #25\n",
    "print('Fit & Base:', len(comFB), 'Base-Fit:', len(basesinF), 'Fit-Base:', len(Fsinbase))\n",
    "print()\n",
    "comFS = (set(strep) & set(Fitp)) #192\n",
    "stresinF = list(set(strep) - set(Fitp)) #17\n",
    "Fsinstre = list(set(Fitp) - set(strep)) #16\n",
    "print('Fit & Stre:', len(comFS), 'Stre-Fit:', len(stresinF), 'Fit-Stre:', len(Fsinstre))\n",
    "print()\n",
    "comFD = (set(demop) & set(Fitp)) #188\n",
    "demosinF = list(set(demop) - set(Fitp)) #16\n",
    "Fsindemo = list(set(Fitp) - set(demop)) #20\n",
    "print('Fit & Demo:', len(comFD), 'Demo-Fit:', len(demosinF), 'Fit-Demo:', len(Fsindemo))\n",
    "print()\n",
    "comBS = (set(basep) & set(strep)) #198\n",
    "basesinS = list(set(basep) - set(strep)) #3\n",
    "Ssinbase = list(set(strep) - set(basep)) #11\n",
    "print('Base & Stre:', len(comBS), 'Base-Stre:', len(basesinS), 'Stre-Base:', len(Ssinbase))\n",
    "print()\n",
    "comBOM = (set(basep) & set(OMp)) #175\n",
    "basesinOM = list(set(basep) - set(OMp)) #26\n",
    "OMsinbase = list(set(OMp) - set(basep)) #24\n",
    "print('Base & OM:', len(comBOM), 'Base-OM:', len(basesinOM), 'Stre-OM:', len(OMsinbase))\n",
    "print()\n",
    "comBdemo = (set(basep) & set(demop)) #193\n",
    "basesindemo = list(set(basep) - set(demop)) #8\n",
    "demosinbase = list(set(demop) - set(basep)) #11\n",
    "print('Base & Demo:', len(comBdemo), 'Base-demo:', len(basesindemo), 'demo-Base:', len(demosinbase))\n",
    "print()\n",
    "comOMS = (set(OMp) & set(strep)) #183\n",
    "OMsinS = list(set(OMp) - set(strep)) #16\n",
    "SsinOM = list(set(strep) - set(OMp)) #26\n",
    "print('OM & Stre:', len(comOMS), 'OM-stre:', len(OMsinS), 'stre-OM:', len(SsinOM))\n",
    "print()\n",
    "comOMdemo = (set(OMp) & set(demop)) #180\n",
    "OMsindemo = list(set(OMp) - set(demop)) #19\n",
    "demosinOM = list(set(demop) - set(OMp)) #24\n",
    "print('OM & demo:', len(comOMdemo), 'OM-demo:', len(OMsindemo), 'demo-OM:', len(demosinOM))\n",
    "print()\n",
    "comstredemo = (set(strep) & set(demop)) #203\n",
    "stresindemo = list(set(strep) - set(demop)) #6\n",
    "demosinstre = list(set(demop) - set(strep)) #1\n",
    "print('stre & demo:', len(comstredemo), 'stre-demo:', len(stresindemo), 'demo-stre:', len(demosinstre))\n",
    "print()"
   ]
  },
  {
   "cell_type": "code",
   "execution_count": 13,
   "id": "811e24a9",
   "metadata": {},
   "outputs": [
    {
     "name": "stdout",
     "output_type": "stream",
     "text": [
      "<class 'pandas.core.frame.DataFrame'>\n",
      "RangeIndex: 12505 entries, 0 to 12504\n",
      "Data columns (total 10 columns):\n",
      " #   Column                Non-Null Count  Dtype  \n",
      "---  ------                --------------  -----  \n",
      " 0   Timestamp             12505 non-null  object \n",
      " 1   Cardio_caloriesOut    12505 non-null  float64\n",
      " 2   Fat Burn_caloriesOut  12505 non-null  float64\n",
      " 3   Fat Burn_minutes      12505 non-null  float64\n",
      " 4   NumberSteps           12505 non-null  float64\n",
      " 5   RestingHeartRate      12505 non-null  float64\n",
      " 6   SleepMinutesAsleep    12505 non-null  float64\n",
      " 7   SleepMinutesInBed     12505 non-null  int64  \n",
      " 8   participant_id        12505 non-null  object \n",
      " 9   days                  12505 non-null  int64  \n",
      "dtypes: float64(6), int64(2), object(2)\n",
      "memory usage: 977.1+ KB\n"
     ]
    }
   ],
   "source": [
    "fitbit.info()"
   ]
  },
  {
   "cell_type": "code",
   "execution_count": 14,
   "id": "14c092c7",
   "metadata": {},
   "outputs": [
    {
     "name": "stdout",
     "output_type": "stream",
     "text": [
      "2018-05-10    178\n",
      "2018-05-07    175\n",
      "2018-05-09    174\n",
      "2018-05-11    174\n",
      "2018-05-14    173\n",
      "             ... \n",
      "2018-07-07     30\n",
      "2018-06-25     30\n",
      "2018-07-08     29\n",
      "2018-07-12     29\n",
      "2018-07-13     26\n",
      "Name: Timestamp, Length: 131, dtype: int64\n",
      "2018-07-13\n",
      "2018-03-05\n"
     ]
    }
   ],
   "source": [
    "print(fitbit['Timestamp'].value_counts())\n",
    "print(fitbit['Timestamp'].max())\n",
    "print(fitbit['Timestamp'].min())"
   ]
  },
  {
   "cell_type": "code",
   "execution_count": 15,
   "id": "76c9045e",
   "metadata": {},
   "outputs": [],
   "source": [
    "fitbit['Timestamp']= fitbit['Timestamp'].astype(str)"
   ]
  },
  {
   "cell_type": "code",
   "execution_count": 16,
   "id": "f602a2cd",
   "metadata": {},
   "outputs": [],
   "source": [
    "panas['Timestamp']= panas['Timestamp'].astype(str)"
   ]
  },
  {
   "cell_type": "code",
   "execution_count": 17,
   "id": "27e4b37d",
   "metadata": {},
   "outputs": [
    {
     "name": "stdout",
     "output_type": "stream",
     "text": [
      "208\n"
     ]
    }
   ],
   "source": [
    "print(len(fitbit['participant_id'].unique()))"
   ]
  },
  {
   "cell_type": "code",
   "execution_count": 20,
   "id": "40daf594",
   "metadata": {},
   "outputs": [
    {
     "data": {
      "text/plain": [
       "str"
      ]
     },
     "execution_count": 20,
     "metadata": {},
     "output_type": "execute_result"
    }
   ],
   "source": [
    "type(fitbit['Timestamp'][0])"
   ]
  },
  {
   "cell_type": "code",
   "execution_count": 21,
   "id": "401d2f9a",
   "metadata": {},
   "outputs": [
    {
     "name": "stdout",
     "output_type": "stream",
     "text": [
      "<class 'pandas.core.frame.DataFrame'>\n",
      "RangeIndex: 5713 entries, 0 to 5712\n",
      "Data columns (total 28 columns):\n",
      " #   Column                Non-Null Count  Dtype         \n",
      "---  ------                --------------  -----         \n",
      " 0   participant_id        5713 non-null   object        \n",
      " 1   Timestamp             5713 non-null   datetime64[ns]\n",
      " 2   AvgHeartRateM         5713 non-null   float64       \n",
      " 3   AvgHeartRateS         5713 non-null   float64       \n",
      " 4   RMSStdDev_msM         5713 non-null   float64       \n",
      " 5   RMSStdDev_msS         5713 non-null   float64       \n",
      " 6   AvgBreathingRateM     5713 non-null   float64       \n",
      " 7   AvgBreathingRateS     5713 non-null   float64       \n",
      " 8   AvgGForceM            5713 non-null   float64       \n",
      " 9   AvgGForceS            5713 non-null   float64       \n",
      " 10  AvgXAccel_gM          5713 non-null   float64       \n",
      " 11  AvgXAccel_gS          5713 non-null   float64       \n",
      " 12  AvgYAccel_gM          5713 non-null   float64       \n",
      " 13  AvgYAccel_gS          5713 non-null   float64       \n",
      " 14  AvgZAccel_gM          5713 non-null   float64       \n",
      " 15  AvgZAccel_gS          5713 non-null   float64       \n",
      " 16  SDNN_msM              5713 non-null   float64       \n",
      " 17  SDNN_msS              5713 non-null   float64       \n",
      " 18  StdDevBreathingRateM  5713 non-null   float64       \n",
      " 19  StdDevBreathingRateS  5713 non-null   float64       \n",
      " 20  StdDevGForceM         5713 non-null   float64       \n",
      " 21  StdDevGForceS         5713 non-null   float64       \n",
      " 22  StdDevXAccel_gM       5713 non-null   float64       \n",
      " 23  StdDevXAccel_gS       5713 non-null   float64       \n",
      " 24  StdDevYAccel_gM       5713 non-null   float64       \n",
      " 25  StdDevYAccel_gS       5713 non-null   float64       \n",
      " 26  StdDevZAccel_gM       5713 non-null   float64       \n",
      " 27  StdDevZAccel_gS       5713 non-null   float64       \n",
      "dtypes: datetime64[ns](1), float64(26), object(1)\n",
      "memory usage: 1.2+ MB\n"
     ]
    }
   ],
   "source": [
    "OM.info()"
   ]
  },
  {
   "cell_type": "code",
   "execution_count": 22,
   "id": "ab8ff5f2",
   "metadata": {},
   "outputs": [
    {
     "name": "stdout",
     "output_type": "stream",
     "text": [
      "<class 'pandas._libs.tslibs.timestamps.Timestamp'>\n",
      "208\n",
      "199\n"
     ]
    }
   ],
   "source": [
    "print(type(OM['Timestamp'][0]))\n",
    "print(len(fitbit['participant_id'].unique())) #208\n",
    "print(len(OM['participant_id'].unique())) #199"
   ]
  },
  {
   "cell_type": "code",
   "execution_count": 23,
   "id": "c5964293",
   "metadata": {},
   "outputs": [
    {
     "name": "stdout",
     "output_type": "stream",
     "text": [
      "participant_id                        Timestamp \n",
      "02581754-36cd-4b23-85ea-bf995c6dec83  2018-04-09    1\n",
      "                                      2018-04-10    1\n",
      "                                      2018-04-11    1\n",
      "                                      2018-04-12    1\n",
      "                                      2018-04-14    1\n",
      "                                                   ..\n",
      "fdbd8c07-720c-4ae5-a3d8-aad56b54688   2018-07-09    1\n",
      "                                      2018-07-10    1\n",
      "                                      2018-07-11    1\n",
      "                                      2018-07-12    1\n",
      "                                      2018-07-13    1\n",
      "Name: Cardio_caloriesOut, Length: 12482, dtype: int64\n"
     ]
    }
   ],
   "source": [
    "parti = fitbit.groupby(['participant_id', 'Timestamp'])['Cardio_caloriesOut'].count()\n",
    "print(parti)"
   ]
  },
  {
   "cell_type": "code",
   "execution_count": 22,
   "id": "2c873ae6",
   "metadata": {},
   "outputs": [],
   "source": [
    "#partiOM = OM.groupby(['participant_id', 'Timestamp'])['RMSStdDev_ms'].count()\n",
    "#print(partiOM)"
   ]
  },
  {
   "cell_type": "code",
   "execution_count": 25,
   "id": "923fc30c",
   "metadata": {},
   "outputs": [
    {
     "name": "stdout",
     "output_type": "stream",
     "text": [
      "<class 'pandas.core.frame.DataFrame'>\n",
      "RangeIndex: 8247 entries, 0 to 8246\n",
      "Data columns (total 3 columns):\n",
      " #   Column          Non-Null Count  Dtype  \n",
      "---  ------          --------------  -----  \n",
      " 0   participant_id  8247 non-null   object \n",
      " 1   Timestamp       8247 non-null   object \n",
      " 2   mstressd        8247 non-null   float64\n",
      "dtypes: float64(1), object(2)\n",
      "memory usage: 193.4+ KB\n"
     ]
    }
   ],
   "source": [
    "stre.info()"
   ]
  },
  {
   "cell_type": "code",
   "execution_count": 26,
   "id": "53685f31",
   "metadata": {},
   "outputs": [
    {
     "name": "stdout",
     "output_type": "stream",
     "text": [
      "2018-05-09    163\n",
      "2018-05-06    161\n",
      "2018-05-12    159\n",
      "2018-04-10    143\n",
      "2018-04-27    138\n",
      "             ... \n",
      "2018-07-09      6\n",
      "2018-06-23      6\n",
      "2018-06-25      6\n",
      "2018-06-27      6\n",
      "2018-06-30      6\n",
      "Name: Timestamp, Length: 132, dtype: int64\n",
      "2018-07-14\n",
      "2018-03-05\n"
     ]
    }
   ],
   "source": [
    "print(stre['Timestamp'].value_counts())\n",
    "print(stre['Timestamp'].max())\n",
    "print(stre['Timestamp'].min())"
   ]
  },
  {
   "cell_type": "code",
   "execution_count": 27,
   "id": "43bc3f0c",
   "metadata": {},
   "outputs": [],
   "source": [
    "stre['Timestamp']= stre['Timestamp'].astype(str)"
   ]
  },
  {
   "cell_type": "code",
   "execution_count": 28,
   "id": "58bc6ff6",
   "metadata": {},
   "outputs": [
    {
     "data": {
      "text/plain": [
       "209"
      ]
     },
     "execution_count": 28,
     "metadata": {},
     "output_type": "execute_result"
    }
   ],
   "source": [
    "len(stre['participant_id'].unique()) #209"
   ]
  },
  {
   "cell_type": "code",
   "execution_count": 29,
   "id": "3235bfa7",
   "metadata": {},
   "outputs": [
    {
     "name": "stdout",
     "output_type": "stream",
     "text": [
      "<class 'pandas.core.frame.DataFrame'>\n",
      "RangeIndex: 12505 entries, 0 to 12504\n",
      "Data columns (total 10 columns):\n",
      " #   Column                Non-Null Count  Dtype  \n",
      "---  ------                --------------  -----  \n",
      " 0   Timestamp             12505 non-null  object \n",
      " 1   Cardio_caloriesOut    12505 non-null  float64\n",
      " 2   Fat Burn_caloriesOut  12505 non-null  float64\n",
      " 3   Fat Burn_minutes      12505 non-null  float64\n",
      " 4   NumberSteps           12505 non-null  float64\n",
      " 5   RestingHeartRate      12505 non-null  float64\n",
      " 6   SleepMinutesAsleep    12505 non-null  float64\n",
      " 7   SleepMinutesInBed     12505 non-null  int64  \n",
      " 8   participant_id        12505 non-null  object \n",
      " 9   days                  12505 non-null  int64  \n",
      "dtypes: float64(6), int64(2), object(2)\n",
      "memory usage: 977.1+ KB\n"
     ]
    }
   ],
   "source": [
    "fitbit.info()"
   ]
  },
  {
   "cell_type": "code",
   "execution_count": 28,
   "id": "94a053c6",
   "metadata": {},
   "outputs": [],
   "source": [
    "#participant_id\n",
    "#AvgGForce\n",
    "#AvgXAccel_g | AvgYAccel_g | AvgZAccel_g (mean/sd) \n",
    "#RMSStdDev_ms (mean/sd)\n",
    "#SDNN_ms (mean/sd)\n",
    "#StdDevBreathingRate (mean/sd)\n",
    "#AvgBreathingRate (mean/sd)\n",
    "#StdDevXAccel_g | StdDevYAccel_g | StdDevZAccel_g\n",
    "#StdDevGForce (mean/sd)"
   ]
  },
  {
   "cell_type": "code",
   "execution_count": 30,
   "id": "0f2e0882",
   "metadata": {},
   "outputs": [
    {
     "name": "stdout",
     "output_type": "stream",
     "text": [
      "<class 'pandas.core.series.Series'>\n",
      "<class 'pandas.core.series.Series'>\n"
     ]
    }
   ],
   "source": [
    "print(type(fitbit['Timestamp'])) #pandas.core.series.Series > str\n",
    "print(type(OM['Timestamp'])) #pandas.core.series.Series  > datetime.date"
   ]
  },
  {
   "cell_type": "code",
   "execution_count": 31,
   "id": "f88de45c",
   "metadata": {},
   "outputs": [
    {
     "name": "stdout",
     "output_type": "stream",
     "text": [
      "<class 'str'>\n",
      "<class 'str'>\n"
     ]
    }
   ],
   "source": [
    "OM['Timestamp']= OM['Timestamp'].astype(str)\n",
    "print(type(fitbit['Timestamp'][0]))\n",
    "print(type(OM['Timestamp'][0]))"
   ]
  },
  {
   "cell_type": "code",
   "execution_count": 32,
   "id": "b223665d",
   "metadata": {},
   "outputs": [
    {
     "name": "stdout",
     "output_type": "stream",
     "text": [
      "132 131\n"
     ]
    }
   ],
   "source": [
    "OMT = list(OM['Timestamp'].unique())  #132\n",
    "FitT = list(fitbit['Timestamp'].unique())  #131\n",
    "print(len(OMT), len(FitT))"
   ]
  },
  {
   "cell_type": "code",
   "execution_count": 33,
   "id": "5a00c543",
   "metadata": {},
   "outputs": [
    {
     "name": "stdout",
     "output_type": "stream",
     "text": [
      "131 1 0\n"
     ]
    }
   ],
   "source": [
    "#To see if they have the same dates\n",
    "\n",
    "comT = (set(OMT) & set(FitT)) #131\n",
    "OMT = list(set(OMT) - set(comT)) #1\n",
    "FT = list(set(FitT) - set(comT)) #0\n",
    "print(len(comT), len(OMT), len(FT))"
   ]
  },
  {
   "cell_type": "code",
   "execution_count": 34,
   "id": "e4fb6475",
   "metadata": {},
   "outputs": [
    {
     "name": "stdout",
     "output_type": "stream",
     "text": [
      "(5426, 36)\n",
      "36\n",
      "196\n"
     ]
    }
   ],
   "source": [
    "# Merging Fitbit Data (12505 rows × 10 columns) with OMSignal Data (5713 rows × 28 columns)\n",
    "# 5426 rows x 36 columns\n",
    "# 208 & 199 participants > 196 participants\n",
    "\n",
    "fitOM = fitbit.merge(OM, how = 'inner', on=['participant_id', 'Timestamp'])\n",
    "print(fitOM.shape)\n",
    "print(len(fitOM.columns))\n",
    "print(len(fitOM['participant_id'].unique()))"
   ]
  },
  {
   "cell_type": "code",
   "execution_count": 35,
   "id": "11a0b859",
   "metadata": {},
   "outputs": [
    {
     "name": "stdout",
     "output_type": "stream",
     "text": [
      "(5426, 36)\n",
      "36\n",
      "196\n"
     ]
    }
   ],
   "source": [
    "#OM + FIT\n",
    "\n",
    "OMFIT = OM.merge(fitbit, how = 'inner', on=['participant_id', 'Timestamp'])\n",
    "print(OMFIT.shape)\n",
    "print(len(OMFIT.columns))\n",
    "print(len(OMFIT['participant_id'].unique()))"
   ]
  },
  {
   "cell_type": "code",
   "execution_count": 36,
   "id": "7b44d885",
   "metadata": {},
   "outputs": [
    {
     "name": "stdout",
     "output_type": "stream",
     "text": [
      "    Timestamp  Cardio_caloriesOut  Fat Burn_caloriesOut  Fat Burn_minutes  \\\n",
      "0  2018-04-09             8.17870             242.66684              53.0   \n",
      "1  2018-04-10             8.08248             132.39872              28.0   \n",
      "2  2018-04-12            17.31960              78.32308              19.0   \n",
      "3  2018-04-13             7.89004             312.61878              59.0   \n",
      "4  2018-04-14            15.39520             435.20306              96.0   \n",
      "\n",
      "   NumberSteps  RestingHeartRate  SleepMinutesAsleep  SleepMinutesInBed  \\\n",
      "0      21086.0              57.0               409.0                461   \n",
      "1      11739.0              59.0               371.0                449   \n",
      "2      10758.0              57.0               406.0                451   \n",
      "3      17076.0              58.0               427.0                469   \n",
      "4      12736.0              59.0               424.0                464   \n",
      "\n",
      "                         participant_id  days  ...  StdDevBreathingRateM  \\\n",
      "0  e6081755-d7f3-4c26-ab40-0709b8ad41ef     0  ...              2.588005   \n",
      "1  e6081755-d7f3-4c26-ab40-0709b8ad41ef     1  ...              2.691600   \n",
      "2  e6081755-d7f3-4c26-ab40-0709b8ad41ef     3  ...              2.255173   \n",
      "3  e6081755-d7f3-4c26-ab40-0709b8ad41ef     4  ...              2.441479   \n",
      "4  e6081755-d7f3-4c26-ab40-0709b8ad41ef     5  ...              2.499219   \n",
      "\n",
      "   StdDevBreathingRateS  StdDevGForceM  StdDevGForceS  StdDevXAccel_gM  \\\n",
      "0              1.253560       0.101026       0.075666         0.087697   \n",
      "1              1.494626       0.151097       0.147409         0.113743   \n",
      "2              0.988748       0.107280       0.066107         0.145722   \n",
      "3              1.124013       0.114715       0.086291         0.140348   \n",
      "4              1.258474       0.136010       0.089383         0.149353   \n",
      "\n",
      "   StdDevXAccel_gS  StdDevYAccel_gM  StdDevYAccel_gS  StdDevZAccel_gM  \\\n",
      "0         0.067156         0.110781         0.058243         0.109220   \n",
      "1         0.064256         0.125249         0.057223         0.118130   \n",
      "2         0.106716         0.143609         0.073497         0.113309   \n",
      "3         0.100329         0.144344         0.077130         0.115349   \n",
      "4         0.107419         0.144207         0.071980         0.119266   \n",
      "\n",
      "   StdDevZAccel_gS  \n",
      "0         0.050492  \n",
      "1         0.042214  \n",
      "2         0.048640  \n",
      "3         0.049749  \n",
      "4         0.042508  \n",
      "\n",
      "[5 rows x 36 columns]\n"
     ]
    }
   ],
   "source": [
    "print(fitOM.head())"
   ]
  },
  {
   "cell_type": "code",
   "execution_count": 37,
   "id": "7d9afe32",
   "metadata": {},
   "outputs": [
    {
     "name": "stdout",
     "output_type": "stream",
     "text": [
      "                         participant_id   Timestamp  AvgHeartRateM  \\\n",
      "0  02581754-36cd-4b23-85ea-bf995c6dec83  2018-04-11      70.316433   \n",
      "1  02581754-36cd-4b23-85ea-bf995c6dec83  2018-04-15      73.011389   \n",
      "2  02581754-36cd-4b23-85ea-bf995c6dec83  2018-04-19      78.227597   \n",
      "3  02581754-36cd-4b23-85ea-bf995c6dec83  2018-04-20      74.730689   \n",
      "4  02581754-36cd-4b23-85ea-bf995c6dec83  2018-04-21      74.438313   \n",
      "\n",
      "   AvgHeartRateS  RMSStdDev_msM  RMSStdDev_msS  AvgBreathingRateM  \\\n",
      "0      11.125610      76.304540      32.446035          18.785335   \n",
      "1      14.791072      83.218582      29.087928          20.301165   \n",
      "2      13.221363      71.881296      31.260648          21.666127   \n",
      "3      14.570413      75.876150      34.389385          21.342272   \n",
      "4       9.604453      82.330480      29.665782          21.468637   \n",
      "\n",
      "   AvgBreathingRateS  AvgGForceM  AvgGForceS  ...  StdDevZAccel_gM  \\\n",
      "0           3.148856    0.067580    0.048793  ...         0.099497   \n",
      "1           4.558011    0.087629    0.060141  ...         0.126153   \n",
      "2           4.542382    0.107409    0.074723  ...         0.124362   \n",
      "3           4.984909    0.094568    0.065956  ...         0.133949   \n",
      "4           4.480558    0.101328    0.069682  ...         0.122021   \n",
      "\n",
      "   StdDevZAccel_gS  Cardio_caloriesOut  Fat Burn_caloriesOut  \\\n",
      "0         0.049356            35.12336             881.52514   \n",
      "1         0.074521             0.00000             168.14122   \n",
      "2         0.055174            94.33470             948.21206   \n",
      "3         0.073196             0.00000             627.94872   \n",
      "4         0.056940             0.00000             754.32162   \n",
      "\n",
      "   Fat Burn_minutes  NumberSteps  RestingHeartRate  SleepMinutesAsleep  \\\n",
      "0             141.0      16864.0              62.0               251.0   \n",
      "1              33.0       5941.0              61.0                 0.0   \n",
      "2             164.0      18395.0              61.0               289.0   \n",
      "3             112.0      14983.0              61.0               265.0   \n",
      "4             138.0      11494.0              62.0               447.0   \n",
      "\n",
      "   SleepMinutesInBed  days  \n",
      "0                292     2  \n",
      "1                441     6  \n",
      "2                342    10  \n",
      "3                304    11  \n",
      "4                494    12  \n",
      "\n",
      "[5 rows x 36 columns]\n"
     ]
    }
   ],
   "source": [
    "print(OMFIT.head())"
   ]
  },
  {
   "cell_type": "code",
   "execution_count": 38,
   "id": "25ab97ba",
   "metadata": {},
   "outputs": [],
   "source": [
    "os.makedirs('/Users/selinzobu/Desktop/TILES/', exist_ok=True)  \n",
    "fitOM.to_csv('/Users/selinzobu/Desktop/TILES/1FITOM.csv') "
   ]
  },
  {
   "cell_type": "code",
   "execution_count": 39,
   "id": "1e9d1b50",
   "metadata": {},
   "outputs": [],
   "source": [
    "os.makedirs('/Users/selinzobu/Desktop/TILES/', exist_ok=True)  \n",
    "OMFIT.to_csv('/Users/selinzobu/Desktop/TILES/1OMFIT.csv') "
   ]
  },
  {
   "cell_type": "code",
   "execution_count": 40,
   "id": "71abdd08",
   "metadata": {},
   "outputs": [
    {
     "name": "stdout",
     "output_type": "stream",
     "text": [
      "208 209\n"
     ]
    }
   ],
   "source": [
    "Fitp = list(fitbit['participant_id'].unique())  #208\n",
    "Strep = list(stre['participant_id'].unique())  #209\n",
    "\n",
    "print(len(Fitp), len(Strep))"
   ]
  },
  {
   "cell_type": "code",
   "execution_count": 41,
   "id": "728b275b",
   "metadata": {},
   "outputs": [
    {
     "name": "stdout",
     "output_type": "stream",
     "text": [
      "192 17 16\n"
     ]
    }
   ],
   "source": [
    "#To see if they have the same participant ids\n",
    "\n",
    "com2 = (set(Fitp) & set(Strep)) #192\n",
    "S = list(set(Strep) - set(Fitp)) #17\n",
    "F2 = list(set(Fitp) - set(Strep)) #16\n",
    "print(len(com2), len(S), len(F2))"
   ]
  },
  {
   "cell_type": "code",
   "execution_count": 42,
   "id": "37f0d6c4",
   "metadata": {},
   "outputs": [
    {
     "name": "stdout",
     "output_type": "stream",
     "text": [
      "(6890, 11)\n",
      "190\n"
     ]
    }
   ],
   "source": [
    "# Merging Fitbit Data (12505, 10) with StressD (11274, 3) > 9476 rows x 11 columns \n",
    "\n",
    "#208 & 209 participants > 190 participants\n",
    "\n",
    "fitstre = fitbit.merge(stre, how = 'inner', on=['participant_id', 'Timestamp'])\n",
    "\n",
    "print(fitstre.shape) #(9476, 11) > 6890, 11\n",
    "print(len(fitstre['participant_id'].unique())) #190"
   ]
  },
  {
   "cell_type": "code",
   "execution_count": 43,
   "id": "2e754ccf",
   "metadata": {},
   "outputs": [
    {
     "name": "stdout",
     "output_type": "stream",
     "text": [
      "<class 'pandas.core.frame.DataFrame'>\n",
      "Int64Index: 6890 entries, 0 to 6889\n",
      "Data columns (total 11 columns):\n",
      " #   Column                Non-Null Count  Dtype  \n",
      "---  ------                --------------  -----  \n",
      " 0   Timestamp             6890 non-null   object \n",
      " 1   Cardio_caloriesOut    6890 non-null   float64\n",
      " 2   Fat Burn_caloriesOut  6890 non-null   float64\n",
      " 3   Fat Burn_minutes      6890 non-null   float64\n",
      " 4   NumberSteps           6890 non-null   float64\n",
      " 5   RestingHeartRate      6890 non-null   float64\n",
      " 6   SleepMinutesAsleep    6890 non-null   float64\n",
      " 7   SleepMinutesInBed     6890 non-null   int64  \n",
      " 8   participant_id        6890 non-null   object \n",
      " 9   days                  6890 non-null   int64  \n",
      " 10  mstressd              6890 non-null   float64\n",
      "dtypes: float64(7), int64(2), object(2)\n",
      "memory usage: 645.9+ KB\n"
     ]
    }
   ],
   "source": [
    "fitstre.info()"
   ]
  },
  {
   "cell_type": "code",
   "execution_count": 44,
   "id": "cce7bb64",
   "metadata": {},
   "outputs": [
    {
     "data": {
      "text/html": [
       "<div>\n",
       "<style scoped>\n",
       "    .dataframe tbody tr th:only-of-type {\n",
       "        vertical-align: middle;\n",
       "    }\n",
       "\n",
       "    .dataframe tbody tr th {\n",
       "        vertical-align: top;\n",
       "    }\n",
       "\n",
       "    .dataframe thead th {\n",
       "        text-align: right;\n",
       "    }\n",
       "</style>\n",
       "<table border=\"1\" class=\"dataframe\">\n",
       "  <thead>\n",
       "    <tr style=\"text-align: right;\">\n",
       "      <th></th>\n",
       "      <th>Cardio_caloriesOut</th>\n",
       "      <th>Fat Burn_caloriesOut</th>\n",
       "      <th>Fat Burn_minutes</th>\n",
       "      <th>NumberSteps</th>\n",
       "      <th>RestingHeartRate</th>\n",
       "      <th>SleepMinutesAsleep</th>\n",
       "      <th>SleepMinutesInBed</th>\n",
       "      <th>days</th>\n",
       "      <th>mstressd</th>\n",
       "    </tr>\n",
       "  </thead>\n",
       "  <tbody>\n",
       "    <tr>\n",
       "      <th>count</th>\n",
       "      <td>6890.000000</td>\n",
       "      <td>6890.000000</td>\n",
       "      <td>6890.000000</td>\n",
       "      <td>6890.000000</td>\n",
       "      <td>6890.000000</td>\n",
       "      <td>6890.000000</td>\n",
       "      <td>6890.000000</td>\n",
       "      <td>6890.000000</td>\n",
       "      <td>6890.000000</td>\n",
       "    </tr>\n",
       "    <tr>\n",
       "      <th>mean</th>\n",
       "      <td>47.435638</td>\n",
       "      <td>802.795197</td>\n",
       "      <td>265.993759</td>\n",
       "      <td>8949.812627</td>\n",
       "      <td>66.868940</td>\n",
       "      <td>276.198984</td>\n",
       "      <td>317.857039</td>\n",
       "      <td>33.170972</td>\n",
       "      <td>1.838679</td>\n",
       "    </tr>\n",
       "    <tr>\n",
       "      <th>std</th>\n",
       "      <td>132.759779</td>\n",
       "      <td>637.239447</td>\n",
       "      <td>227.313182</td>\n",
       "      <td>4481.439012</td>\n",
       "      <td>8.191838</td>\n",
       "      <td>198.598874</td>\n",
       "      <td>225.766770</td>\n",
       "      <td>20.050063</td>\n",
       "      <td>0.908536</td>\n",
       "    </tr>\n",
       "    <tr>\n",
       "      <th>min</th>\n",
       "      <td>0.000000</td>\n",
       "      <td>0.000000</td>\n",
       "      <td>0.000000</td>\n",
       "      <td>31.000000</td>\n",
       "      <td>42.000000</td>\n",
       "      <td>0.000000</td>\n",
       "      <td>0.000000</td>\n",
       "      <td>0.000000</td>\n",
       "      <td>1.000000</td>\n",
       "    </tr>\n",
       "    <tr>\n",
       "      <th>25%</th>\n",
       "      <td>0.000000</td>\n",
       "      <td>335.008010</td>\n",
       "      <td>92.000000</td>\n",
       "      <td>5700.250000</td>\n",
       "      <td>61.000000</td>\n",
       "      <td>0.000000</td>\n",
       "      <td>0.000000</td>\n",
       "      <td>15.000000</td>\n",
       "      <td>1.000000</td>\n",
       "    </tr>\n",
       "    <tr>\n",
       "      <th>50%</th>\n",
       "      <td>3.666640</td>\n",
       "      <td>642.935530</td>\n",
       "      <td>195.000000</td>\n",
       "      <td>8457.500000</td>\n",
       "      <td>67.000000</td>\n",
       "      <td>331.000000</td>\n",
       "      <td>382.000000</td>\n",
       "      <td>33.000000</td>\n",
       "      <td>2.000000</td>\n",
       "    </tr>\n",
       "    <tr>\n",
       "      <th>75%</th>\n",
       "      <td>35.890980</td>\n",
       "      <td>1121.380000</td>\n",
       "      <td>383.000000</td>\n",
       "      <td>11576.750000</td>\n",
       "      <td>72.000000</td>\n",
       "      <td>419.750000</td>\n",
       "      <td>478.000000</td>\n",
       "      <td>50.000000</td>\n",
       "      <td>2.500000</td>\n",
       "    </tr>\n",
       "    <tr>\n",
       "      <th>max</th>\n",
       "      <td>3383.314720</td>\n",
       "      <td>6928.750920</td>\n",
       "      <td>1301.000000</td>\n",
       "      <td>32243.000000</td>\n",
       "      <td>103.000000</td>\n",
       "      <td>926.000000</td>\n",
       "      <td>1143.000000</td>\n",
       "      <td>80.000000</td>\n",
       "      <td>5.000000</td>\n",
       "    </tr>\n",
       "  </tbody>\n",
       "</table>\n",
       "</div>"
      ],
      "text/plain": [
       "       Cardio_caloriesOut  Fat Burn_caloriesOut  Fat Burn_minutes  \\\n",
       "count         6890.000000           6890.000000       6890.000000   \n",
       "mean            47.435638            802.795197        265.993759   \n",
       "std            132.759779            637.239447        227.313182   \n",
       "min              0.000000              0.000000          0.000000   \n",
       "25%              0.000000            335.008010         92.000000   \n",
       "50%              3.666640            642.935530        195.000000   \n",
       "75%             35.890980           1121.380000        383.000000   \n",
       "max           3383.314720           6928.750920       1301.000000   \n",
       "\n",
       "        NumberSteps  RestingHeartRate  SleepMinutesAsleep  SleepMinutesInBed  \\\n",
       "count   6890.000000       6890.000000         6890.000000        6890.000000   \n",
       "mean    8949.812627         66.868940          276.198984         317.857039   \n",
       "std     4481.439012          8.191838          198.598874         225.766770   \n",
       "min       31.000000         42.000000            0.000000           0.000000   \n",
       "25%     5700.250000         61.000000            0.000000           0.000000   \n",
       "50%     8457.500000         67.000000          331.000000         382.000000   \n",
       "75%    11576.750000         72.000000          419.750000         478.000000   \n",
       "max    32243.000000        103.000000          926.000000        1143.000000   \n",
       "\n",
       "              days     mstressd  \n",
       "count  6890.000000  6890.000000  \n",
       "mean     33.170972     1.838679  \n",
       "std      20.050063     0.908536  \n",
       "min       0.000000     1.000000  \n",
       "25%      15.000000     1.000000  \n",
       "50%      33.000000     2.000000  \n",
       "75%      50.000000     2.500000  \n",
       "max      80.000000     5.000000  "
      ]
     },
     "execution_count": 44,
     "metadata": {},
     "output_type": "execute_result"
    }
   ],
   "source": [
    "fitstre.describe()"
   ]
  },
  {
   "cell_type": "code",
   "execution_count": 45,
   "id": "f6df02f5",
   "metadata": {},
   "outputs": [],
   "source": [
    "os.makedirs('/Users/selinzobu/Desktop/TILES/', exist_ok=True)  \n",
    "fitstre.to_csv('/Users/selinzobu/Desktop/TILES/1FITBITSTRESSD.csv') "
   ]
  },
  {
   "cell_type": "code",
   "execution_count": 46,
   "id": "117f4802",
   "metadata": {},
   "outputs": [
    {
     "name": "stdout",
     "output_type": "stream",
     "text": [
      "<class 'pandas.core.frame.DataFrame'>\n",
      "RangeIndex: 201 entries, 0 to 200\n",
      "Data columns (total 30 columns):\n",
      " #   Column                                   Non-Null Count  Dtype  \n",
      "---  ------                                   --------------  -----  \n",
      " 0   participant_id                           201 non-null    object \n",
      " 1   iod_ID                                   201 non-null    int64  \n",
      " 2   iod_OD                                   201 non-null    int64  \n",
      " 3   ocb                                      201 non-null    int64  \n",
      " 4   irb                                      201 non-null    int64  \n",
      " 5   itp                                      201 non-null    float64\n",
      " 6   pan_PosAffect                            201 non-null    int64  \n",
      " 7   pan_NegAffect                            201 non-null    int64  \n",
      " 8   stai                                     201 non-null    int64  \n",
      " 9   rand_PhysicalFunctioning                 201 non-null    float64\n",
      " 10  rand_LimitsPhysicalHealth                201 non-null    float64\n",
      " 11  rand_LimitsEmotionalProblems             201 non-null    float64\n",
      " 12  rand_EmotionalWellbeing                  201 non-null    float64\n",
      " 13  rand_SocialFunctioning                   201 non-null    float64\n",
      " 14  swls                                     201 non-null    float64\n",
      " 15  pss                                      201 non-null    float64\n",
      " 16  mpfi_Flexibility                         201 non-null    float64\n",
      " 17  mpfi_Flexibility_Acceptance              201 non-null    float64\n",
      " 18  mpfi_Flexibility_PresentMomentAwareness  201 non-null    float64\n",
      " 19  mpfi_Flexibility_SelfAsContext           201 non-null    float64\n",
      " 20  mpfi_Flexibility_Defusion                201 non-null    float64\n",
      " 21  mpfi_Flexibility_Values                  201 non-null    float64\n",
      " 22  mpfi_Flexibility_CommittedAction         201 non-null    float64\n",
      " 23  pcq                                      201 non-null    float64\n",
      " 24  pcq_Hope                                 201 non-null    float64\n",
      " 25  pcq_Efficacy                             201 non-null    float64\n",
      " 26  pcq_Resilience                           201 non-null    float64\n",
      " 27  pcq_Optimism                             201 non-null    float64\n",
      " 28  chss_ChallengeStressors                  201 non-null    float64\n",
      " 29  chss_HindranceStressors                  201 non-null    float64\n",
      "dtypes: float64(22), int64(7), object(1)\n",
      "memory usage: 47.2+ KB\n"
     ]
    }
   ],
   "source": [
    "base.info()"
   ]
  },
  {
   "cell_type": "code",
   "execution_count": 48,
   "id": "83e1ecca",
   "metadata": {},
   "outputs": [
    {
     "name": "stdout",
     "output_type": "stream",
     "text": [
      "(7868, 32)\n",
      "198\n"
     ]
    }
   ],
   "source": [
    "#Merging Baseline (201 rows x 30 columns) and Stressd data (11274 rows x 3 columns)\n",
    "#10761 rows x 32 columns.   201 & 209 participant > 198 particip\n",
    "\n",
    "basestre = (base.merge(stre, how = 'inner', on=['participant_id']))\n",
    "print(basestre.shape) #10761, 32 > 7868, 32\n",
    "print(len(basestre['participant_id'].unique())) #198"
   ]
  },
  {
   "cell_type": "code",
   "execution_count": 49,
   "id": "667a650b",
   "metadata": {},
   "outputs": [
    {
     "name": "stdout",
     "output_type": "stream",
     "text": [
      "(7868, 32)\n",
      "198\n"
     ]
    }
   ],
   "source": [
    "strebase = (stre.merge(base, how = 'inner', on=['participant_id']))\n",
    "print(strebase.shape) #10761, 32 >> 7868, 32\n",
    "print(len(strebase['participant_id'].unique()))"
   ]
  },
  {
   "cell_type": "code",
   "execution_count": 50,
   "id": "7b4657e8",
   "metadata": {},
   "outputs": [
    {
     "data": {
      "text/html": [
       "<div>\n",
       "<style scoped>\n",
       "    .dataframe tbody tr th:only-of-type {\n",
       "        vertical-align: middle;\n",
       "    }\n",
       "\n",
       "    .dataframe tbody tr th {\n",
       "        vertical-align: top;\n",
       "    }\n",
       "\n",
       "    .dataframe thead th {\n",
       "        text-align: right;\n",
       "    }\n",
       "</style>\n",
       "<table border=\"1\" class=\"dataframe\">\n",
       "  <thead>\n",
       "    <tr style=\"text-align: right;\">\n",
       "      <th></th>\n",
       "      <th>participant_id</th>\n",
       "      <th>iod_ID</th>\n",
       "      <th>iod_OD</th>\n",
       "      <th>ocb</th>\n",
       "      <th>irb</th>\n",
       "      <th>itp</th>\n",
       "      <th>pan_PosAffect</th>\n",
       "      <th>pan_NegAffect</th>\n",
       "      <th>stai</th>\n",
       "      <th>rand_PhysicalFunctioning</th>\n",
       "      <th>...</th>\n",
       "      <th>mpfi_Flexibility_CommittedAction</th>\n",
       "      <th>pcq</th>\n",
       "      <th>pcq_Hope</th>\n",
       "      <th>pcq_Efficacy</th>\n",
       "      <th>pcq_Resilience</th>\n",
       "      <th>pcq_Optimism</th>\n",
       "      <th>chss_ChallengeStressors</th>\n",
       "      <th>chss_HindranceStressors</th>\n",
       "      <th>Timestamp</th>\n",
       "      <th>mstressd</th>\n",
       "    </tr>\n",
       "  </thead>\n",
       "  <tbody>\n",
       "    <tr>\n",
       "      <th>0</th>\n",
       "      <td>02581754-36cd-4b23-85ea-bf995c6dec83</td>\n",
       "      <td>10</td>\n",
       "      <td>15</td>\n",
       "      <td>71</td>\n",
       "      <td>43</td>\n",
       "      <td>5.0</td>\n",
       "      <td>47</td>\n",
       "      <td>20</td>\n",
       "      <td>24</td>\n",
       "      <td>100.0</td>\n",
       "      <td>...</td>\n",
       "      <td>6.0</td>\n",
       "      <td>4.333333</td>\n",
       "      <td>5.0</td>\n",
       "      <td>3.333333</td>\n",
       "      <td>4.0</td>\n",
       "      <td>5.0</td>\n",
       "      <td>3.5</td>\n",
       "      <td>3.0</td>\n",
       "      <td>2018-04-10</td>\n",
       "      <td>2.0</td>\n",
       "    </tr>\n",
       "    <tr>\n",
       "      <th>1</th>\n",
       "      <td>02581754-36cd-4b23-85ea-bf995c6dec83</td>\n",
       "      <td>10</td>\n",
       "      <td>15</td>\n",
       "      <td>71</td>\n",
       "      <td>43</td>\n",
       "      <td>5.0</td>\n",
       "      <td>47</td>\n",
       "      <td>20</td>\n",
       "      <td>24</td>\n",
       "      <td>100.0</td>\n",
       "      <td>...</td>\n",
       "      <td>6.0</td>\n",
       "      <td>4.333333</td>\n",
       "      <td>5.0</td>\n",
       "      <td>3.333333</td>\n",
       "      <td>4.0</td>\n",
       "      <td>5.0</td>\n",
       "      <td>3.5</td>\n",
       "      <td>3.0</td>\n",
       "      <td>2018-04-11</td>\n",
       "      <td>2.0</td>\n",
       "    </tr>\n",
       "    <tr>\n",
       "      <th>2</th>\n",
       "      <td>02581754-36cd-4b23-85ea-bf995c6dec83</td>\n",
       "      <td>10</td>\n",
       "      <td>15</td>\n",
       "      <td>71</td>\n",
       "      <td>43</td>\n",
       "      <td>5.0</td>\n",
       "      <td>47</td>\n",
       "      <td>20</td>\n",
       "      <td>24</td>\n",
       "      <td>100.0</td>\n",
       "      <td>...</td>\n",
       "      <td>6.0</td>\n",
       "      <td>4.333333</td>\n",
       "      <td>5.0</td>\n",
       "      <td>3.333333</td>\n",
       "      <td>4.0</td>\n",
       "      <td>5.0</td>\n",
       "      <td>3.5</td>\n",
       "      <td>3.0</td>\n",
       "      <td>2018-04-13</td>\n",
       "      <td>1.0</td>\n",
       "    </tr>\n",
       "    <tr>\n",
       "      <th>3</th>\n",
       "      <td>02581754-36cd-4b23-85ea-bf995c6dec83</td>\n",
       "      <td>10</td>\n",
       "      <td>15</td>\n",
       "      <td>71</td>\n",
       "      <td>43</td>\n",
       "      <td>5.0</td>\n",
       "      <td>47</td>\n",
       "      <td>20</td>\n",
       "      <td>24</td>\n",
       "      <td>100.0</td>\n",
       "      <td>...</td>\n",
       "      <td>6.0</td>\n",
       "      <td>4.333333</td>\n",
       "      <td>5.0</td>\n",
       "      <td>3.333333</td>\n",
       "      <td>4.0</td>\n",
       "      <td>5.0</td>\n",
       "      <td>3.5</td>\n",
       "      <td>3.0</td>\n",
       "      <td>2018-04-15</td>\n",
       "      <td>1.0</td>\n",
       "    </tr>\n",
       "    <tr>\n",
       "      <th>4</th>\n",
       "      <td>02581754-36cd-4b23-85ea-bf995c6dec83</td>\n",
       "      <td>10</td>\n",
       "      <td>15</td>\n",
       "      <td>71</td>\n",
       "      <td>43</td>\n",
       "      <td>5.0</td>\n",
       "      <td>47</td>\n",
       "      <td>20</td>\n",
       "      <td>24</td>\n",
       "      <td>100.0</td>\n",
       "      <td>...</td>\n",
       "      <td>6.0</td>\n",
       "      <td>4.333333</td>\n",
       "      <td>5.0</td>\n",
       "      <td>3.333333</td>\n",
       "      <td>4.0</td>\n",
       "      <td>5.0</td>\n",
       "      <td>3.5</td>\n",
       "      <td>3.0</td>\n",
       "      <td>2018-04-16</td>\n",
       "      <td>1.0</td>\n",
       "    </tr>\n",
       "  </tbody>\n",
       "</table>\n",
       "<p>5 rows × 32 columns</p>\n",
       "</div>"
      ],
      "text/plain": [
       "                         participant_id  iod_ID  iod_OD  ocb  irb  itp  \\\n",
       "0  02581754-36cd-4b23-85ea-bf995c6dec83      10      15   71   43  5.0   \n",
       "1  02581754-36cd-4b23-85ea-bf995c6dec83      10      15   71   43  5.0   \n",
       "2  02581754-36cd-4b23-85ea-bf995c6dec83      10      15   71   43  5.0   \n",
       "3  02581754-36cd-4b23-85ea-bf995c6dec83      10      15   71   43  5.0   \n",
       "4  02581754-36cd-4b23-85ea-bf995c6dec83      10      15   71   43  5.0   \n",
       "\n",
       "   pan_PosAffect  pan_NegAffect  stai  rand_PhysicalFunctioning  ...  \\\n",
       "0             47             20    24                     100.0  ...   \n",
       "1             47             20    24                     100.0  ...   \n",
       "2             47             20    24                     100.0  ...   \n",
       "3             47             20    24                     100.0  ...   \n",
       "4             47             20    24                     100.0  ...   \n",
       "\n",
       "   mpfi_Flexibility_CommittedAction       pcq  pcq_Hope  pcq_Efficacy  \\\n",
       "0                               6.0  4.333333       5.0      3.333333   \n",
       "1                               6.0  4.333333       5.0      3.333333   \n",
       "2                               6.0  4.333333       5.0      3.333333   \n",
       "3                               6.0  4.333333       5.0      3.333333   \n",
       "4                               6.0  4.333333       5.0      3.333333   \n",
       "\n",
       "   pcq_Resilience  pcq_Optimism  chss_ChallengeStressors  \\\n",
       "0             4.0           5.0                      3.5   \n",
       "1             4.0           5.0                      3.5   \n",
       "2             4.0           5.0                      3.5   \n",
       "3             4.0           5.0                      3.5   \n",
       "4             4.0           5.0                      3.5   \n",
       "\n",
       "   chss_HindranceStressors   Timestamp  mstressd  \n",
       "0                      3.0  2018-04-10       2.0  \n",
       "1                      3.0  2018-04-11       2.0  \n",
       "2                      3.0  2018-04-13       1.0  \n",
       "3                      3.0  2018-04-15       1.0  \n",
       "4                      3.0  2018-04-16       1.0  \n",
       "\n",
       "[5 rows x 32 columns]"
      ]
     },
     "execution_count": 50,
     "metadata": {},
     "output_type": "execute_result"
    }
   ],
   "source": [
    "basestre.head()"
   ]
  },
  {
   "cell_type": "code",
   "execution_count": 51,
   "id": "14eec9df",
   "metadata": {},
   "outputs": [],
   "source": [
    "os.makedirs('/Users/selinzobu/Desktop/TILES/', exist_ok=True)  \n",
    "basestre.to_csv('/Users/selinzobu/Desktop/TILES/1BASESTRESSD.csv') "
   ]
  },
  {
   "cell_type": "code",
   "execution_count": 53,
   "id": "d04bafdc",
   "metadata": {},
   "outputs": [
    {
     "name": "stdout",
     "output_type": "stream",
     "text": [
      "(6547, 40)\n",
      "179\n"
     ]
    }
   ],
   "source": [
    "#Merging FITBIT, BASELINE SURVEY DATA and STRESSD\n",
    "# FITBITSTRESSD + BASELINE (9476 rows x 11 columns) 190 & (201 rows x 30 columns) 201\n",
    "#(12505 rows × 10 columns) 208, (201 rows x 30 columns) 201, (11274 rows x 3 columns) 209\n",
    "#(9008 rows x 40 columns) 179 participants\n",
    "\n",
    "fitstrebase = fitstre.merge(base, how = 'inner', on=['participant_id'])\n",
    "print(fitstrebase.shape) #9008, 40 >> 6547, 40\n",
    "print(len(fitstrebase['participant_id'].unique())) #179"
   ]
  },
  {
   "cell_type": "code",
   "execution_count": 54,
   "id": "47e54360",
   "metadata": {},
   "outputs": [
    {
     "name": "stdout",
     "output_type": "stream",
     "text": [
      "(3126, 37)\n",
      "176\n"
     ]
    }
   ],
   "source": [
    "#Merging FITBIT(12505 rows × 10 columns, 208), OMSignal Data (5713 rows × 28 columns, 199) \n",
    "#and STRESSD (11274 rows, 3 columns, 209 participants)\n",
    "#FITBIT & OMSignal Data + STRESSD\n",
    "# 4027 rows x 36 columns, 143 participants + 11274 row x 3 columns, 209 participants\n",
    "\n",
    "#4382 rows x 37 columns, 129 participants\n",
    "\n",
    "fitOMSTRE = fitOM.merge(stre, how = 'inner', on=['participant_id', 'Timestamp'])\n",
    "print(fitOMSTRE.shape) #4382, 37 >> 3126, 37\n",
    "print(len(fitOMSTRE['participant_id'].unique())) #176"
   ]
  },
  {
   "cell_type": "code",
   "execution_count": 55,
   "id": "6be12bc3",
   "metadata": {},
   "outputs": [
    {
     "name": "stdout",
     "output_type": "stream",
     "text": [
      "    Timestamp  Cardio_caloriesOut  Fat Burn_caloriesOut  Fat Burn_minutes  \\\n",
      "0  2018-04-09             8.17870             242.66684              53.0   \n",
      "1  2018-04-10             8.08248             132.39872              28.0   \n",
      "2  2018-04-12            17.31960              78.32308              19.0   \n",
      "3  2018-04-14            15.39520             435.20306              96.0   \n",
      "4  2018-04-16             0.00000              71.97256              16.0   \n",
      "\n",
      "   NumberSteps  RestingHeartRate  SleepMinutesAsleep  SleepMinutesInBed  \\\n",
      "0      21086.0              57.0               409.0                461   \n",
      "1      11739.0              59.0               371.0                449   \n",
      "2      10758.0              57.0               406.0                451   \n",
      "3      12736.0              59.0               424.0                464   \n",
      "4      10634.0              58.0               363.0                417   \n",
      "\n",
      "                         participant_id  days  ...  StdDevBreathingRateS  \\\n",
      "0  e6081755-d7f3-4c26-ab40-0709b8ad41ef     0  ...              1.253560   \n",
      "1  e6081755-d7f3-4c26-ab40-0709b8ad41ef     1  ...              1.494626   \n",
      "2  e6081755-d7f3-4c26-ab40-0709b8ad41ef     3  ...              0.988748   \n",
      "3  e6081755-d7f3-4c26-ab40-0709b8ad41ef     5  ...              1.258474   \n",
      "4  e6081755-d7f3-4c26-ab40-0709b8ad41ef     7  ...              1.160628   \n",
      "\n",
      "   StdDevGForceM  StdDevGForceS  StdDevXAccel_gM  StdDevXAccel_gS  \\\n",
      "0       0.101026       0.075666         0.087697         0.067156   \n",
      "1       0.151097       0.147409         0.113743         0.064256   \n",
      "2       0.107280       0.066107         0.145722         0.106716   \n",
      "3       0.136010       0.089383         0.149353         0.107419   \n",
      "4       0.095904       0.086113         0.104952         0.083954   \n",
      "\n",
      "   StdDevYAccel_gM  StdDevYAccel_gS  StdDevZAccel_gM  StdDevZAccel_gS  \\\n",
      "0         0.110781         0.058243         0.109220         0.050492   \n",
      "1         0.125249         0.057223         0.118130         0.042214   \n",
      "2         0.143609         0.073497         0.113309         0.048640   \n",
      "3         0.144207         0.071980         0.119266         0.042508   \n",
      "4         0.119766         0.076616         0.098731         0.047837   \n",
      "\n",
      "   mstressd  \n",
      "0       3.0  \n",
      "1       1.0  \n",
      "2       2.5  \n",
      "3       3.0  \n",
      "4       2.0  \n",
      "\n",
      "[5 rows x 37 columns]\n"
     ]
    }
   ],
   "source": [
    "print(fitOMSTRE.head())"
   ]
  },
  {
   "cell_type": "code",
   "execution_count": 56,
   "id": "b2f1f61b",
   "metadata": {},
   "outputs": [],
   "source": [
    "os.makedirs('/Users/selinzobu/Desktop/TILES/', exist_ok=True)  \n",
    "fitOMSTRE.to_csv('/Users/selinzobu/Desktop/TILES/1FITOMSTRESSD.csv') "
   ]
  },
  {
   "cell_type": "code",
   "execution_count": 58,
   "id": "bc23dc3a",
   "metadata": {},
   "outputs": [
    {
     "name": "stdout",
     "output_type": "stream",
     "text": [
      "(3126, 37)\n",
      "176\n"
     ]
    }
   ],
   "source": [
    "#OMFIT + STRESS\n",
    "\n",
    "OMFITSTRE = OMFIT.merge(stre, how = 'inner', on=['participant_id', 'Timestamp'])\n",
    "print(OMFITSTRE.shape) #4382, 37 >> 3126, 37\n",
    "print(len(OMFITSTRE['participant_id'].unique())) #176"
   ]
  },
  {
   "cell_type": "code",
   "execution_count": 59,
   "id": "3a56f232",
   "metadata": {},
   "outputs": [
    {
     "name": "stdout",
     "output_type": "stream",
     "text": [
      "                         participant_id   Timestamp  AvgHeartRateM  \\\n",
      "0  02581754-36cd-4b23-85ea-bf995c6dec83  2018-04-11      70.316433   \n",
      "1  02581754-36cd-4b23-85ea-bf995c6dec83  2018-04-15      73.011389   \n",
      "2  02581754-36cd-4b23-85ea-bf995c6dec83  2018-04-20      74.730689   \n",
      "3  02581754-36cd-4b23-85ea-bf995c6dec83  2018-04-27      68.301292   \n",
      "4  02581754-36cd-4b23-85ea-bf995c6dec83  2018-04-28      74.278660   \n",
      "\n",
      "   AvgHeartRateS  RMSStdDev_msM  RMSStdDev_msS  AvgBreathingRateM  \\\n",
      "0      11.125610      76.304540      32.446035          18.785335   \n",
      "1      14.791072      83.218582      29.087928          20.301165   \n",
      "2      14.570413      75.876150      34.389385          21.342272   \n",
      "3       9.501632      76.989096      28.195812          19.563948   \n",
      "4       9.673035      77.652106      28.229028          21.107769   \n",
      "\n",
      "   AvgBreathingRateS  AvgGForceM  AvgGForceS  ...  StdDevZAccel_gS  \\\n",
      "0           3.148856    0.067580    0.048793  ...         0.049356   \n",
      "1           4.558011    0.087629    0.060141  ...         0.074521   \n",
      "2           4.984909    0.094568    0.065956  ...         0.073196   \n",
      "3           4.021660    0.069768    0.051978  ...         0.094362   \n",
      "4           4.165521    0.097717    0.066683  ...         0.069440   \n",
      "\n",
      "   Cardio_caloriesOut  Fat Burn_caloriesOut  Fat Burn_minutes  NumberSteps  \\\n",
      "0            35.12336             881.52514             141.0      16864.0   \n",
      "1             0.00000             168.14122              33.0       5941.0   \n",
      "2             0.00000             627.94872             112.0      14983.0   \n",
      "3            72.61992             908.93560             151.0      16069.0   \n",
      "4            33.93676             161.37760              28.0       6998.0   \n",
      "\n",
      "   RestingHeartRate  SleepMinutesAsleep  SleepMinutesInBed  days  mstressd  \n",
      "0              62.0               251.0                292     2       2.0  \n",
      "1              61.0                 0.0                441     6       1.0  \n",
      "2              61.0               265.0                304    11       1.0  \n",
      "3              61.0               258.0                303    18       1.0  \n",
      "4              61.0                 0.0                  0    19       1.0  \n",
      "\n",
      "[5 rows x 37 columns]\n"
     ]
    }
   ],
   "source": [
    "print(OMFITSTRE.head())"
   ]
  },
  {
   "cell_type": "code",
   "execution_count": 60,
   "id": "309ea592",
   "metadata": {},
   "outputs": [
    {
     "name": "stdout",
     "output_type": "stream",
     "text": [
      "(4784, 65)\n",
      "172\n"
     ]
    }
   ],
   "source": [
    "#Merging FITBIT(12505 rows × 10 columns, 208), OMSignal Data (5713 rows × 28 columns, 199) \n",
    "#and Baseline Data \n",
    "\n",
    "#FITBIT & OMSignal Data + Baseline\n",
    "# 4027 rows x 36 columns, 143 participants + 201 rows x 30 columns, 201\n",
    "\n",
    "# 4784 rows × 65 columns, 172 participants\n",
    "\n",
    "fitOMBASE = fitOM.merge(base, how = 'inner', on='participant_id')\n",
    "print(fitOMBASE.shape)\n",
    "print(len(fitOMBASE['participant_id'].unique())) #172"
   ]
  },
  {
   "cell_type": "code",
   "execution_count": 61,
   "id": "b41a9aa9",
   "metadata": {},
   "outputs": [
    {
     "name": "stdout",
     "output_type": "stream",
     "text": [
      "(4784, 65)\n",
      "172\n"
     ]
    }
   ],
   "source": [
    "#OMFIT + BASE\n",
    "\n",
    "OMFITBASE = OMFIT.merge(base, how = 'inner', on=['participant_id'])\n",
    "print(OMFITBASE.shape)\n",
    "print(len(OMFITBASE['participant_id'].unique()))"
   ]
  },
  {
   "cell_type": "code",
   "execution_count": 62,
   "id": "773c9965",
   "metadata": {},
   "outputs": [
    {
     "name": "stdout",
     "output_type": "stream",
     "text": [
      "(4183, 70)\n",
      "166\n"
     ]
    }
   ],
   "source": [
    "OMFITBASEpan = OMFITBASE.merge(panas, how = 'inner', on=['participant_id', 'Timestamp'])\n",
    "print(OMFITBASEpan.shape)\n",
    "print(len(OMFITBASEpan['participant_id'].unique()))"
   ]
  },
  {
   "cell_type": "code",
   "execution_count": null,
   "id": "9263a611",
   "metadata": {},
   "outputs": [],
   "source": []
  },
  {
   "cell_type": "code",
   "execution_count": 63,
   "id": "3576d9a1",
   "metadata": {},
   "outputs": [],
   "source": [
    "os.makedirs('/Users/selinzobu/Desktop/TILES/', exist_ok=True)  \n",
    "fitOMBASE.to_csv('/Users/selinzobu/Desktop/TILES/1FITOMBASE.csv') "
   ]
  },
  {
   "cell_type": "code",
   "execution_count": 65,
   "id": "c631c85a",
   "metadata": {},
   "outputs": [
    {
     "name": "stdout",
     "output_type": "stream",
     "text": [
      "(2989, 66)\n",
      "166\n",
      "(2989, 66)\n",
      "166\n"
     ]
    }
   ],
   "source": [
    "#ALL TOGETHER: FITBIT, OMSignal + BASELINE + STRESSD merged\n",
    "# FITOMBASE + STRE   (3117 rows, 66 columns) 122 participants\n",
    "# FITOM + BASESTRE #(4193, 66)\n",
    "\n",
    "FITOMBASESTRE = fitOMBASE.merge(stre, how = 'inner', on=['participant_id', 'Timestamp'])\n",
    "\n",
    "FITOMBASESTRE2 = fitOM.merge(basestre, how = 'inner', on=['participant_id', 'Timestamp'])\n",
    "\n",
    "print(FITOMBASESTRE.shape) #4193, 66 >> 2989, 66\n",
    "print(len(FITOMBASESTRE['participant_id'].unique())) #166\n",
    "\n",
    "print(FITOMBASESTRE2.shape)\n",
    "print(len(FITOMBASESTRE2['participant_id'].unique())) #166"
   ]
  },
  {
   "cell_type": "code",
   "execution_count": 66,
   "id": "081a04ad",
   "metadata": {},
   "outputs": [
    {
     "name": "stdout",
     "output_type": "stream",
     "text": [
      "    Timestamp  Cardio_caloriesOut  Fat Burn_caloriesOut  Fat Burn_minutes  \\\n",
      "0  2018-04-09             8.17870             242.66684              53.0   \n",
      "1  2018-04-10             8.08248             132.39872              28.0   \n",
      "2  2018-04-12            17.31960              78.32308              19.0   \n",
      "3  2018-04-14            15.39520             435.20306              96.0   \n",
      "4  2018-04-16             0.00000              71.97256              16.0   \n",
      "\n",
      "   NumberSteps  RestingHeartRate  SleepMinutesAsleep  SleepMinutesInBed  \\\n",
      "0      21086.0              57.0               409.0                461   \n",
      "1      11739.0              59.0               371.0                449   \n",
      "2      10758.0              57.0               406.0                451   \n",
      "3      12736.0              59.0               424.0                464   \n",
      "4      10634.0              58.0               363.0                417   \n",
      "\n",
      "                         participant_id  days  ...  mpfi_Flexibility_Values  \\\n",
      "0  e6081755-d7f3-4c26-ab40-0709b8ad41ef     0  ...                      5.0   \n",
      "1  e6081755-d7f3-4c26-ab40-0709b8ad41ef     1  ...                      5.0   \n",
      "2  e6081755-d7f3-4c26-ab40-0709b8ad41ef     3  ...                      5.0   \n",
      "3  e6081755-d7f3-4c26-ab40-0709b8ad41ef     5  ...                      5.0   \n",
      "4  e6081755-d7f3-4c26-ab40-0709b8ad41ef     7  ...                      5.0   \n",
      "\n",
      "   mpfi_Flexibility_CommittedAction       pcq  pcq_Hope  pcq_Efficacy  \\\n",
      "0                               5.0  5.166667       5.0      5.333333   \n",
      "1                               5.0  5.166667       5.0      5.333333   \n",
      "2                               5.0  5.166667       5.0      5.333333   \n",
      "3                               5.0  5.166667       5.0      5.333333   \n",
      "4                               5.0  5.166667       5.0      5.333333   \n",
      "\n",
      "   pcq_Resilience  pcq_Optimism  chss_ChallengeStressors  \\\n",
      "0        5.333333           5.0                    4.875   \n",
      "1        5.333333           5.0                    4.875   \n",
      "2        5.333333           5.0                    4.875   \n",
      "3        5.333333           5.0                    4.875   \n",
      "4        5.333333           5.0                    4.875   \n",
      "\n",
      "   chss_HindranceStressors  mstressd  \n",
      "0                      3.5       3.0  \n",
      "1                      3.5       1.0  \n",
      "2                      3.5       2.5  \n",
      "3                      3.5       3.0  \n",
      "4                      3.5       2.0  \n",
      "\n",
      "[5 rows x 66 columns]\n"
     ]
    }
   ],
   "source": [
    "print(FITOMBASESTRE.head())"
   ]
  },
  {
   "cell_type": "code",
   "execution_count": 68,
   "id": "69ac3a1e",
   "metadata": {},
   "outputs": [
    {
     "name": "stdout",
     "output_type": "stream",
     "text": [
      "(2989, 66)\n",
      "166\n",
      "(2989, 66)\n",
      "166\n"
     ]
    }
   ],
   "source": [
    "#OMFITBASE + STRE\n",
    "\n",
    "OMFITBASES = OMFITBASE.merge(stre, how = 'inner', on=['participant_id', 'Timestamp'])\n",
    "print(OMFITBASES.shape) #4193, 66 >> 2989, 66\n",
    "print(len(OMFITBASES['participant_id'].unique())) #166\n",
    "\n",
    "#OMFIT + BASESTRE\n",
    "OMFITBASES2 = OMFIT.merge(basestre, how = 'inner', on=['participant_id', 'Timestamp'])\n",
    "print(OMFITBASES2.shape)\n",
    "print(len(OMFITBASES2['participant_id'].unique()))"
   ]
  },
  {
   "cell_type": "code",
   "execution_count": 69,
   "id": "bc4f52ae",
   "metadata": {},
   "outputs": [
    {
     "name": "stdout",
     "output_type": "stream",
     "text": [
      "                            participant_id   Timestamp  AvgHeartRateM  \\\n",
      "0     02581754-36cd-4b23-85ea-bf995c6dec83  2018-04-11      70.316433   \n",
      "1     02581754-36cd-4b23-85ea-bf995c6dec83  2018-04-15      73.011389   \n",
      "2     02581754-36cd-4b23-85ea-bf995c6dec83  2018-04-20      74.730689   \n",
      "3     02581754-36cd-4b23-85ea-bf995c6dec83  2018-04-27      68.301292   \n",
      "4     02581754-36cd-4b23-85ea-bf995c6dec83  2018-04-28      74.278660   \n",
      "...                                    ...         ...            ...   \n",
      "2984  fd79ab30-1199-4619-adbd-577d715d86ce  2018-07-04      90.595129   \n",
      "2985  fd79ab30-1199-4619-adbd-577d715d86ce  2018-07-06      96.746598   \n",
      "2986  fd79ab30-1199-4619-adbd-577d715d86ce  2018-07-10      93.752730   \n",
      "2987  fd79ab30-1199-4619-adbd-577d715d86ce  2018-07-11      90.220491   \n",
      "2988  fd79ab30-1199-4619-adbd-577d715d86ce  2018-07-13      96.468256   \n",
      "\n",
      "      AvgHeartRateS  RMSStdDev_msM  RMSStdDev_msS  AvgBreathingRateM  \\\n",
      "0         11.125610      76.304540      32.446035          18.785335   \n",
      "1         14.791072      83.218582      29.087928          20.301165   \n",
      "2         14.570413      75.876150      34.389385          21.342272   \n",
      "3          9.501632      76.989096      28.195812          19.563948   \n",
      "4          9.673035      77.652106      28.229028          21.107769   \n",
      "...             ...            ...            ...                ...   \n",
      "2984       8.810413     104.116729      35.335269          27.144721   \n",
      "2985       6.936659      96.346846      44.739120          31.041575   \n",
      "2986      11.882704      93.690555      33.125229          27.584403   \n",
      "2987      11.998798      92.149035      39.503013          27.419898   \n",
      "2988      13.444283     106.942826      42.717068          27.823412   \n",
      "\n",
      "      AvgBreathingRateS  AvgGForceM  AvgGForceS  ...  mpfi_Flexibility_Values  \\\n",
      "0              3.148856    0.067580    0.048793  ...                      6.0   \n",
      "1              4.558011    0.087629    0.060141  ...                      6.0   \n",
      "2              4.984909    0.094568    0.065956  ...                      6.0   \n",
      "3              4.021660    0.069768    0.051978  ...                      6.0   \n",
      "4              4.165521    0.097717    0.066683  ...                      6.0   \n",
      "...                 ...         ...         ...  ...                      ...   \n",
      "2984           4.125947    0.126594    0.057942  ...                      6.0   \n",
      "2985           4.351307    0.159497    0.050926  ...                      6.0   \n",
      "2986           3.551268    0.120804    0.052481  ...                      6.0   \n",
      "2987           4.250347    0.123255    0.057742  ...                      6.0   \n",
      "2988           4.453826    0.126841    0.058202  ...                      6.0   \n",
      "\n",
      "      mpfi_Flexibility_CommittedAction       pcq  pcq_Hope  pcq_Efficacy  \\\n",
      "0                                  6.0  4.333333       5.0      3.333333   \n",
      "1                                  6.0  4.333333       5.0      3.333333   \n",
      "2                                  6.0  4.333333       5.0      3.333333   \n",
      "3                                  6.0  4.333333       5.0      3.333333   \n",
      "4                                  6.0  4.333333       5.0      3.333333   \n",
      "...                                ...       ...       ...           ...   \n",
      "2984                               4.0  4.583333       4.5      4.666667   \n",
      "2985                               4.0  4.583333       4.5      4.666667   \n",
      "2986                               4.0  4.583333       4.5      4.666667   \n",
      "2987                               4.0  4.583333       4.5      4.666667   \n",
      "2988                               4.0  4.583333       4.5      4.666667   \n",
      "\n",
      "      pcq_Resilience  pcq_Optimism  chss_ChallengeStressors  \\\n",
      "0           4.000000           5.0                    3.500   \n",
      "1           4.000000           5.0                    3.500   \n",
      "2           4.000000           5.0                    3.500   \n",
      "3           4.000000           5.0                    3.500   \n",
      "4           4.000000           5.0                    3.500   \n",
      "...              ...           ...                      ...   \n",
      "2984        4.333333           5.0                    3.125   \n",
      "2985        4.333333           5.0                    3.125   \n",
      "2986        4.333333           5.0                    3.125   \n",
      "2987        4.333333           5.0                    3.125   \n",
      "2988        4.333333           5.0                    3.125   \n",
      "\n",
      "      chss_HindranceStressors  mstressd  \n",
      "0                       3.000       2.0  \n",
      "1                       3.000       1.0  \n",
      "2                       3.000       1.0  \n",
      "3                       3.000       1.0  \n",
      "4                       3.000       1.0  \n",
      "...                       ...       ...  \n",
      "2984                    2.375       1.0  \n",
      "2985                    2.375       1.5  \n",
      "2986                    2.375       1.0  \n",
      "2987                    2.375       1.0  \n",
      "2988                    2.375       1.0  \n",
      "\n",
      "[2989 rows x 66 columns]\n"
     ]
    }
   ],
   "source": [
    "print(OMFITBASES2)"
   ]
  },
  {
   "cell_type": "code",
   "execution_count": 70,
   "id": "35337a21",
   "metadata": {},
   "outputs": [],
   "source": [
    "os.makedirs('/Users/selinzobu/Desktop/TILES/', exist_ok=True)  \n",
    "OMFITBASES2.to_csv('/Users/selinzobu/Desktop/TILES/111OMFITBASES111.csv') "
   ]
  },
  {
   "cell_type": "code",
   "execution_count": 72,
   "id": "4e2da866",
   "metadata": {},
   "outputs": [
    {
     "name": "stdout",
     "output_type": "stream",
     "text": [
      "fitbit: (12505, 10)\n",
      "OM: (5713, 28)\n",
      "base: (201, 30)\n",
      "stress: (8247, 3)\n",
      "\n",
      "fitOM: (5426, 36)\n",
      "fitstress: (6890, 11)\n",
      "basestress: (7868, 32)\n",
      "\n",
      "fitOMstress: (3126, 37)\n",
      "fitOMBase: (4784, 65)\n",
      "fitOMBASESTRESS: (2989, 66)\n"
     ]
    }
   ],
   "source": [
    "print('fitbit:', fitbit.shape)#fitbit: (12505, 10)\n",
    "print('OM:', OM.shape)#OM: (505945, 18) > (5713, 28)\n",
    "print('base:', base.shape) #base: (201, 30)\n",
    "print('stress:', stre.shape) #stress: (11274, 3) > 8247, 3\n",
    "print()\n",
    "print('fitOM:', fitOM.shape) #fitOM: (4027, 36)...fitOM: (4520, 36)...(5426, 36)\n",
    "print('fitstress:', fitstre.shape) # fitstress: (9476, 11) >> 6890, 11\n",
    "print('basestress:', basestre.shape) # basestress: (10761, 32) >> 7868, 32\n",
    "print()\n",
    "#print('fitbasestress:', fitbasestre.shape) #(9008, 40)... (5530, 40)...(9008, 40)\n",
    "print('fitOMstress:', fitOMSTRE.shape) #fitOMstress: (4382, 37) >> 3126, 37\n",
    "print('fitOMBase:', fitOMBASE.shape) #fitOMBase: (3561, 65)...(3086, 65)...(4784, 65)\n",
    "print('fitOMBASESTRESS:', FITOMBASESTRE.shape) #(2689, 66)...(4193, 66) >> 2989, 66"
   ]
  },
  {
   "cell_type": "code",
   "execution_count": 73,
   "id": "1ef2a285",
   "metadata": {},
   "outputs": [
    {
     "name": "stdout",
     "output_type": "stream",
     "text": [
      "(4784, 65)\n",
      "172\n"
     ]
    }
   ],
   "source": [
    "#BASE + OMFIT\n",
    "\n",
    "baseOMFIT = base.merge(OMFIT, how = 'inner', on=['participant_id'])\n",
    "print(baseOMFIT.shape) #(4784, 65)\n",
    "print(len(baseOMFIT['participant_id'].unique())) #172"
   ]
  },
  {
   "cell_type": "code",
   "execution_count": 74,
   "id": "9c2f865a",
   "metadata": {},
   "outputs": [
    {
     "name": "stdout",
     "output_type": "stream",
     "text": [
      "Index(['participant_id', 'Timestamp', 'AvgHeartRateM', 'AvgHeartRateS',\n",
      "       'RMSStdDev_msM', 'RMSStdDev_msS', 'AvgBreathingRateM',\n",
      "       'AvgBreathingRateS', 'AvgGForceM', 'AvgGForceS', 'AvgXAccel_gM',\n",
      "       'AvgXAccel_gS', 'AvgYAccel_gM', 'AvgYAccel_gS', 'AvgZAccel_gM',\n",
      "       'AvgZAccel_gS', 'SDNN_msM', 'SDNN_msS', 'StdDevBreathingRateM',\n",
      "       'StdDevBreathingRateS', 'StdDevGForceM', 'StdDevGForceS',\n",
      "       'StdDevXAccel_gM', 'StdDevXAccel_gS', 'StdDevYAccel_gM',\n",
      "       'StdDevYAccel_gS', 'StdDevZAccel_gM', 'StdDevZAccel_gS',\n",
      "       'Cardio_caloriesOut', 'Fat Burn_caloriesOut', 'Fat Burn_minutes',\n",
      "       'NumberSteps', 'RestingHeartRate', 'SleepMinutesAsleep',\n",
      "       'SleepMinutesInBed', 'days', 'iod_ID', 'iod_OD', 'ocb', 'irb', 'itp',\n",
      "       'pan_PosAffect', 'pan_NegAffect', 'stai', 'rand_PhysicalFunctioning',\n",
      "       'rand_LimitsPhysicalHealth', 'rand_LimitsEmotionalProblems',\n",
      "       'rand_EmotionalWellbeing', 'rand_SocialFunctioning', 'swls', 'pss',\n",
      "       'mpfi_Flexibility', 'mpfi_Flexibility_Acceptance',\n",
      "       'mpfi_Flexibility_PresentMomentAwareness',\n",
      "       'mpfi_Flexibility_SelfAsContext', 'mpfi_Flexibility_Defusion',\n",
      "       'mpfi_Flexibility_Values', 'mpfi_Flexibility_CommittedAction', 'pcq',\n",
      "       'pcq_Hope', 'pcq_Efficacy', 'pcq_Resilience', 'pcq_Optimism',\n",
      "       'chss_ChallengeStressors', 'chss_HindranceStressors', 'mstressd'],\n",
      "      dtype='object')\n"
     ]
    }
   ],
   "source": [
    "print(OMFITBASES.columns)"
   ]
  },
  {
   "cell_type": "code",
   "execution_count": 75,
   "id": "8011c0fa",
   "metadata": {},
   "outputs": [
    {
     "name": "stdout",
     "output_type": "stream",
     "text": [
      "Index(['Timestamp', 'Cardio_caloriesOut', 'Fat Burn_caloriesOut',\n",
      "       'Fat Burn_minutes', 'NumberSteps', 'RestingHeartRate',\n",
      "       'SleepMinutesAsleep', 'SleepMinutesInBed', 'participant_id', 'days',\n",
      "       'AvgHeartRateM', 'AvgHeartRateS', 'RMSStdDev_msM', 'RMSStdDev_msS',\n",
      "       'AvgBreathingRateM', 'AvgBreathingRateS', 'AvgGForceM', 'AvgGForceS',\n",
      "       'AvgXAccel_gM', 'AvgXAccel_gS', 'AvgYAccel_gM', 'AvgYAccel_gS',\n",
      "       'AvgZAccel_gM', 'AvgZAccel_gS', 'SDNN_msM', 'SDNN_msS',\n",
      "       'StdDevBreathingRateM', 'StdDevBreathingRateS', 'StdDevGForceM',\n",
      "       'StdDevGForceS', 'StdDevXAccel_gM', 'StdDevXAccel_gS',\n",
      "       'StdDevYAccel_gM', 'StdDevYAccel_gS', 'StdDevZAccel_gM',\n",
      "       'StdDevZAccel_gS', 'iod_ID', 'iod_OD', 'ocb', 'irb', 'itp',\n",
      "       'pan_PosAffect', 'pan_NegAffect', 'stai', 'rand_PhysicalFunctioning',\n",
      "       'rand_LimitsPhysicalHealth', 'rand_LimitsEmotionalProblems',\n",
      "       'rand_EmotionalWellbeing', 'rand_SocialFunctioning', 'swls', 'pss',\n",
      "       'mpfi_Flexibility', 'mpfi_Flexibility_Acceptance',\n",
      "       'mpfi_Flexibility_PresentMomentAwareness',\n",
      "       'mpfi_Flexibility_SelfAsContext', 'mpfi_Flexibility_Defusion',\n",
      "       'mpfi_Flexibility_Values', 'mpfi_Flexibility_CommittedAction', 'pcq',\n",
      "       'pcq_Hope', 'pcq_Efficacy', 'pcq_Resilience', 'pcq_Optimism',\n",
      "       'chss_ChallengeStressors', 'chss_HindranceStressors', 'mstressd'],\n",
      "      dtype='object')\n"
     ]
    }
   ],
   "source": [
    "print(FITOMBASESTRE.columns)"
   ]
  },
  {
   "cell_type": "code",
   "execution_count": 76,
   "id": "f1b65c8c",
   "metadata": {},
   "outputs": [
    {
     "name": "stdout",
     "output_type": "stream",
     "text": [
      "       Timestamp  Cardio_caloriesOut  Fat Burn_caloriesOut  Fat Burn_minutes  \\\n",
      "0     2018-04-09             8.17870             242.66684              53.0   \n",
      "1     2018-04-10             8.08248             132.39872              28.0   \n",
      "2     2018-04-12            17.31960              78.32308              19.0   \n",
      "3     2018-04-14            15.39520             435.20306              96.0   \n",
      "4     2018-04-16             0.00000              71.97256              16.0   \n",
      "...          ...                 ...                   ...               ...   \n",
      "2984  2018-06-08            69.09787            1591.90484             462.0   \n",
      "2985  2018-06-09             0.00000             955.96854             290.0   \n",
      "2986  2018-06-13            24.57250            1186.36030             300.0   \n",
      "2987  2018-06-14             6.29056            1009.04514             259.0   \n",
      "2988  2018-06-15             8.05978             788.48238             208.0   \n",
      "\n",
      "      NumberSteps  RestingHeartRate  SleepMinutesAsleep  SleepMinutesInBed  \\\n",
      "0         21086.0              57.0               409.0                461   \n",
      "1         11739.0              59.0               371.0                449   \n",
      "2         10758.0              57.0               406.0                451   \n",
      "3         12736.0              59.0               424.0                464   \n",
      "4         10634.0              58.0               363.0                417   \n",
      "...           ...               ...                 ...                ...   \n",
      "2984      13807.0              65.0               313.0                345   \n",
      "2985       8902.0              67.0               289.0                338   \n",
      "2986      11684.0              62.0               196.0                224   \n",
      "2987      10942.0              64.0               210.0                234   \n",
      "2988       8198.0              64.0               364.0                427   \n",
      "\n",
      "                            participant_id  days  ...  \\\n",
      "0     e6081755-d7f3-4c26-ab40-0709b8ad41ef     0  ...   \n",
      "1     e6081755-d7f3-4c26-ab40-0709b8ad41ef     1  ...   \n",
      "2     e6081755-d7f3-4c26-ab40-0709b8ad41ef     3  ...   \n",
      "3     e6081755-d7f3-4c26-ab40-0709b8ad41ef     5  ...   \n",
      "4     e6081755-d7f3-4c26-ab40-0709b8ad41ef     7  ...   \n",
      "...                                    ...   ...  ...   \n",
      "2984  f983485d-f954-4693-9c2c-981710c06dd0    57  ...   \n",
      "2985  f983485d-f954-4693-9c2c-981710c06dd0    58  ...   \n",
      "2986  f983485d-f954-4693-9c2c-981710c06dd0    62  ...   \n",
      "2987  f983485d-f954-4693-9c2c-981710c06dd0    63  ...   \n",
      "2988  f983485d-f954-4693-9c2c-981710c06dd0    64  ...   \n",
      "\n",
      "      mpfi_Flexibility_Values  mpfi_Flexibility_CommittedAction       pcq  \\\n",
      "0                         5.0                               5.0  5.166667   \n",
      "1                         5.0                               5.0  5.166667   \n",
      "2                         5.0                               5.0  5.166667   \n",
      "3                         5.0                               5.0  5.166667   \n",
      "4                         5.0                               5.0  5.166667   \n",
      "...                       ...                               ...       ...   \n",
      "2984                      5.0                               5.0  5.000000   \n",
      "2985                      5.0                               5.0  5.000000   \n",
      "2986                      5.0                               5.0  5.000000   \n",
      "2987                      5.0                               5.0  5.000000   \n",
      "2988                      5.0                               5.0  5.000000   \n",
      "\n",
      "      pcq_Hope  pcq_Efficacy  pcq_Resilience  pcq_Optimism  \\\n",
      "0          5.0      5.333333        5.333333           5.0   \n",
      "1          5.0      5.333333        5.333333           5.0   \n",
      "2          5.0      5.333333        5.333333           5.0   \n",
      "3          5.0      5.333333        5.333333           5.0   \n",
      "4          5.0      5.333333        5.333333           5.0   \n",
      "...        ...           ...             ...           ...   \n",
      "2984       5.0      5.000000        5.000000           5.0   \n",
      "2985       5.0      5.000000        5.000000           5.0   \n",
      "2986       5.0      5.000000        5.000000           5.0   \n",
      "2987       5.0      5.000000        5.000000           5.0   \n",
      "2988       5.0      5.000000        5.000000           5.0   \n",
      "\n",
      "      chss_ChallengeStressors  chss_HindranceStressors  mstressd  \n",
      "0                       4.875                      3.5       3.0  \n",
      "1                       4.875                      3.5       1.0  \n",
      "2                       4.875                      3.5       2.5  \n",
      "3                       4.875                      3.5       3.0  \n",
      "4                       4.875                      3.5       2.0  \n",
      "...                       ...                      ...       ...  \n",
      "2984                    3.000                      1.5       2.5  \n",
      "2985                    3.000                      1.5       2.0  \n",
      "2986                    3.000                      1.5       2.5  \n",
      "2987                    3.000                      1.5       3.0  \n",
      "2988                    3.000                      1.5       3.0  \n",
      "\n",
      "[2989 rows x 66 columns]\n"
     ]
    }
   ],
   "source": [
    "print(FITOMBASESTRE)"
   ]
  },
  {
   "cell_type": "code",
   "execution_count": null,
   "id": "ce210bc6",
   "metadata": {},
   "outputs": [],
   "source": []
  },
  {
   "cell_type": "code",
   "execution_count": 77,
   "id": "5b5452b8",
   "metadata": {},
   "outputs": [
    {
     "name": "stdout",
     "output_type": "stream",
     "text": [
      "Index(['participant_id', 'Timestamp', 'AvgHeartRateM', 'AvgHeartRateS',\n",
      "       'RMSStdDev_msM', 'RMSStdDev_msS', 'AvgBreathingRateM',\n",
      "       'AvgBreathingRateS', 'AvgGForceM', 'AvgGForceS', 'AvgXAccel_gM',\n",
      "       'AvgXAccel_gS', 'AvgYAccel_gM', 'AvgYAccel_gS', 'AvgZAccel_gM',\n",
      "       'AvgZAccel_gS', 'SDNN_msM', 'SDNN_msS', 'StdDevBreathingRateM',\n",
      "       'StdDevBreathingRateS', 'StdDevGForceM', 'StdDevGForceS',\n",
      "       'StdDevXAccel_gM', 'StdDevXAccel_gS', 'StdDevYAccel_gM',\n",
      "       'StdDevYAccel_gS', 'StdDevZAccel_gM', 'StdDevZAccel_gS',\n",
      "       'Cardio_caloriesOut', 'Fat Burn_caloriesOut', 'Fat Burn_minutes',\n",
      "       'NumberSteps', 'RestingHeartRate', 'SleepMinutesAsleep',\n",
      "       'SleepMinutesInBed', 'days', 'iod_ID', 'iod_OD', 'ocb', 'irb', 'itp',\n",
      "       'pan_PosAffect', 'pan_NegAffect', 'stai', 'rand_PhysicalFunctioning',\n",
      "       'rand_LimitsPhysicalHealth', 'rand_LimitsEmotionalProblems',\n",
      "       'rand_EmotionalWellbeing', 'rand_SocialFunctioning', 'swls', 'pss',\n",
      "       'mpfi_Flexibility', 'mpfi_Flexibility_Acceptance',\n",
      "       'mpfi_Flexibility_PresentMomentAwareness',\n",
      "       'mpfi_Flexibility_SelfAsContext', 'mpfi_Flexibility_Defusion',\n",
      "       'mpfi_Flexibility_Values', 'mpfi_Flexibility_CommittedAction', 'pcq',\n",
      "       'pcq_Hope', 'pcq_Efficacy', 'pcq_Resilience', 'pcq_Optimism',\n",
      "       'chss_ChallengeStressors', 'chss_HindranceStressors', 'mstressd'],\n",
      "      dtype='object')\n",
      "(2989, 66)\n"
     ]
    }
   ],
   "source": [
    "#OMFITBASES2\n",
    "\n",
    "merged = pd.read_csv('/Users/selinzobu/Desktop/TILES/111OMFITBASES111.csv', parse_dates = ['Timestamp'])\n",
    "merged = merged.loc[:, ~merged.columns.str.contains('^Unnamed')]\n",
    "#fitbit[\"Timestamp\"] = pd.to_datetime(fitbit[\"Timestamp\"], utc=True)\n",
    "print(merged.columns)\n",
    "print(merged.shape)"
   ]
  },
  {
   "cell_type": "code",
   "execution_count": 71,
   "id": "09202efd",
   "metadata": {},
   "outputs": [],
   "source": [
    "#print(OMFITBASES2.info())"
   ]
  },
  {
   "cell_type": "code",
   "execution_count": 72,
   "id": "9ded2de8",
   "metadata": {},
   "outputs": [],
   "source": [
    "#print(OMFITBASES2.describe())"
   ]
  },
  {
   "cell_type": "code",
   "execution_count": 78,
   "id": "2f4772e9",
   "metadata": {},
   "outputs": [
    {
     "name": "stdout",
     "output_type": "stream",
     "text": [
      "166\n"
     ]
    }
   ],
   "source": [
    "print(len(merged['participant_id'].unique()))"
   ]
  },
  {
   "cell_type": "code",
   "execution_count": 80,
   "id": "ba595848",
   "metadata": {},
   "outputs": [
    {
     "name": "stdout",
     "output_type": "stream",
     "text": [
      "<class 'pandas.core.series.Series'>\n",
      "46 1\n"
     ]
    }
   ],
   "source": [
    "daypp = merged.groupby(['participant_id'])['Timestamp'].count()\n",
    "print(type(daypp))\n",
    "print(max(daypp), min(daypp)) #66 1 >> 46 1 "
   ]
  },
  {
   "cell_type": "code",
   "execution_count": 81,
   "id": "48137dab",
   "metadata": {},
   "outputs": [
    {
     "name": "stdout",
     "output_type": "stream",
     "text": [
      "<class 'pandas.core.series.Series'>\n"
     ]
    },
    {
     "data": {
      "text/plain": [
       "Index(['participant_id', 'Timestamp'], dtype='object')"
      ]
     },
     "execution_count": 81,
     "metadata": {},
     "output_type": "execute_result"
    }
   ],
   "source": [
    "print(type(daypp))\n",
    "daypp2 = pd.DataFrame(daypp)\n",
    "daypp2.reset_index(level=['participant_id'], inplace=True)\n",
    "daypp2.columns"
   ]
  },
  {
   "cell_type": "code",
   "execution_count": 76,
   "id": "b7c36105",
   "metadata": {},
   "outputs": [],
   "source": [
    "#print(OMFITBASES2[(OMFITBASES2['participant_id'] == '02581754-36cd-4b23-85ea-bf995c6dec83')]['Timestamp'].count())"
   ]
  },
  {
   "cell_type": "code",
   "execution_count": 82,
   "id": "17107818",
   "metadata": {},
   "outputs": [],
   "source": [
    "#Visualize\n",
    "\n",
    "import seaborn as sns\n",
    "import matplotlib.pyplot as plt\n",
    "%matplotlib inline\n",
    "from plotnine.ggplot import ggplot, ggsave"
   ]
  },
  {
   "cell_type": "code",
   "execution_count": 78,
   "id": "d0dfd097",
   "metadata": {},
   "outputs": [],
   "source": [
    "#ggsave(plot = plt, filename = 'MergedPP.png', path = \"/Users/selinzobu/Desktop/TILES/\")"
   ]
  },
  {
   "cell_type": "code",
   "execution_count": 84,
   "id": "43f7a4db",
   "metadata": {},
   "outputs": [
    {
     "data": {
      "image/png": "[encoded data removed]",
      "text/plain": [
       "<Figure size 432x288 with 1 Axes>"
      ]
     },
     "metadata": {},
     "output_type": "display_data"
    }
   ],
   "source": [
    "plt.style.use('ggplot')\n",
    " \n",
    "plt.hist(daypp, edgecolor='black',color='blue', rwidth=0.9, alpha=0.5, bins=30)\n",
    "\n",
    "\n",
    "plt.xlabel('Number of recorded days')\n",
    "plt.ylabel('Frequency')\n",
    " \n",
    "plt.tight_layout()\n",
    " \n",
    "plt.show()\n"
   ]
  },
  {
   "cell_type": "code",
   "execution_count": 85,
   "id": "5a8f91bf",
   "metadata": {},
   "outputs": [
    {
     "data": {
      "image/png": "[encoded data removed]",
      "text/plain": [
       "<Figure size 432x288 with 1 Axes>"
      ]
     },
     "metadata": {},
     "output_type": "display_data"
    }
   ],
   "source": [
    "plt.style.use('ggplot')\n",
    " \n",
    "p = plt.hist(daypp, edgecolor='black',color='black', rwidth=0.9, alpha=0.5, bins=30)\n",
    "\n",
    "plt.xlabel('Number of recorded days')\n",
    "plt.ylabel('Frequency')\n",
    " \n",
    "plt.tight_layout()\n",
    " \n",
    "#w,h=25,10 #set width and height for both screen and file size\n",
    "\n",
    "#this part prints on screen the chart\n",
    "\n",
    "#fig.set_figwidth(w, forward=True)  #screen\n",
    "#fig.set_figheight(h, forward=True) #screen\n",
    "\n",
    "plt.show()"
   ]
  },
  {
   "cell_type": "code",
   "execution_count": 86,
   "id": "0bf68d9e",
   "metadata": {},
   "outputs": [],
   "source": [
    "import matplotlib.pyplot as plt\n",
    "\n",
    "plt.style.use('ggplot')\n",
    "\n",
    "\n",
    "p = plt.hist(daypp, edgecolor='black',color='black', rwidth=0.9, alpha=0.5, bins=30)\n",
    "\n",
    "plt.xlabel('Number of recorded days')\n",
    "plt.ylabel('Frequency')\n",
    " \n",
    "plt.tight_layout()\n",
    "\n",
    "plt.savefig('mergedfreq.png')  \n",
    "plt.close()\n"
   ]
  },
  {
   "cell_type": "code",
   "execution_count": 82,
   "id": "acede64a",
   "metadata": {},
   "outputs": [],
   "source": [
    "#!pip install plotnine"
   ]
  },
  {
   "cell_type": "code",
   "execution_count": 87,
   "id": "35cd1844",
   "metadata": {},
   "outputs": [
    {
     "data": {
      "image/png": "[encoded data removed]",
      "text/plain": [
       "<Figure size 432x288 with 1 Axes>"
      ]
     },
     "metadata": {},
     "output_type": "display_data"
    }
   ],
   "source": [
    "ax = daypp.hist(bins = 30, facecolor='gray')\n",
    "ax.set_xlabel(\"Number of Recorded Days\")\n",
    "ax.set_ylabel(\"Frequency\")\n",
    "ax.figure.savefig('demo-file.png')"
   ]
  },
  {
   "cell_type": "code",
   "execution_count": 88,
   "id": "937cabf7",
   "metadata": {},
   "outputs": [
    {
     "data": {
      "image/png": "[encoded data removed]",
      "text/plain": [
       "<Figure size 432x288 with 1 Axes>"
      ]
     },
     "metadata": {},
     "output_type": "display_data"
    }
   ],
   "source": [
    "import matplotlib.pyplot as plt\n",
    "import matplotlib.image as mpimg\n",
    "image_path = \"/Users/selinzobu/Desktop/TILES/demo-file.png\"\n",
    "image = mpimg.imread(image_path)\n",
    "plt.imshow(image)\n",
    "plt.show()"
   ]
  },
  {
   "cell_type": "code",
   "execution_count": 85,
   "id": "184b2161",
   "metadata": {},
   "outputs": [],
   "source": [
    "#os.makedirs('/Users/selinzobu/Desktop/TILES/', exist_ok=True)  \n",
    "#plt.savefig('/Users/selinzobu/Desktop/TILES/recordeddayfreq.png')"
   ]
  },
  {
   "cell_type": "code",
   "execution_count": 91,
   "id": "3a0353f6",
   "metadata": {},
   "outputs": [
    {
     "name": "stdout",
     "output_type": "stream",
     "text": [
      "<class 'pandas.core.series.Series'>\n",
      "82 3\n",
      "<class 'pandas.core.series.Series'>\n",
      "66 1\n",
      "<class 'pandas.core.series.Series'>\n",
      "50 1\n"
     ]
    }
   ],
   "source": [
    "fitpp = fitbit.groupby(['participant_id'])['Timestamp'].count()\n",
    "print(type(fitpp))\n",
    "print(max(fitpp), min(fitpp)) #82 3\n",
    "OMpp = OM.groupby(['participant_id'])['Timestamp'].count()\n",
    "print(type(OMpp))\n",
    "print(max(OMpp), min(OMpp)) # 66 1 \n",
    "strepp = stre.groupby(['participant_id'])['Timestamp'].count()\n",
    "print(type(strepp))\n",
    "print(max(strepp), min(strepp)) #71 1 > 50 1 "
   ]
  },
  {
   "cell_type": "code",
   "execution_count": 95,
   "id": "da12e917",
   "metadata": {},
   "outputs": [
    {
     "data": {
      "image/png": "[encoded data removed]",
      "text/plain": [
       "<Figure size 432x288 with 1 Axes>"
      ]
     },
     "metadata": {},
     "output_type": "display_data"
    }
   ],
   "source": [
    "plt.style.use('ggplot')\n",
    " \n",
    "plt.hist(fitpp, edgecolor='black',color='blue', rwidth=0.9, alpha=0.5, bins=10,label='Fitbit')\n",
    "plt.hist(OMpp, edgecolor='black',color='red', rwidth=0.9, alpha=0.5, bins=10,label='OMSignal')\n",
    "plt.hist(strepp, edgecolor='black',color='yellow', rwidth=0.9, alpha=0.5, bins=10,label='StressD')\n",
    "\n",
    " \n",
    "plt.legend(loc='upper right')\n",
    " \n",
    "plt.xlabel('Number of recorded days')\n",
    "plt.ylabel('Frequency')\n",
    " \n",
    "plt.tight_layout()\n",
    " \n",
    "plt.show()\n"
   ]
  },
  {
   "cell_type": "code",
   "execution_count": 135,
   "id": "eb923dff",
   "metadata": {},
   "outputs": [],
   "source": [
    "import matplotlib.pyplot as plt\n",
    "\n",
    "plt.style.use('ggplot')\n",
    " \n",
    "plt.hist(fitpp, edgecolor='black',color='blue', rwidth=0.9, alpha=0.5, bins=10,label='Fitbit')\n",
    "plt.hist(OMpp, edgecolor='black',color='red', rwidth=0.9, alpha=0.5, bins=10,label='OMSignal')\n",
    "plt.hist(strepp, edgecolor='black',color='yellow', rwidth=0.9, alpha=0.5, bins=10,label='StressD')\n",
    "\n",
    " \n",
    "plt.legend(loc='upper left')\n",
    " \n",
    "plt.xlabel('Number of recorded days')\n",
    "plt.ylabel('Frequency')\n",
    " \n",
    "plt.tight_layout()\n",
    "\n",
    "plt.savefig('diffmergedfreq.png')  \n",
    "plt.close()"
   ]
  },
  {
   "cell_type": "code",
   "execution_count": 97,
   "id": "284867f5",
   "metadata": {},
   "outputs": [
    {
     "data": {
      "text/html": [
       "<div>\n",
       "<style scoped>\n",
       "    .dataframe tbody tr th:only-of-type {\n",
       "        vertical-align: middle;\n",
       "    }\n",
       "\n",
       "    .dataframe tbody tr th {\n",
       "        vertical-align: top;\n",
       "    }\n",
       "\n",
       "    .dataframe thead th {\n",
       "        text-align: right;\n",
       "    }\n",
       "</style>\n",
       "<table border=\"1\" class=\"dataframe\">\n",
       "  <thead>\n",
       "    <tr style=\"text-align: right;\">\n",
       "      <th></th>\n",
       "      <th>participant_id</th>\n",
       "      <th>Timestamp</th>\n",
       "      <th>mstressd</th>\n",
       "    </tr>\n",
       "  </thead>\n",
       "  <tbody>\n",
       "    <tr>\n",
       "      <th>0</th>\n",
       "      <td>02581754-36cd-4b23-85ea-bf995c6dec83</td>\n",
       "      <td>2018-04-10</td>\n",
       "      <td>2.0</td>\n",
       "    </tr>\n",
       "    <tr>\n",
       "      <th>1</th>\n",
       "      <td>02581754-36cd-4b23-85ea-bf995c6dec83</td>\n",
       "      <td>2018-04-11</td>\n",
       "      <td>2.0</td>\n",
       "    </tr>\n",
       "    <tr>\n",
       "      <th>2</th>\n",
       "      <td>02581754-36cd-4b23-85ea-bf995c6dec83</td>\n",
       "      <td>2018-04-13</td>\n",
       "      <td>1.0</td>\n",
       "    </tr>\n",
       "    <tr>\n",
       "      <th>3</th>\n",
       "      <td>02581754-36cd-4b23-85ea-bf995c6dec83</td>\n",
       "      <td>2018-04-15</td>\n",
       "      <td>1.0</td>\n",
       "    </tr>\n",
       "    <tr>\n",
       "      <th>4</th>\n",
       "      <td>02581754-36cd-4b23-85ea-bf995c6dec83</td>\n",
       "      <td>2018-04-16</td>\n",
       "      <td>1.0</td>\n",
       "    </tr>\n",
       "    <tr>\n",
       "      <th>...</th>\n",
       "      <td>...</td>\n",
       "      <td>...</td>\n",
       "      <td>...</td>\n",
       "    </tr>\n",
       "    <tr>\n",
       "      <th>8242</th>\n",
       "      <td>fdbd8c07-720c-4ae5-a3d8-aad56b54688c</td>\n",
       "      <td>2018-07-08</td>\n",
       "      <td>1.0</td>\n",
       "    </tr>\n",
       "    <tr>\n",
       "      <th>8243</th>\n",
       "      <td>fdbd8c07-720c-4ae5-a3d8-aad56b54688c</td>\n",
       "      <td>2018-07-10</td>\n",
       "      <td>1.5</td>\n",
       "    </tr>\n",
       "    <tr>\n",
       "      <th>8244</th>\n",
       "      <td>fdbd8c07-720c-4ae5-a3d8-aad56b54688c</td>\n",
       "      <td>2018-07-11</td>\n",
       "      <td>1.0</td>\n",
       "    </tr>\n",
       "    <tr>\n",
       "      <th>8245</th>\n",
       "      <td>fdbd8c07-720c-4ae5-a3d8-aad56b54688c</td>\n",
       "      <td>2018-07-13</td>\n",
       "      <td>1.0</td>\n",
       "    </tr>\n",
       "    <tr>\n",
       "      <th>8246</th>\n",
       "      <td>fdbd8c07-720c-4ae5-a3d8-aad56b54688c</td>\n",
       "      <td>2018-07-14</td>\n",
       "      <td>1.0</td>\n",
       "    </tr>\n",
       "  </tbody>\n",
       "</table>\n",
       "<p>8247 rows × 3 columns</p>\n",
       "</div>"
      ],
      "text/plain": [
       "                            participant_id   Timestamp  mstressd\n",
       "0     02581754-36cd-4b23-85ea-bf995c6dec83  2018-04-10       2.0\n",
       "1     02581754-36cd-4b23-85ea-bf995c6dec83  2018-04-11       2.0\n",
       "2     02581754-36cd-4b23-85ea-bf995c6dec83  2018-04-13       1.0\n",
       "3     02581754-36cd-4b23-85ea-bf995c6dec83  2018-04-15       1.0\n",
       "4     02581754-36cd-4b23-85ea-bf995c6dec83  2018-04-16       1.0\n",
       "...                                    ...         ...       ...\n",
       "8242  fdbd8c07-720c-4ae5-a3d8-aad56b54688c  2018-07-08       1.0\n",
       "8243  fdbd8c07-720c-4ae5-a3d8-aad56b54688c  2018-07-10       1.5\n",
       "8244  fdbd8c07-720c-4ae5-a3d8-aad56b54688c  2018-07-11       1.0\n",
       "8245  fdbd8c07-720c-4ae5-a3d8-aad56b54688c  2018-07-13       1.0\n",
       "8246  fdbd8c07-720c-4ae5-a3d8-aad56b54688c  2018-07-14       1.0\n",
       "\n",
       "[8247 rows x 3 columns]"
      ]
     },
     "execution_count": 97,
     "metadata": {},
     "output_type": "execute_result"
    }
   ],
   "source": [
    "stre"
   ]
  },
  {
   "cell_type": "code",
   "execution_count": 99,
   "id": "2dcba829",
   "metadata": {},
   "outputs": [
    {
     "name": "stdout",
     "output_type": "stream",
     "text": [
      "participant_id                        Timestamp \n",
      "02581754-36cd-4b23-85ea-bf995c6dec83  2018-04-10    2.0\n",
      "                                      2018-04-11    2.0\n",
      "                                      2018-04-13    1.0\n",
      "                                      2018-04-15    1.0\n",
      "                                      2018-04-16    1.0\n",
      "                                                   ... \n",
      "fdbd8c07-720c-4ae5-a3d8-aad56b54688c  2018-07-08    1.0\n",
      "                                      2018-07-10    1.5\n",
      "                                      2018-07-11    1.0\n",
      "                                      2018-07-13    1.0\n",
      "                                      2018-07-14    1.0\n",
      "Name: mstressd, Length: 8247, dtype: float64\n",
      "participant_id                        Timestamp \n",
      "02581754-36cd-4b23-85ea-bf995c6dec83  2018-04-10   NaN\n",
      "                                      2018-04-11   NaN\n",
      "                                      2018-04-13   NaN\n",
      "                                      2018-04-15   NaN\n",
      "                                      2018-04-16   NaN\n",
      "                                                    ..\n",
      "fdbd8c07-720c-4ae5-a3d8-aad56b54688c  2018-07-08   NaN\n",
      "                                      2018-07-10   NaN\n",
      "                                      2018-07-11   NaN\n",
      "                                      2018-07-13   NaN\n",
      "                                      2018-07-14   NaN\n",
      "Name: mstressd, Length: 8247, dtype: float64\n",
      "participant_id                        Timestamp \n",
      "02581754-36cd-4b23-85ea-bf995c6dec83  2018-04-10    1\n",
      "                                      2018-04-11    1\n",
      "                                      2018-04-13    1\n",
      "                                      2018-04-15    1\n",
      "                                      2018-04-16    1\n",
      "                                                   ..\n",
      "fdbd8c07-720c-4ae5-a3d8-aad56b54688c  2018-07-08    1\n",
      "                                      2018-07-10    1\n",
      "                                      2018-07-11    1\n",
      "                                      2018-07-13    1\n",
      "                                      2018-07-14    1\n",
      "Name: mstressd, Length: 8247, dtype: int64\n"
     ]
    }
   ],
   "source": [
    "print(stre.groupby(['participant_id', 'Timestamp'])['mstressd'].mean())\n",
    "print(stre.groupby(['participant_id', 'Timestamp'])['mstressd'].std())\n",
    "print(stre.groupby(['participant_id', 'Timestamp'])['mstressd'].count())"
   ]
  },
  {
   "cell_type": "code",
   "execution_count": 102,
   "id": "c51c6fd3",
   "metadata": {},
   "outputs": [
    {
     "data": {
      "text/plain": [
       "participant_id    8247\n",
       "Timestamp         8247\n",
       "mstressd             0\n",
       "dtype: int64"
      ]
     },
     "execution_count": 102,
     "metadata": {},
     "output_type": "execute_result"
    }
   ],
   "source": [
    "# FROM RAW STRESS DATA\n",
    "\n",
    "meanstreppT = stre.groupby(['participant_id', 'Timestamp'])['mstressd'].mean()\n",
    "stdstreppT = stre.groupby(['participant_id', 'Timestamp'])['mstressd'].std()\n",
    "cstreppT = stre.groupby(['participant_id', 'Timestamp'])['mstressd'].count()\n",
    "\n",
    "\n",
    "meanstreppT = pd.DataFrame(meanstreppT)\n",
    "stdstreppT = pd.DataFrame(stdstreppT)\n",
    "cstreppT = pd.DataFrame(cstreppT)\n",
    "\n",
    "meanstreppT.reset_index(level=['participant_id', 'Timestamp'], inplace=True)\n",
    "stdstreppT.reset_index(level=['participant_id', 'Timestamp'], inplace=True)\n",
    "cstreppT.reset_index(level=['participant_id', 'Timestamp'], inplace=True)\n",
    "\n",
    "meanstreppT.columns\n",
    "stdstreppT.notna().sum()"
   ]
  },
  {
   "cell_type": "code",
   "execution_count": 103,
   "id": "2c493252",
   "metadata": {},
   "outputs": [
    {
     "name": "stdout",
     "output_type": "stream",
     "text": [
      "participant_id    0\n",
      "Timestamp         0\n",
      "mstressd          0\n",
      "dtype: int64\n"
     ]
    }
   ],
   "source": [
    "print(cstreppT.isna().sum())\n",
    "#stdstreppT.dropna(how = 'any', inplace = True)"
   ]
  },
  {
   "cell_type": "code",
   "execution_count": 104,
   "id": "f1dfca55",
   "metadata": {},
   "outputs": [
    {
     "name": "stdout",
     "output_type": "stream",
     "text": [
      "participant_id       0\n",
      "Timestamp            0\n",
      "mstressd          8247\n",
      "dtype: int64\n",
      "participant_id    8247\n",
      "Timestamp         8247\n",
      "mstressd             0\n",
      "dtype: int64\n"
     ]
    },
    {
     "data": {
      "text/html": [
       "<div>\n",
       "<style scoped>\n",
       "    .dataframe tbody tr th:only-of-type {\n",
       "        vertical-align: middle;\n",
       "    }\n",
       "\n",
       "    .dataframe tbody tr th {\n",
       "        vertical-align: top;\n",
       "    }\n",
       "\n",
       "    .dataframe thead th {\n",
       "        text-align: right;\n",
       "    }\n",
       "</style>\n",
       "<table border=\"1\" class=\"dataframe\">\n",
       "  <thead>\n",
       "    <tr style=\"text-align: right;\">\n",
       "      <th></th>\n",
       "      <th>participant_id</th>\n",
       "      <th>Timestamp</th>\n",
       "      <th>mstressd</th>\n",
       "    </tr>\n",
       "  </thead>\n",
       "  <tbody>\n",
       "  </tbody>\n",
       "</table>\n",
       "</div>"
      ],
      "text/plain": [
       "Empty DataFrame\n",
       "Columns: [participant_id, Timestamp, mstressd]\n",
       "Index: []"
      ]
     },
     "execution_count": 104,
     "metadata": {},
     "output_type": "execute_result"
    }
   ],
   "source": [
    "print(stdstreppT.isna().sum())\n",
    "print(stdstreppT.notna().sum())\n",
    "stdstreppT.dropna(how = 'any', inplace = True)\n",
    "stdstreppT"
   ]
  },
  {
   "cell_type": "code",
   "execution_count": 105,
   "id": "046ce16c",
   "metadata": {},
   "outputs": [
    {
     "name": "stdout",
     "output_type": "stream",
     "text": [
      "166\n",
      "209\n"
     ]
    }
   ],
   "source": [
    "print(len(merged['participant_id'].unique())) #166\n",
    "print(len(stre['participant_id'].unique())) #209"
   ]
  },
  {
   "cell_type": "code",
   "execution_count": null,
   "id": "c0e2c041",
   "metadata": {},
   "outputs": [],
   "source": []
  },
  {
   "cell_type": "code",
   "execution_count": 108,
   "id": "c95303d2",
   "metadata": {},
   "outputs": [],
   "source": [
    "# FROM THE MERGED DATA SET\n",
    "\n",
    "meanstreppT2 = merged.groupby(['participant_id', 'Timestamp'])['mstressd'].mean()\n",
    "stdstreppT2 = merged.groupby(['participant_id', 'Timestamp'])['mstressd'].std()\n",
    "cstreppT2 = merged.groupby(['participant_id', 'Timestamp'])['mstressd'].count()\n",
    "\n",
    "\n",
    "meanstreppT2 = pd.DataFrame(meanstreppT2)\n",
    "stdstreppT2 = pd.DataFrame(stdstreppT2)\n",
    "cstreppT2 = pd.DataFrame(cstreppT2)\n",
    "\n",
    "\n",
    "meanstreppT2.reset_index(level=['participant_id', 'Timestamp'], inplace=True)\n",
    "meanstreppT2.columns\n",
    "stdstreppT2.reset_index(level=['participant_id', 'Timestamp'], inplace=True)\n",
    "stdstreppT2\n",
    "cstreppT2.reset_index(level=['participant_id', 'Timestamp'], inplace=True)\n"
   ]
  },
  {
   "cell_type": "code",
   "execution_count": 109,
   "id": "3a17199b",
   "metadata": {},
   "outputs": [
    {
     "name": "stdout",
     "output_type": "stream",
     "text": [
      "participant_id       0\n",
      "Timestamp            0\n",
      "mstressd          2979\n",
      "dtype: int64\n",
      "participant_id    2984\n",
      "Timestamp         2984\n",
      "mstressd             5\n",
      "dtype: int64\n"
     ]
    },
    {
     "data": {
      "text/html": [
       "<div>\n",
       "<style scoped>\n",
       "    .dataframe tbody tr th:only-of-type {\n",
       "        vertical-align: middle;\n",
       "    }\n",
       "\n",
       "    .dataframe tbody tr th {\n",
       "        vertical-align: top;\n",
       "    }\n",
       "\n",
       "    .dataframe thead th {\n",
       "        text-align: right;\n",
       "    }\n",
       "</style>\n",
       "<table border=\"1\" class=\"dataframe\">\n",
       "  <thead>\n",
       "    <tr style=\"text-align: right;\">\n",
       "      <th></th>\n",
       "      <th>participant_id</th>\n",
       "      <th>Timestamp</th>\n",
       "      <th>mstressd</th>\n",
       "    </tr>\n",
       "  </thead>\n",
       "  <tbody>\n",
       "    <tr>\n",
       "      <th>2781</th>\n",
       "      <td>f596b3ca-7b25-4632-b986-7b44448d3f2f</td>\n",
       "      <td>2018-03-08</td>\n",
       "      <td>0.0</td>\n",
       "    </tr>\n",
       "    <tr>\n",
       "      <th>2782</th>\n",
       "      <td>f596b3ca-7b25-4632-b986-7b44448d3f2f</td>\n",
       "      <td>2018-03-16</td>\n",
       "      <td>0.0</td>\n",
       "    </tr>\n",
       "    <tr>\n",
       "      <th>2783</th>\n",
       "      <td>f596b3ca-7b25-4632-b986-7b44448d3f2f</td>\n",
       "      <td>2018-03-21</td>\n",
       "      <td>0.0</td>\n",
       "    </tr>\n",
       "    <tr>\n",
       "      <th>2784</th>\n",
       "      <td>f596b3ca-7b25-4632-b986-7b44448d3f2f</td>\n",
       "      <td>2018-03-23</td>\n",
       "      <td>0.0</td>\n",
       "    </tr>\n",
       "    <tr>\n",
       "      <th>2785</th>\n",
       "      <td>f596b3ca-7b25-4632-b986-7b44448d3f2f</td>\n",
       "      <td>2018-03-24</td>\n",
       "      <td>0.0</td>\n",
       "    </tr>\n",
       "  </tbody>\n",
       "</table>\n",
       "</div>"
      ],
      "text/plain": [
       "                            participant_id  Timestamp  mstressd\n",
       "2781  f596b3ca-7b25-4632-b986-7b44448d3f2f 2018-03-08       0.0\n",
       "2782  f596b3ca-7b25-4632-b986-7b44448d3f2f 2018-03-16       0.0\n",
       "2783  f596b3ca-7b25-4632-b986-7b44448d3f2f 2018-03-21       0.0\n",
       "2784  f596b3ca-7b25-4632-b986-7b44448d3f2f 2018-03-23       0.0\n",
       "2785  f596b3ca-7b25-4632-b986-7b44448d3f2f 2018-03-24       0.0"
      ]
     },
     "execution_count": 109,
     "metadata": {},
     "output_type": "execute_result"
    }
   ],
   "source": [
    "print(stdstreppT2.isna().sum())\n",
    "print(stdstreppT2.notna().sum())\n",
    "stdstreppT2.dropna(how = 'any', inplace = True)\n",
    "stdstreppT2"
   ]
  },
  {
   "cell_type": "code",
   "execution_count": 110,
   "id": "2158b105",
   "metadata": {},
   "outputs": [
    {
     "name": "stdout",
     "output_type": "stream",
     "text": [
      "129\n",
      "132\n"
     ]
    }
   ],
   "source": [
    "print(len(meanstreppT2['Timestamp'].unique())) #129\n",
    "print(len(meanstreppT['Timestamp'].unique())) #132"
   ]
  },
  {
   "cell_type": "code",
   "execution_count": 114,
   "id": "24823a89",
   "metadata": {},
   "outputs": [
    {
     "name": "stdout",
     "output_type": "stream",
     "text": [
      "1.8042318418818963\n"
     ]
    },
    {
     "data": {
      "image/png": "[encoded data removed]",
      "text/plain": [
       "<Figure size 360x360 with 1 Axes>"
      ]
     },
     "metadata": {},
     "output_type": "display_data"
    }
   ],
   "source": [
    "sns.displot(stre, x=\"mstressd\", kind=\"kde\")\n",
    "print((stre['mstressd'].mean())) #1.8092957246762462 >>1.8042318418818963"
   ]
  },
  {
   "cell_type": "code",
   "execution_count": 115,
   "id": "0771de88",
   "metadata": {},
   "outputs": [
    {
     "name": "stdout",
     "output_type": "stream",
     "text": [
      "1.913683506189361\n"
     ]
    },
    {
     "data": {
      "image/png": "[encoded data removed]",
      "text/plain": [
       "<Figure size 360x360 with 1 Axes>"
      ]
     },
     "metadata": {},
     "output_type": "display_data"
    }
   ],
   "source": [
    "sns.displot(merged, x=\"mstressd\", kind=\"kde\")\n",
    "print(merged['mstressd'].mean()) #1.913683506189361"
   ]
  },
  {
   "cell_type": "code",
   "execution_count": 116,
   "id": "761861cc",
   "metadata": {},
   "outputs": [
    {
     "name": "stdout",
     "output_type": "stream",
     "text": [
      "count    8247.000000\n",
      "mean        1.804232\n",
      "std         0.901442\n",
      "min         1.000000\n",
      "25%         1.000000\n",
      "50%         1.500000\n",
      "75%         2.500000\n",
      "max         5.000000\n",
      "Name: mstressd, dtype: float64\n",
      "1.5\n",
      "\n",
      "count    2989.000000\n",
      "mean        1.913684\n",
      "std         0.888765\n",
      "min         1.000000\n",
      "25%         1.000000\n",
      "50%         2.000000\n",
      "75%         2.500000\n",
      "max         5.000000\n",
      "Name: mstressd, dtype: float64\n",
      "2.0\n"
     ]
    }
   ],
   "source": [
    "print(stre['mstressd'].describe())\n",
    "print(stre['mstressd'].median())\n",
    "print()\n",
    "print(merged['mstressd'].describe())\n",
    "print(merged['mstressd'].median())"
   ]
  },
  {
   "cell_type": "code",
   "execution_count": null,
   "id": "d7205417",
   "metadata": {},
   "outputs": [],
   "source": []
  },
  {
   "cell_type": "code",
   "execution_count": null,
   "id": "2bd448a6",
   "metadata": {},
   "outputs": [],
   "source": []
  },
  {
   "cell_type": "code",
   "execution_count": null,
   "id": "180f447a",
   "metadata": {},
   "outputs": [],
   "source": []
  },
  {
   "cell_type": "code",
   "execution_count": 140,
   "id": "ffb29287",
   "metadata": {
    "scrolled": true
   },
   "outputs": [
    {
     "data": {
      "image/png": "[encoded data removed]",
      "text/plain": [
       "<Figure size 432x288 with 1 Axes>"
      ]
     },
     "metadata": {},
     "output_type": "display_data"
    }
   ],
   "source": [
    "plt.style.use('ggplot')\n",
    " \n",
    "plt.hist(meanstreppT['mstressd'], edgecolor='black',color='blue', rwidth=0.9, alpha=0.5, bins=8,label='Raw data')\n",
    "plt.hist(meanstreppT2['mstressd'], edgecolor='black',color='yellow', rwidth=0.9, alpha=0.5, bins=8,label='Merged data')\n",
    "\n",
    " \n",
    "plt.legend(loc='upper right')\n",
    " \n",
    "plt.xlabel('Mean stressd score')\n",
    "plt.ylabel('Frequency')\n",
    " \n",
    "plt.tight_layout()\n",
    " \n",
    "plt.savefig('meanstresfreq.png')  \n",
    "\n",
    "plt.show()\n"
   ]
  },
  {
   "cell_type": "code",
   "execution_count": null,
   "id": "cbc1e71a",
   "metadata": {},
   "outputs": [],
   "source": []
  },
  {
   "cell_type": "code",
   "execution_count": 141,
   "id": "50f71bec",
   "metadata": {},
   "outputs": [
    {
     "data": {
      "image/png": "[encoded data removed]",
      "text/plain": [
       "<Figure size 432x288 with 1 Axes>"
      ]
     },
     "metadata": {},
     "output_type": "display_data"
    }
   ],
   "source": [
    "plt.style.use('ggplot')\n",
    " \n",
    "plt.hist(meanstreppT['mstressd'], edgecolor='black',color='blue', rwidth=0.9, alpha=0.5, bins=8,label='Raw data')\n",
    "plt.hist(meanstreppT2['mstressd'], edgecolor='black',color='yellow', rwidth=0.9, alpha=0.5, bins=8,label='Merged data')\n",
    "\n",
    " \n",
    "plt.legend(loc='upper right')\n",
    " \n",
    "plt.xlabel('mean stressd score')\n",
    "plt.ylabel('Frequency')\n",
    " \n",
    "plt.tight_layout()\n",
    " \n",
    "plt.show()\n"
   ]
  },
  {
   "cell_type": "code",
   "execution_count": null,
   "id": "1439731f",
   "metadata": {},
   "outputs": [],
   "source": []
  },
  {
   "cell_type": "code",
   "execution_count": 126,
   "id": "3a6f0112",
   "metadata": {},
   "outputs": [
    {
     "name": "stdout",
     "output_type": "stream",
     "text": [
      "1.0    1110\n",
      "2.0     782\n",
      "3.0     553\n",
      "1.5     199\n",
      "2.5     190\n",
      "4.0      90\n",
      "3.5      47\n",
      "5.0      16\n",
      "4.5       2\n",
      "Name: mstressd, dtype: int64\n"
     ]
    },
    {
     "data": {
      "text/plain": [
       "'1.0    1110\\n2.0     782\\n3.0     553\\n1.5     199\\n2.5     190\\n4.0      90\\n3.5      47\\n5.0      16\\n4.5       2'"
      ]
     },
     "execution_count": 126,
     "metadata": {},
     "output_type": "execute_result"
    }
   ],
   "source": [
    "by_score = merged['mstressd'].value_counts()\n",
    "print(by_score)\n",
    "\n",
    "'''1.0    1819\n",
    "   2.0    1153\n",
    "   3.0     991\n",
    "   4.0     185\n",
    "   5.0      45'''\n",
    "\n",
    "\n",
    "'''1.0    1110\n",
    "2.0     782\n",
    "3.0     553\n",
    "1.5     199\n",
    "2.5     190\n",
    "4.0      90\n",
    "3.5      47\n",
    "5.0      16\n",
    "4.5       2'''"
   ]
  },
  {
   "cell_type": "code",
   "execution_count": null,
   "id": "cb332aeb",
   "metadata": {},
   "outputs": [],
   "source": []
  },
  {
   "cell_type": "code",
   "execution_count": 131,
   "id": "49cf1195",
   "metadata": {},
   "outputs": [
    {
     "name": "stdout",
     "output_type": "stream",
     "text": [
      "mstressd\n",
      "1.0    1110\n",
      "1.5     199\n",
      "2.0     782\n",
      "2.5     190\n",
      "3.0     553\n",
      "3.5      47\n",
      "4.0      90\n",
      "4.5       2\n",
      "5.0      16\n",
      "Name: Timestamp, dtype: int64\n"
     ]
    }
   ],
   "source": [
    "a = merged.groupby('mstressd')['Timestamp'].count()\n",
    "print(a)"
   ]
  },
  {
   "cell_type": "code",
   "execution_count": 134,
   "id": "27049e19",
   "metadata": {},
   "outputs": [
    {
     "data": {
      "image/png": "[encoded data removed]",
      "text/plain": [
       "<Figure size 432x288 with 1 Axes>"
      ]
     },
     "metadata": {},
     "output_type": "display_data"
    }
   ],
   "source": [
    "plt.style.use('ggplot')\n",
    " \n",
    "plt.hist(merged['mstressd'], edgecolor='black',color='blue', rwidth=0.9, alpha=0.5, bins=8)\n",
    "  \n",
    "plt.xlabel('stressd score')\n",
    "plt.ylabel('Frequency')\n",
    " \n",
    "plt.tight_layout()\n",
    " \n",
    "plt.show()"
   ]
  },
  {
   "cell_type": "code",
   "execution_count": 103,
   "id": "320b4bd0",
   "metadata": {},
   "outputs": [
    {
     "data": {
      "image/png": "[encoded data removed]",
      "text/plain": [
       "<Figure size 432x288 with 1 Axes>"
      ]
     },
     "metadata": {
      "needs_background": "light"
     },
     "output_type": "display_data"
    }
   ],
   "source": [
    "import seaborn as sns\n",
    "import matplotlib.pyplot as plt\n",
    "%matplotlib inline\n",
    "\n",
    "#sns_plot = sns.countplot(x = 'stressd', data = merged)\n",
    "\n",
    "#sns_plot.figure.savefig(\"stresscount.png\")"
   ]
  },
  {
   "cell_type": "code",
   "execution_count": null,
   "id": "e730ea7a",
   "metadata": {},
   "outputs": [],
   "source": []
  },
  {
   "cell_type": "code",
   "execution_count": null,
   "id": "bfb1e979",
   "metadata": {},
   "outputs": [],
   "source": []
  }
 ],
 "metadata": {
  "kernelspec": {
   "display_name": "Python 3 (ipykernel)",
   "language": "python",
   "name": "python3"
  },
  "language_info": {
   "codemirror_mode": {
    "name": "ipython",
    "version": 3
   },
   "file_extension": ".py",
   "mimetype": "text/x-python",
   "name": "python",
   "nbconvert_exporter": "python",
   "pygments_lexer": "ipython3",
   "version": "3.9.7"
  }
 },
 "nbformat": 4,
 "nbformat_minor": 5
}
